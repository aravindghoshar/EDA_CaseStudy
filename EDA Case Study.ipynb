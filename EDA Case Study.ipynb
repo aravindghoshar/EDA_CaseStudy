{
 "cells": [
  {
   "cell_type": "code",
   "execution_count": 72,
   "metadata": {},
   "outputs": [],
   "source": [
    "import pandas as pd\n",
    "import matplotlib.pyplot as plt\n",
    "import seaborn as sns\n",
    "import numpy as np"
   ]
  },
  {
   "cell_type": "code",
   "execution_count": 22,
   "metadata": {},
   "outputs": [],
   "source": [
    "df_app= pd.read_csv('application_data.csv')"
   ]
  },
  {
   "cell_type": "code",
   "execution_count": 3,
   "metadata": {},
   "outputs": [
    {
     "data": {
      "text/html": [
       "<div>\n",
       "<style scoped>\n",
       "    .dataframe tbody tr th:only-of-type {\n",
       "        vertical-align: middle;\n",
       "    }\n",
       "\n",
       "    .dataframe tbody tr th {\n",
       "        vertical-align: top;\n",
       "    }\n",
       "\n",
       "    .dataframe thead th {\n",
       "        text-align: right;\n",
       "    }\n",
       "</style>\n",
       "<table border=\"1\" class=\"dataframe\">\n",
       "  <thead>\n",
       "    <tr style=\"text-align: right;\">\n",
       "      <th></th>\n",
       "      <th>SK_ID_CURR</th>\n",
       "      <th>TARGET</th>\n",
       "      <th>NAME_CONTRACT_TYPE</th>\n",
       "      <th>CODE_GENDER</th>\n",
       "      <th>FLAG_OWN_CAR</th>\n",
       "      <th>FLAG_OWN_REALTY</th>\n",
       "      <th>CNT_CHILDREN</th>\n",
       "      <th>AMT_INCOME_TOTAL</th>\n",
       "      <th>AMT_CREDIT</th>\n",
       "      <th>AMT_ANNUITY</th>\n",
       "      <th>...</th>\n",
       "      <th>FLAG_DOCUMENT_18</th>\n",
       "      <th>FLAG_DOCUMENT_19</th>\n",
       "      <th>FLAG_DOCUMENT_20</th>\n",
       "      <th>FLAG_DOCUMENT_21</th>\n",
       "      <th>AMT_REQ_CREDIT_BUREAU_HOUR</th>\n",
       "      <th>AMT_REQ_CREDIT_BUREAU_DAY</th>\n",
       "      <th>AMT_REQ_CREDIT_BUREAU_WEEK</th>\n",
       "      <th>AMT_REQ_CREDIT_BUREAU_MON</th>\n",
       "      <th>AMT_REQ_CREDIT_BUREAU_QRT</th>\n",
       "      <th>AMT_REQ_CREDIT_BUREAU_YEAR</th>\n",
       "    </tr>\n",
       "  </thead>\n",
       "  <tbody>\n",
       "    <tr>\n",
       "      <th>0</th>\n",
       "      <td>100002</td>\n",
       "      <td>1</td>\n",
       "      <td>Cash loans</td>\n",
       "      <td>M</td>\n",
       "      <td>N</td>\n",
       "      <td>Y</td>\n",
       "      <td>0</td>\n",
       "      <td>202500.0</td>\n",
       "      <td>406597.5</td>\n",
       "      <td>24700.5</td>\n",
       "      <td>...</td>\n",
       "      <td>0</td>\n",
       "      <td>0</td>\n",
       "      <td>0</td>\n",
       "      <td>0</td>\n",
       "      <td>0.0</td>\n",
       "      <td>0.0</td>\n",
       "      <td>0.0</td>\n",
       "      <td>0.0</td>\n",
       "      <td>0.0</td>\n",
       "      <td>1.0</td>\n",
       "    </tr>\n",
       "    <tr>\n",
       "      <th>1</th>\n",
       "      <td>100003</td>\n",
       "      <td>0</td>\n",
       "      <td>Cash loans</td>\n",
       "      <td>F</td>\n",
       "      <td>N</td>\n",
       "      <td>N</td>\n",
       "      <td>0</td>\n",
       "      <td>270000.0</td>\n",
       "      <td>1293502.5</td>\n",
       "      <td>35698.5</td>\n",
       "      <td>...</td>\n",
       "      <td>0</td>\n",
       "      <td>0</td>\n",
       "      <td>0</td>\n",
       "      <td>0</td>\n",
       "      <td>0.0</td>\n",
       "      <td>0.0</td>\n",
       "      <td>0.0</td>\n",
       "      <td>0.0</td>\n",
       "      <td>0.0</td>\n",
       "      <td>0.0</td>\n",
       "    </tr>\n",
       "    <tr>\n",
       "      <th>2</th>\n",
       "      <td>100004</td>\n",
       "      <td>0</td>\n",
       "      <td>Revolving loans</td>\n",
       "      <td>M</td>\n",
       "      <td>Y</td>\n",
       "      <td>Y</td>\n",
       "      <td>0</td>\n",
       "      <td>67500.0</td>\n",
       "      <td>135000.0</td>\n",
       "      <td>6750.0</td>\n",
       "      <td>...</td>\n",
       "      <td>0</td>\n",
       "      <td>0</td>\n",
       "      <td>0</td>\n",
       "      <td>0</td>\n",
       "      <td>0.0</td>\n",
       "      <td>0.0</td>\n",
       "      <td>0.0</td>\n",
       "      <td>0.0</td>\n",
       "      <td>0.0</td>\n",
       "      <td>0.0</td>\n",
       "    </tr>\n",
       "    <tr>\n",
       "      <th>3</th>\n",
       "      <td>100006</td>\n",
       "      <td>0</td>\n",
       "      <td>Cash loans</td>\n",
       "      <td>F</td>\n",
       "      <td>N</td>\n",
       "      <td>Y</td>\n",
       "      <td>0</td>\n",
       "      <td>135000.0</td>\n",
       "      <td>312682.5</td>\n",
       "      <td>29686.5</td>\n",
       "      <td>...</td>\n",
       "      <td>0</td>\n",
       "      <td>0</td>\n",
       "      <td>0</td>\n",
       "      <td>0</td>\n",
       "      <td>NaN</td>\n",
       "      <td>NaN</td>\n",
       "      <td>NaN</td>\n",
       "      <td>NaN</td>\n",
       "      <td>NaN</td>\n",
       "      <td>NaN</td>\n",
       "    </tr>\n",
       "    <tr>\n",
       "      <th>4</th>\n",
       "      <td>100007</td>\n",
       "      <td>0</td>\n",
       "      <td>Cash loans</td>\n",
       "      <td>M</td>\n",
       "      <td>N</td>\n",
       "      <td>Y</td>\n",
       "      <td>0</td>\n",
       "      <td>121500.0</td>\n",
       "      <td>513000.0</td>\n",
       "      <td>21865.5</td>\n",
       "      <td>...</td>\n",
       "      <td>0</td>\n",
       "      <td>0</td>\n",
       "      <td>0</td>\n",
       "      <td>0</td>\n",
       "      <td>0.0</td>\n",
       "      <td>0.0</td>\n",
       "      <td>0.0</td>\n",
       "      <td>0.0</td>\n",
       "      <td>0.0</td>\n",
       "      <td>0.0</td>\n",
       "    </tr>\n",
       "  </tbody>\n",
       "</table>\n",
       "<p>5 rows × 122 columns</p>\n",
       "</div>"
      ],
      "text/plain": [
       "   SK_ID_CURR  TARGET NAME_CONTRACT_TYPE CODE_GENDER FLAG_OWN_CAR  \\\n",
       "0      100002       1         Cash loans           M            N   \n",
       "1      100003       0         Cash loans           F            N   \n",
       "2      100004       0    Revolving loans           M            Y   \n",
       "3      100006       0         Cash loans           F            N   \n",
       "4      100007       0         Cash loans           M            N   \n",
       "\n",
       "  FLAG_OWN_REALTY  CNT_CHILDREN  AMT_INCOME_TOTAL  AMT_CREDIT  AMT_ANNUITY  \\\n",
       "0               Y             0          202500.0    406597.5      24700.5   \n",
       "1               N             0          270000.0   1293502.5      35698.5   \n",
       "2               Y             0           67500.0    135000.0       6750.0   \n",
       "3               Y             0          135000.0    312682.5      29686.5   \n",
       "4               Y             0          121500.0    513000.0      21865.5   \n",
       "\n",
       "   ...  FLAG_DOCUMENT_18 FLAG_DOCUMENT_19 FLAG_DOCUMENT_20 FLAG_DOCUMENT_21  \\\n",
       "0  ...                 0                0                0                0   \n",
       "1  ...                 0                0                0                0   \n",
       "2  ...                 0                0                0                0   \n",
       "3  ...                 0                0                0                0   \n",
       "4  ...                 0                0                0                0   \n",
       "\n",
       "  AMT_REQ_CREDIT_BUREAU_HOUR AMT_REQ_CREDIT_BUREAU_DAY  \\\n",
       "0                        0.0                       0.0   \n",
       "1                        0.0                       0.0   \n",
       "2                        0.0                       0.0   \n",
       "3                        NaN                       NaN   \n",
       "4                        0.0                       0.0   \n",
       "\n",
       "   AMT_REQ_CREDIT_BUREAU_WEEK  AMT_REQ_CREDIT_BUREAU_MON  \\\n",
       "0                         0.0                        0.0   \n",
       "1                         0.0                        0.0   \n",
       "2                         0.0                        0.0   \n",
       "3                         NaN                        NaN   \n",
       "4                         0.0                        0.0   \n",
       "\n",
       "   AMT_REQ_CREDIT_BUREAU_QRT  AMT_REQ_CREDIT_BUREAU_YEAR  \n",
       "0                        0.0                         1.0  \n",
       "1                        0.0                         0.0  \n",
       "2                        0.0                         0.0  \n",
       "3                        NaN                         NaN  \n",
       "4                        0.0                         0.0  \n",
       "\n",
       "[5 rows x 122 columns]"
      ]
     },
     "execution_count": 3,
     "metadata": {},
     "output_type": "execute_result"
    }
   ],
   "source": [
    "df_app.head()"
   ]
  },
  {
   "cell_type": "code",
   "execution_count": 5,
   "metadata": {},
   "outputs": [
    {
     "data": {
      "text/plain": [
       "(307511, 122)"
      ]
     },
     "execution_count": 5,
     "metadata": {},
     "output_type": "execute_result"
    }
   ],
   "source": [
    "df_app.shape"
   ]
  },
  {
   "cell_type": "code",
   "execution_count": 6,
   "metadata": {},
   "outputs": [
    {
     "name": "stdout",
     "output_type": "stream",
     "text": [
      "<class 'pandas.core.frame.DataFrame'>\n",
      "RangeIndex: 307511 entries, 0 to 307510\n",
      "Data columns (total 122 columns):\n",
      " #   Column                        Dtype  \n",
      "---  ------                        -----  \n",
      " 0   SK_ID_CURR                    int64  \n",
      " 1   TARGET                        int64  \n",
      " 2   NAME_CONTRACT_TYPE            object \n",
      " 3   CODE_GENDER                   object \n",
      " 4   FLAG_OWN_CAR                  object \n",
      " 5   FLAG_OWN_REALTY               object \n",
      " 6   CNT_CHILDREN                  int64  \n",
      " 7   AMT_INCOME_TOTAL              float64\n",
      " 8   AMT_CREDIT                    float64\n",
      " 9   AMT_ANNUITY                   float64\n",
      " 10  AMT_GOODS_PRICE               float64\n",
      " 11  NAME_TYPE_SUITE               object \n",
      " 12  NAME_INCOME_TYPE              object \n",
      " 13  NAME_EDUCATION_TYPE           object \n",
      " 14  NAME_FAMILY_STATUS            object \n",
      " 15  NAME_HOUSING_TYPE             object \n",
      " 16  REGION_POPULATION_RELATIVE    float64\n",
      " 17  DAYS_BIRTH                    int64  \n",
      " 18  DAYS_EMPLOYED                 int64  \n",
      " 19  DAYS_REGISTRATION             float64\n",
      " 20  DAYS_ID_PUBLISH               int64  \n",
      " 21  OWN_CAR_AGE                   float64\n",
      " 22  FLAG_MOBIL                    int64  \n",
      " 23  FLAG_EMP_PHONE                int64  \n",
      " 24  FLAG_WORK_PHONE               int64  \n",
      " 25  FLAG_CONT_MOBILE              int64  \n",
      " 26  FLAG_PHONE                    int64  \n",
      " 27  FLAG_EMAIL                    int64  \n",
      " 28  OCCUPATION_TYPE               object \n",
      " 29  CNT_FAM_MEMBERS               float64\n",
      " 30  REGION_RATING_CLIENT          int64  \n",
      " 31  REGION_RATING_CLIENT_W_CITY   int64  \n",
      " 32  WEEKDAY_APPR_PROCESS_START    object \n",
      " 33  HOUR_APPR_PROCESS_START       int64  \n",
      " 34  REG_REGION_NOT_LIVE_REGION    int64  \n",
      " 35  REG_REGION_NOT_WORK_REGION    int64  \n",
      " 36  LIVE_REGION_NOT_WORK_REGION   int64  \n",
      " 37  REG_CITY_NOT_LIVE_CITY        int64  \n",
      " 38  REG_CITY_NOT_WORK_CITY        int64  \n",
      " 39  LIVE_CITY_NOT_WORK_CITY       int64  \n",
      " 40  ORGANIZATION_TYPE             object \n",
      " 41  EXT_SOURCE_1                  float64\n",
      " 42  EXT_SOURCE_2                  float64\n",
      " 43  EXT_SOURCE_3                  float64\n",
      " 44  APARTMENTS_AVG                float64\n",
      " 45  BASEMENTAREA_AVG              float64\n",
      " 46  YEARS_BEGINEXPLUATATION_AVG   float64\n",
      " 47  YEARS_BUILD_AVG               float64\n",
      " 48  COMMONAREA_AVG                float64\n",
      " 49  ELEVATORS_AVG                 float64\n",
      " 50  ENTRANCES_AVG                 float64\n",
      " 51  FLOORSMAX_AVG                 float64\n",
      " 52  FLOORSMIN_AVG                 float64\n",
      " 53  LANDAREA_AVG                  float64\n",
      " 54  LIVINGAPARTMENTS_AVG          float64\n",
      " 55  LIVINGAREA_AVG                float64\n",
      " 56  NONLIVINGAPARTMENTS_AVG       float64\n",
      " 57  NONLIVINGAREA_AVG             float64\n",
      " 58  APARTMENTS_MODE               float64\n",
      " 59  BASEMENTAREA_MODE             float64\n",
      " 60  YEARS_BEGINEXPLUATATION_MODE  float64\n",
      " 61  YEARS_BUILD_MODE              float64\n",
      " 62  COMMONAREA_MODE               float64\n",
      " 63  ELEVATORS_MODE                float64\n",
      " 64  ENTRANCES_MODE                float64\n",
      " 65  FLOORSMAX_MODE                float64\n",
      " 66  FLOORSMIN_MODE                float64\n",
      " 67  LANDAREA_MODE                 float64\n",
      " 68  LIVINGAPARTMENTS_MODE         float64\n",
      " 69  LIVINGAREA_MODE               float64\n",
      " 70  NONLIVINGAPARTMENTS_MODE      float64\n",
      " 71  NONLIVINGAREA_MODE            float64\n",
      " 72  APARTMENTS_MEDI               float64\n",
      " 73  BASEMENTAREA_MEDI             float64\n",
      " 74  YEARS_BEGINEXPLUATATION_MEDI  float64\n",
      " 75  YEARS_BUILD_MEDI              float64\n",
      " 76  COMMONAREA_MEDI               float64\n",
      " 77  ELEVATORS_MEDI                float64\n",
      " 78  ENTRANCES_MEDI                float64\n",
      " 79  FLOORSMAX_MEDI                float64\n",
      " 80  FLOORSMIN_MEDI                float64\n",
      " 81  LANDAREA_MEDI                 float64\n",
      " 82  LIVINGAPARTMENTS_MEDI         float64\n",
      " 83  LIVINGAREA_MEDI               float64\n",
      " 84  NONLIVINGAPARTMENTS_MEDI      float64\n",
      " 85  NONLIVINGAREA_MEDI            float64\n",
      " 86  FONDKAPREMONT_MODE            object \n",
      " 87  HOUSETYPE_MODE                object \n",
      " 88  TOTALAREA_MODE                float64\n",
      " 89  WALLSMATERIAL_MODE            object \n",
      " 90  EMERGENCYSTATE_MODE           object \n",
      " 91  OBS_30_CNT_SOCIAL_CIRCLE      float64\n",
      " 92  DEF_30_CNT_SOCIAL_CIRCLE      float64\n",
      " 93  OBS_60_CNT_SOCIAL_CIRCLE      float64\n",
      " 94  DEF_60_CNT_SOCIAL_CIRCLE      float64\n",
      " 95  DAYS_LAST_PHONE_CHANGE        float64\n",
      " 96  FLAG_DOCUMENT_2               int64  \n",
      " 97  FLAG_DOCUMENT_3               int64  \n",
      " 98  FLAG_DOCUMENT_4               int64  \n",
      " 99  FLAG_DOCUMENT_5               int64  \n",
      " 100 FLAG_DOCUMENT_6               int64  \n",
      " 101 FLAG_DOCUMENT_7               int64  \n",
      " 102 FLAG_DOCUMENT_8               int64  \n",
      " 103 FLAG_DOCUMENT_9               int64  \n",
      " 104 FLAG_DOCUMENT_10              int64  \n",
      " 105 FLAG_DOCUMENT_11              int64  \n",
      " 106 FLAG_DOCUMENT_12              int64  \n",
      " 107 FLAG_DOCUMENT_13              int64  \n",
      " 108 FLAG_DOCUMENT_14              int64  \n",
      " 109 FLAG_DOCUMENT_15              int64  \n",
      " 110 FLAG_DOCUMENT_16              int64  \n",
      " 111 FLAG_DOCUMENT_17              int64  \n",
      " 112 FLAG_DOCUMENT_18              int64  \n",
      " 113 FLAG_DOCUMENT_19              int64  \n",
      " 114 FLAG_DOCUMENT_20              int64  \n",
      " 115 FLAG_DOCUMENT_21              int64  \n",
      " 116 AMT_REQ_CREDIT_BUREAU_HOUR    float64\n",
      " 117 AMT_REQ_CREDIT_BUREAU_DAY     float64\n",
      " 118 AMT_REQ_CREDIT_BUREAU_WEEK    float64\n",
      " 119 AMT_REQ_CREDIT_BUREAU_MON     float64\n",
      " 120 AMT_REQ_CREDIT_BUREAU_QRT     float64\n",
      " 121 AMT_REQ_CREDIT_BUREAU_YEAR    float64\n",
      "dtypes: float64(65), int64(41), object(16)\n",
      "memory usage: 286.2+ MB\n"
     ]
    }
   ],
   "source": [
    "df_app.info(verbose=True)"
   ]
  },
  {
   "cell_type": "code",
   "execution_count": 7,
   "metadata": {},
   "outputs": [
    {
     "data": {
      "text/html": [
       "<div>\n",
       "<style scoped>\n",
       "    .dataframe tbody tr th:only-of-type {\n",
       "        vertical-align: middle;\n",
       "    }\n",
       "\n",
       "    .dataframe tbody tr th {\n",
       "        vertical-align: top;\n",
       "    }\n",
       "\n",
       "    .dataframe thead th {\n",
       "        text-align: right;\n",
       "    }\n",
       "</style>\n",
       "<table border=\"1\" class=\"dataframe\">\n",
       "  <thead>\n",
       "    <tr style=\"text-align: right;\">\n",
       "      <th></th>\n",
       "      <th>SK_ID_CURR</th>\n",
       "      <th>TARGET</th>\n",
       "      <th>CNT_CHILDREN</th>\n",
       "      <th>AMT_INCOME_TOTAL</th>\n",
       "      <th>AMT_CREDIT</th>\n",
       "      <th>AMT_ANNUITY</th>\n",
       "      <th>AMT_GOODS_PRICE</th>\n",
       "      <th>REGION_POPULATION_RELATIVE</th>\n",
       "      <th>DAYS_BIRTH</th>\n",
       "      <th>DAYS_EMPLOYED</th>\n",
       "      <th>...</th>\n",
       "      <th>FLAG_DOCUMENT_18</th>\n",
       "      <th>FLAG_DOCUMENT_19</th>\n",
       "      <th>FLAG_DOCUMENT_20</th>\n",
       "      <th>FLAG_DOCUMENT_21</th>\n",
       "      <th>AMT_REQ_CREDIT_BUREAU_HOUR</th>\n",
       "      <th>AMT_REQ_CREDIT_BUREAU_DAY</th>\n",
       "      <th>AMT_REQ_CREDIT_BUREAU_WEEK</th>\n",
       "      <th>AMT_REQ_CREDIT_BUREAU_MON</th>\n",
       "      <th>AMT_REQ_CREDIT_BUREAU_QRT</th>\n",
       "      <th>AMT_REQ_CREDIT_BUREAU_YEAR</th>\n",
       "    </tr>\n",
       "  </thead>\n",
       "  <tbody>\n",
       "    <tr>\n",
       "      <th>count</th>\n",
       "      <td>307511.000000</td>\n",
       "      <td>307511.000000</td>\n",
       "      <td>307511.000000</td>\n",
       "      <td>3.075110e+05</td>\n",
       "      <td>3.075110e+05</td>\n",
       "      <td>307499.000000</td>\n",
       "      <td>3.072330e+05</td>\n",
       "      <td>307511.000000</td>\n",
       "      <td>307511.000000</td>\n",
       "      <td>307511.000000</td>\n",
       "      <td>...</td>\n",
       "      <td>307511.000000</td>\n",
       "      <td>307511.000000</td>\n",
       "      <td>307511.000000</td>\n",
       "      <td>307511.000000</td>\n",
       "      <td>265992.000000</td>\n",
       "      <td>265992.000000</td>\n",
       "      <td>265992.000000</td>\n",
       "      <td>265992.000000</td>\n",
       "      <td>265992.000000</td>\n",
       "      <td>265992.000000</td>\n",
       "    </tr>\n",
       "    <tr>\n",
       "      <th>mean</th>\n",
       "      <td>278180.518577</td>\n",
       "      <td>0.080729</td>\n",
       "      <td>0.417052</td>\n",
       "      <td>1.687979e+05</td>\n",
       "      <td>5.990260e+05</td>\n",
       "      <td>27108.573909</td>\n",
       "      <td>5.383962e+05</td>\n",
       "      <td>0.020868</td>\n",
       "      <td>-16036.995067</td>\n",
       "      <td>63815.045904</td>\n",
       "      <td>...</td>\n",
       "      <td>0.008130</td>\n",
       "      <td>0.000595</td>\n",
       "      <td>0.000507</td>\n",
       "      <td>0.000335</td>\n",
       "      <td>0.006402</td>\n",
       "      <td>0.007000</td>\n",
       "      <td>0.034362</td>\n",
       "      <td>0.267395</td>\n",
       "      <td>0.265474</td>\n",
       "      <td>1.899974</td>\n",
       "    </tr>\n",
       "    <tr>\n",
       "      <th>std</th>\n",
       "      <td>102790.175348</td>\n",
       "      <td>0.272419</td>\n",
       "      <td>0.722121</td>\n",
       "      <td>2.371231e+05</td>\n",
       "      <td>4.024908e+05</td>\n",
       "      <td>14493.737315</td>\n",
       "      <td>3.694465e+05</td>\n",
       "      <td>0.013831</td>\n",
       "      <td>4363.988632</td>\n",
       "      <td>141275.766519</td>\n",
       "      <td>...</td>\n",
       "      <td>0.089798</td>\n",
       "      <td>0.024387</td>\n",
       "      <td>0.022518</td>\n",
       "      <td>0.018299</td>\n",
       "      <td>0.083849</td>\n",
       "      <td>0.110757</td>\n",
       "      <td>0.204685</td>\n",
       "      <td>0.916002</td>\n",
       "      <td>0.794056</td>\n",
       "      <td>1.869295</td>\n",
       "    </tr>\n",
       "    <tr>\n",
       "      <th>min</th>\n",
       "      <td>100002.000000</td>\n",
       "      <td>0.000000</td>\n",
       "      <td>0.000000</td>\n",
       "      <td>2.565000e+04</td>\n",
       "      <td>4.500000e+04</td>\n",
       "      <td>1615.500000</td>\n",
       "      <td>4.050000e+04</td>\n",
       "      <td>0.000290</td>\n",
       "      <td>-25229.000000</td>\n",
       "      <td>-17912.000000</td>\n",
       "      <td>...</td>\n",
       "      <td>0.000000</td>\n",
       "      <td>0.000000</td>\n",
       "      <td>0.000000</td>\n",
       "      <td>0.000000</td>\n",
       "      <td>0.000000</td>\n",
       "      <td>0.000000</td>\n",
       "      <td>0.000000</td>\n",
       "      <td>0.000000</td>\n",
       "      <td>0.000000</td>\n",
       "      <td>0.000000</td>\n",
       "    </tr>\n",
       "    <tr>\n",
       "      <th>25%</th>\n",
       "      <td>189145.500000</td>\n",
       "      <td>0.000000</td>\n",
       "      <td>0.000000</td>\n",
       "      <td>1.125000e+05</td>\n",
       "      <td>2.700000e+05</td>\n",
       "      <td>16524.000000</td>\n",
       "      <td>2.385000e+05</td>\n",
       "      <td>0.010006</td>\n",
       "      <td>-19682.000000</td>\n",
       "      <td>-2760.000000</td>\n",
       "      <td>...</td>\n",
       "      <td>0.000000</td>\n",
       "      <td>0.000000</td>\n",
       "      <td>0.000000</td>\n",
       "      <td>0.000000</td>\n",
       "      <td>0.000000</td>\n",
       "      <td>0.000000</td>\n",
       "      <td>0.000000</td>\n",
       "      <td>0.000000</td>\n",
       "      <td>0.000000</td>\n",
       "      <td>0.000000</td>\n",
       "    </tr>\n",
       "    <tr>\n",
       "      <th>50%</th>\n",
       "      <td>278202.000000</td>\n",
       "      <td>0.000000</td>\n",
       "      <td>0.000000</td>\n",
       "      <td>1.471500e+05</td>\n",
       "      <td>5.135310e+05</td>\n",
       "      <td>24903.000000</td>\n",
       "      <td>4.500000e+05</td>\n",
       "      <td>0.018850</td>\n",
       "      <td>-15750.000000</td>\n",
       "      <td>-1213.000000</td>\n",
       "      <td>...</td>\n",
       "      <td>0.000000</td>\n",
       "      <td>0.000000</td>\n",
       "      <td>0.000000</td>\n",
       "      <td>0.000000</td>\n",
       "      <td>0.000000</td>\n",
       "      <td>0.000000</td>\n",
       "      <td>0.000000</td>\n",
       "      <td>0.000000</td>\n",
       "      <td>0.000000</td>\n",
       "      <td>1.000000</td>\n",
       "    </tr>\n",
       "    <tr>\n",
       "      <th>75%</th>\n",
       "      <td>367142.500000</td>\n",
       "      <td>0.000000</td>\n",
       "      <td>1.000000</td>\n",
       "      <td>2.025000e+05</td>\n",
       "      <td>8.086500e+05</td>\n",
       "      <td>34596.000000</td>\n",
       "      <td>6.795000e+05</td>\n",
       "      <td>0.028663</td>\n",
       "      <td>-12413.000000</td>\n",
       "      <td>-289.000000</td>\n",
       "      <td>...</td>\n",
       "      <td>0.000000</td>\n",
       "      <td>0.000000</td>\n",
       "      <td>0.000000</td>\n",
       "      <td>0.000000</td>\n",
       "      <td>0.000000</td>\n",
       "      <td>0.000000</td>\n",
       "      <td>0.000000</td>\n",
       "      <td>0.000000</td>\n",
       "      <td>0.000000</td>\n",
       "      <td>3.000000</td>\n",
       "    </tr>\n",
       "    <tr>\n",
       "      <th>max</th>\n",
       "      <td>456255.000000</td>\n",
       "      <td>1.000000</td>\n",
       "      <td>19.000000</td>\n",
       "      <td>1.170000e+08</td>\n",
       "      <td>4.050000e+06</td>\n",
       "      <td>258025.500000</td>\n",
       "      <td>4.050000e+06</td>\n",
       "      <td>0.072508</td>\n",
       "      <td>-7489.000000</td>\n",
       "      <td>365243.000000</td>\n",
       "      <td>...</td>\n",
       "      <td>1.000000</td>\n",
       "      <td>1.000000</td>\n",
       "      <td>1.000000</td>\n",
       "      <td>1.000000</td>\n",
       "      <td>4.000000</td>\n",
       "      <td>9.000000</td>\n",
       "      <td>8.000000</td>\n",
       "      <td>27.000000</td>\n",
       "      <td>261.000000</td>\n",
       "      <td>25.000000</td>\n",
       "    </tr>\n",
       "  </tbody>\n",
       "</table>\n",
       "<p>8 rows × 106 columns</p>\n",
       "</div>"
      ],
      "text/plain": [
       "          SK_ID_CURR         TARGET   CNT_CHILDREN  AMT_INCOME_TOTAL  \\\n",
       "count  307511.000000  307511.000000  307511.000000      3.075110e+05   \n",
       "mean   278180.518577       0.080729       0.417052      1.687979e+05   \n",
       "std    102790.175348       0.272419       0.722121      2.371231e+05   \n",
       "min    100002.000000       0.000000       0.000000      2.565000e+04   \n",
       "25%    189145.500000       0.000000       0.000000      1.125000e+05   \n",
       "50%    278202.000000       0.000000       0.000000      1.471500e+05   \n",
       "75%    367142.500000       0.000000       1.000000      2.025000e+05   \n",
       "max    456255.000000       1.000000      19.000000      1.170000e+08   \n",
       "\n",
       "         AMT_CREDIT    AMT_ANNUITY  AMT_GOODS_PRICE  \\\n",
       "count  3.075110e+05  307499.000000     3.072330e+05   \n",
       "mean   5.990260e+05   27108.573909     5.383962e+05   \n",
       "std    4.024908e+05   14493.737315     3.694465e+05   \n",
       "min    4.500000e+04    1615.500000     4.050000e+04   \n",
       "25%    2.700000e+05   16524.000000     2.385000e+05   \n",
       "50%    5.135310e+05   24903.000000     4.500000e+05   \n",
       "75%    8.086500e+05   34596.000000     6.795000e+05   \n",
       "max    4.050000e+06  258025.500000     4.050000e+06   \n",
       "\n",
       "       REGION_POPULATION_RELATIVE     DAYS_BIRTH  DAYS_EMPLOYED  ...  \\\n",
       "count               307511.000000  307511.000000  307511.000000  ...   \n",
       "mean                     0.020868  -16036.995067   63815.045904  ...   \n",
       "std                      0.013831    4363.988632  141275.766519  ...   \n",
       "min                      0.000290  -25229.000000  -17912.000000  ...   \n",
       "25%                      0.010006  -19682.000000   -2760.000000  ...   \n",
       "50%                      0.018850  -15750.000000   -1213.000000  ...   \n",
       "75%                      0.028663  -12413.000000    -289.000000  ...   \n",
       "max                      0.072508   -7489.000000  365243.000000  ...   \n",
       "\n",
       "       FLAG_DOCUMENT_18  FLAG_DOCUMENT_19  FLAG_DOCUMENT_20  FLAG_DOCUMENT_21  \\\n",
       "count     307511.000000     307511.000000     307511.000000     307511.000000   \n",
       "mean           0.008130          0.000595          0.000507          0.000335   \n",
       "std            0.089798          0.024387          0.022518          0.018299   \n",
       "min            0.000000          0.000000          0.000000          0.000000   \n",
       "25%            0.000000          0.000000          0.000000          0.000000   \n",
       "50%            0.000000          0.000000          0.000000          0.000000   \n",
       "75%            0.000000          0.000000          0.000000          0.000000   \n",
       "max            1.000000          1.000000          1.000000          1.000000   \n",
       "\n",
       "       AMT_REQ_CREDIT_BUREAU_HOUR  AMT_REQ_CREDIT_BUREAU_DAY  \\\n",
       "count               265992.000000              265992.000000   \n",
       "mean                     0.006402                   0.007000   \n",
       "std                      0.083849                   0.110757   \n",
       "min                      0.000000                   0.000000   \n",
       "25%                      0.000000                   0.000000   \n",
       "50%                      0.000000                   0.000000   \n",
       "75%                      0.000000                   0.000000   \n",
       "max                      4.000000                   9.000000   \n",
       "\n",
       "       AMT_REQ_CREDIT_BUREAU_WEEK  AMT_REQ_CREDIT_BUREAU_MON  \\\n",
       "count               265992.000000              265992.000000   \n",
       "mean                     0.034362                   0.267395   \n",
       "std                      0.204685                   0.916002   \n",
       "min                      0.000000                   0.000000   \n",
       "25%                      0.000000                   0.000000   \n",
       "50%                      0.000000                   0.000000   \n",
       "75%                      0.000000                   0.000000   \n",
       "max                      8.000000                  27.000000   \n",
       "\n",
       "       AMT_REQ_CREDIT_BUREAU_QRT  AMT_REQ_CREDIT_BUREAU_YEAR  \n",
       "count              265992.000000               265992.000000  \n",
       "mean                    0.265474                    1.899974  \n",
       "std                     0.794056                    1.869295  \n",
       "min                     0.000000                    0.000000  \n",
       "25%                     0.000000                    0.000000  \n",
       "50%                     0.000000                    1.000000  \n",
       "75%                     0.000000                    3.000000  \n",
       "max                   261.000000                   25.000000  \n",
       "\n",
       "[8 rows x 106 columns]"
      ]
     },
     "execution_count": 7,
     "metadata": {},
     "output_type": "execute_result"
    }
   ],
   "source": [
    "df_app.describe()"
   ]
  },
  {
   "cell_type": "code",
   "execution_count": 10,
   "metadata": {},
   "outputs": [
    {
     "data": {
      "text/plain": [
       "(307511, 58)"
      ]
     },
     "execution_count": 10,
     "metadata": {},
     "output_type": "execute_result"
    }
   ],
   "source": [
    "#Dropping the columns which has 50% or more missing values\n",
    "\n",
    "null_val=df_app.isnull().sum()\n",
    "null_val=null_val[null_val.values > 0.5*len(null_val)]\n",
    "null_val=list(null_val[null_val.values>=0.5].index)\n",
    "df_app.drop(labels=null_val,axis=1,inplace=True)\n",
    "df_app.shape"
   ]
  },
  {
   "cell_type": "code",
   "execution_count": 12,
   "metadata": {},
   "outputs": [
    {
     "data": {
      "text/plain": [
       "SK_ID_CURR                     0.000000\n",
       "TARGET                         0.000000\n",
       "NAME_CONTRACT_TYPE             0.000000\n",
       "CODE_GENDER                    0.000000\n",
       "FLAG_OWN_CAR                   0.000000\n",
       "FLAG_OWN_REALTY                0.000000\n",
       "CNT_CHILDREN                   0.000000\n",
       "AMT_INCOME_TOTAL               0.000000\n",
       "AMT_CREDIT                     0.000000\n",
       "AMT_ANNUITY                    0.003902\n",
       "NAME_INCOME_TYPE               0.000000\n",
       "NAME_EDUCATION_TYPE            0.000000\n",
       "NAME_FAMILY_STATUS             0.000000\n",
       "NAME_HOUSING_TYPE              0.000000\n",
       "REGION_POPULATION_RELATIVE     0.000000\n",
       "DAYS_BIRTH                     0.000000\n",
       "DAYS_EMPLOYED                  0.000000\n",
       "DAYS_REGISTRATION              0.000000\n",
       "DAYS_ID_PUBLISH                0.000000\n",
       "FLAG_MOBIL                     0.000000\n",
       "FLAG_EMP_PHONE                 0.000000\n",
       "FLAG_WORK_PHONE                0.000000\n",
       "FLAG_CONT_MOBILE               0.000000\n",
       "FLAG_PHONE                     0.000000\n",
       "FLAG_EMAIL                     0.000000\n",
       "CNT_FAM_MEMBERS                0.000650\n",
       "REGION_RATING_CLIENT           0.000000\n",
       "REGION_RATING_CLIENT_W_CITY    0.000000\n",
       "WEEKDAY_APPR_PROCESS_START     0.000000\n",
       "HOUR_APPR_PROCESS_START        0.000000\n",
       "REG_REGION_NOT_LIVE_REGION     0.000000\n",
       "REG_REGION_NOT_WORK_REGION     0.000000\n",
       "LIVE_REGION_NOT_WORK_REGION    0.000000\n",
       "REG_CITY_NOT_LIVE_CITY         0.000000\n",
       "REG_CITY_NOT_WORK_CITY         0.000000\n",
       "LIVE_CITY_NOT_WORK_CITY        0.000000\n",
       "ORGANIZATION_TYPE              0.000000\n",
       "DAYS_LAST_PHONE_CHANGE         0.000325\n",
       "FLAG_DOCUMENT_2                0.000000\n",
       "FLAG_DOCUMENT_3                0.000000\n",
       "FLAG_DOCUMENT_4                0.000000\n",
       "FLAG_DOCUMENT_5                0.000000\n",
       "FLAG_DOCUMENT_6                0.000000\n",
       "FLAG_DOCUMENT_7                0.000000\n",
       "FLAG_DOCUMENT_8                0.000000\n",
       "FLAG_DOCUMENT_9                0.000000\n",
       "FLAG_DOCUMENT_10               0.000000\n",
       "FLAG_DOCUMENT_11               0.000000\n",
       "FLAG_DOCUMENT_12               0.000000\n",
       "FLAG_DOCUMENT_13               0.000000\n",
       "FLAG_DOCUMENT_14               0.000000\n",
       "FLAG_DOCUMENT_15               0.000000\n",
       "FLAG_DOCUMENT_16               0.000000\n",
       "FLAG_DOCUMENT_17               0.000000\n",
       "FLAG_DOCUMENT_18               0.000000\n",
       "FLAG_DOCUMENT_19               0.000000\n",
       "FLAG_DOCUMENT_20               0.000000\n",
       "FLAG_DOCUMENT_21               0.000000\n",
       "dtype: float64"
      ]
     },
     "execution_count": 12,
     "metadata": {},
     "output_type": "execute_result"
    }
   ],
   "source": [
    "#Finding columns that have missing values of 13% or less.\n",
    "\n",
    "df_app.isnull().sum()/len(df_app) *100"
   ]
  },
  {
   "cell_type": "markdown",
   "metadata": {},
   "source": [
    "1.AMT_ANNUITY \n",
    "2.CNT_FAM_MEMBERS \n",
    "3.DAYS_LAST_PHONE_CHANGE\n",
    "\n",
    "The above mentioned columns have values missing of 13% or less\n"
   ]
  },
  {
   "cell_type": "code",
   "execution_count": 14,
   "metadata": {},
   "outputs": [
    {
     "data": {
      "text/plain": [
       "count    307499.000000\n",
       "mean      27108.573909\n",
       "std       14493.737315\n",
       "min        1615.500000\n",
       "25%       16524.000000\n",
       "50%       24903.000000\n",
       "75%       34596.000000\n",
       "max      258025.500000\n",
       "Name: AMT_ANNUITY, dtype: float64"
      ]
     },
     "execution_count": 14,
     "metadata": {},
     "output_type": "execute_result"
    }
   ],
   "source": [
    "#Analyzing the column AMT_ANNUITY\n",
    "df_app['AMT_ANNUITY'].describe()"
   ]
  },
  {
   "cell_type": "code",
   "execution_count": 15,
   "metadata": {},
   "outputs": [
    {
     "data": {
      "text/plain": [
       "<AxesSubplot:>"
      ]
     },
     "execution_count": 15,
     "metadata": {},
     "output_type": "execute_result"
    },
    {
     "data": {
      "image/png": "[encoded data removed]",
      "text/plain": [
       "<Figure size 432x288 with 1 Axes>"
      ]
     },
     "metadata": {
      "needs_background": "light"
     },
     "output_type": "display_data"
    }
   ],
   "source": [
    "#Checking for Outliers in AMT_ANNUITY\n",
    "df_app['AMT_ANNUITY'].plot(kind = 'box')"
   ]
  },
  {
   "cell_type": "code",
   "execution_count": 16,
   "metadata": {},
   "outputs": [
    {
     "data": {
      "text/plain": [
       "count    307509.000000\n",
       "mean          2.152665\n",
       "std           0.910682\n",
       "min           1.000000\n",
       "25%           2.000000\n",
       "50%           2.000000\n",
       "75%           3.000000\n",
       "max          20.000000\n",
       "Name: CNT_FAM_MEMBERS, dtype: float64"
      ]
     },
     "execution_count": 16,
     "metadata": {},
     "output_type": "execute_result"
    }
   ],
   "source": [
    "#Analyzing the column CNT_FAM_MEMBERS\n",
    "df_app['CNT_FAM_MEMBERS'].describe()"
   ]
  },
  {
   "cell_type": "code",
   "execution_count": 17,
   "metadata": {},
   "outputs": [
    {
     "data": {
      "text/plain": [
       "<AxesSubplot:>"
      ]
     },
     "execution_count": 17,
     "metadata": {},
     "output_type": "execute_result"
    },
    {
     "data": {
      "image/png": "[encoded data removed]",
      "text/plain": [
       "<Figure size 432x288 with 1 Axes>"
      ]
     },
     "metadata": {
      "needs_background": "light"
     },
     "output_type": "display_data"
    }
   ],
   "source": [
    "#Checking for Outliers in CNT_FAM_MEMBERS\n",
    "df_app['CNT_FAM_MEMBERS'].plot(kind='box')"
   ]
  },
  {
   "cell_type": "code",
   "execution_count": 18,
   "metadata": {},
   "outputs": [
    {
     "data": {
      "text/plain": [
       "count    307510.000000\n",
       "mean       -962.858788\n",
       "std         826.808487\n",
       "min       -4292.000000\n",
       "25%       -1570.000000\n",
       "50%        -757.000000\n",
       "75%        -274.000000\n",
       "max           0.000000\n",
       "Name: DAYS_LAST_PHONE_CHANGE, dtype: float64"
      ]
     },
     "execution_count": 18,
     "metadata": {},
     "output_type": "execute_result"
    }
   ],
   "source": [
    "#Analyzing the column DAYS_LAST_PHONE_CHANGE\n",
    "df_app['DAYS_LAST_PHONE_CHANGE'].describe()"
   ]
  },
  {
   "cell_type": "code",
   "execution_count": 19,
   "metadata": {},
   "outputs": [
    {
     "data": {
      "text/plain": [
       "<AxesSubplot:>"
      ]
     },
     "execution_count": 19,
     "metadata": {},
     "output_type": "execute_result"
    },
    {
     "data": {
      "image/png": "[encoded data removed]",
      "text/plain": [
       "<Figure size 432x288 with 1 Axes>"
      ]
     },
     "metadata": {
      "needs_background": "light"
     },
     "output_type": "display_data"
    }
   ],
   "source": [
    "#Checking for Outliers in DAYS_LAST_PHONE_CHANGE\n",
    "df_app['DAYS_LAST_PHONE_CHANGE'].plot(kind='box')"
   ]
  },
  {
   "cell_type": "markdown",
   "metadata": {},
   "source": [
    "### Handling with the missing values"
   ]
  },
  {
   "cell_type": "markdown",
   "metadata": {},
   "source": [
    "Since there are plenty of outliers in the data, imputing with the median values will be the appropriate solution"
   ]
  },
  {
   "cell_type": "code",
   "execution_count": 24,
   "metadata": {},
   "outputs": [
    {
     "data": {
      "text/plain": [
       "COMMONAREA_MEDI                 69.872297\n",
       "COMMONAREA_AVG                  69.872297\n",
       "COMMONAREA_MODE                 69.872297\n",
       "NONLIVINGAPARTMENTS_MODE        69.432963\n",
       "NONLIVINGAPARTMENTS_MEDI        69.432963\n",
       "NONLIVINGAPARTMENTS_AVG         69.432963\n",
       "FONDKAPREMONT_MODE              68.386172\n",
       "LIVINGAPARTMENTS_MEDI           68.354953\n",
       "LIVINGAPARTMENTS_MODE           68.354953\n",
       "LIVINGAPARTMENTS_AVG            68.354953\n",
       "FLOORSMIN_MEDI                  67.848630\n",
       "FLOORSMIN_MODE                  67.848630\n",
       "FLOORSMIN_AVG                   67.848630\n",
       "YEARS_BUILD_MEDI                66.497784\n",
       "YEARS_BUILD_AVG                 66.497784\n",
       "YEARS_BUILD_MODE                66.497784\n",
       "OWN_CAR_AGE                     65.990810\n",
       "LANDAREA_MODE                   59.376738\n",
       "LANDAREA_AVG                    59.376738\n",
       "LANDAREA_MEDI                   59.376738\n",
       "BASEMENTAREA_MEDI               58.515956\n",
       "BASEMENTAREA_AVG                58.515956\n",
       "BASEMENTAREA_MODE               58.515956\n",
       "EXT_SOURCE_1                    56.381073\n",
       "NONLIVINGAREA_MEDI              55.179164\n",
       "NONLIVINGAREA_AVG               55.179164\n",
       "NONLIVINGAREA_MODE              55.179164\n",
       "ELEVATORS_MODE                  53.295980\n",
       "ELEVATORS_AVG                   53.295980\n",
       "ELEVATORS_MEDI                  53.295980\n",
       "WALLSMATERIAL_MODE              50.840783\n",
       "APARTMENTS_MODE                 50.749729\n",
       "APARTMENTS_AVG                  50.749729\n",
       "APARTMENTS_MEDI                 50.749729\n",
       "ENTRANCES_MEDI                  50.348768\n",
       "ENTRANCES_MODE                  50.348768\n",
       "ENTRANCES_AVG                   50.348768\n",
       "LIVINGAREA_MEDI                 50.193326\n",
       "LIVINGAREA_MODE                 50.193326\n",
       "LIVINGAREA_AVG                  50.193326\n",
       "HOUSETYPE_MODE                  50.176091\n",
       "FLOORSMAX_MODE                  49.760822\n",
       "FLOORSMAX_MEDI                  49.760822\n",
       "FLOORSMAX_AVG                   49.760822\n",
       "YEARS_BEGINEXPLUATATION_MEDI    48.781019\n",
       "YEARS_BEGINEXPLUATATION_AVG     48.781019\n",
       "YEARS_BEGINEXPLUATATION_MODE    48.781019\n",
       "TOTALAREA_MODE                  48.268517\n",
       "EMERGENCYSTATE_MODE             47.398304\n",
       "OCCUPATION_TYPE                 31.345545\n",
       "EXT_SOURCE_3                    19.825307\n",
       "AMT_REQ_CREDIT_BUREAU_QRT       13.501631\n",
       "AMT_REQ_CREDIT_BUREAU_YEAR      13.501631\n",
       "AMT_REQ_CREDIT_BUREAU_WEEK      13.501631\n",
       "AMT_REQ_CREDIT_BUREAU_MON       13.501631\n",
       "AMT_REQ_CREDIT_BUREAU_DAY       13.501631\n",
       "AMT_REQ_CREDIT_BUREAU_HOUR      13.501631\n",
       "NAME_TYPE_SUITE                  0.420148\n",
       "OBS_30_CNT_SOCIAL_CIRCLE         0.332021\n",
       "OBS_60_CNT_SOCIAL_CIRCLE         0.332021\n",
       "dtype: float64"
      ]
     },
     "execution_count": 24,
     "metadata": {},
     "output_type": "execute_result"
    }
   ],
   "source": [
    "missing_val=df_app.count()/len(df_app)\n",
    "missing_val=(1-missing_val)*100\n",
    "missing_val.sort_values(ascending=False).head(60)"
   ]
  },
  {
   "cell_type": "code",
   "execution_count": 27,
   "metadata": {},
   "outputs": [
    {
     "data": {
      "text/html": [
       "<div>\n",
       "<style scoped>\n",
       "    .dataframe tbody tr th:only-of-type {\n",
       "        vertical-align: middle;\n",
       "    }\n",
       "\n",
       "    .dataframe tbody tr th {\n",
       "        vertical-align: top;\n",
       "    }\n",
       "\n",
       "    .dataframe thead th {\n",
       "        text-align: right;\n",
       "    }\n",
       "</style>\n",
       "<table border=\"1\" class=\"dataframe\">\n",
       "  <thead>\n",
       "    <tr style=\"text-align: right;\">\n",
       "      <th></th>\n",
       "      <th>SK_ID_CURR</th>\n",
       "      <th>TARGET</th>\n",
       "      <th>NAME_CONTRACT_TYPE</th>\n",
       "      <th>CODE_GENDER</th>\n",
       "      <th>FLAG_OWN_CAR</th>\n",
       "      <th>FLAG_OWN_REALTY</th>\n",
       "      <th>CNT_CHILDREN</th>\n",
       "      <th>AMT_INCOME_TOTAL</th>\n",
       "      <th>AMT_CREDIT</th>\n",
       "      <th>AMT_ANNUITY</th>\n",
       "      <th>...</th>\n",
       "      <th>FLAG_DOCUMENT_18</th>\n",
       "      <th>FLAG_DOCUMENT_19</th>\n",
       "      <th>FLAG_DOCUMENT_20</th>\n",
       "      <th>FLAG_DOCUMENT_21</th>\n",
       "      <th>AMT_REQ_CREDIT_BUREAU_HOUR</th>\n",
       "      <th>AMT_REQ_CREDIT_BUREAU_DAY</th>\n",
       "      <th>AMT_REQ_CREDIT_BUREAU_WEEK</th>\n",
       "      <th>AMT_REQ_CREDIT_BUREAU_MON</th>\n",
       "      <th>AMT_REQ_CREDIT_BUREAU_QRT</th>\n",
       "      <th>AMT_REQ_CREDIT_BUREAU_YEAR</th>\n",
       "    </tr>\n",
       "  </thead>\n",
       "  <tbody>\n",
       "    <tr>\n",
       "      <th>0</th>\n",
       "      <td>100002</td>\n",
       "      <td>1</td>\n",
       "      <td>Cash loans</td>\n",
       "      <td>M</td>\n",
       "      <td>N</td>\n",
       "      <td>Y</td>\n",
       "      <td>0</td>\n",
       "      <td>202500.0</td>\n",
       "      <td>406597.5</td>\n",
       "      <td>24700.5</td>\n",
       "      <td>...</td>\n",
       "      <td>0</td>\n",
       "      <td>0</td>\n",
       "      <td>0</td>\n",
       "      <td>0</td>\n",
       "      <td>0.0</td>\n",
       "      <td>0.0</td>\n",
       "      <td>0.0</td>\n",
       "      <td>0.0</td>\n",
       "      <td>0.0</td>\n",
       "      <td>1.0</td>\n",
       "    </tr>\n",
       "    <tr>\n",
       "      <th>1</th>\n",
       "      <td>100003</td>\n",
       "      <td>0</td>\n",
       "      <td>Cash loans</td>\n",
       "      <td>F</td>\n",
       "      <td>N</td>\n",
       "      <td>N</td>\n",
       "      <td>0</td>\n",
       "      <td>270000.0</td>\n",
       "      <td>1293502.5</td>\n",
       "      <td>35698.5</td>\n",
       "      <td>...</td>\n",
       "      <td>0</td>\n",
       "      <td>0</td>\n",
       "      <td>0</td>\n",
       "      <td>0</td>\n",
       "      <td>0.0</td>\n",
       "      <td>0.0</td>\n",
       "      <td>0.0</td>\n",
       "      <td>0.0</td>\n",
       "      <td>0.0</td>\n",
       "      <td>0.0</td>\n",
       "    </tr>\n",
       "    <tr>\n",
       "      <th>2</th>\n",
       "      <td>100004</td>\n",
       "      <td>0</td>\n",
       "      <td>Revolving loans</td>\n",
       "      <td>M</td>\n",
       "      <td>Y</td>\n",
       "      <td>Y</td>\n",
       "      <td>0</td>\n",
       "      <td>67500.0</td>\n",
       "      <td>135000.0</td>\n",
       "      <td>6750.0</td>\n",
       "      <td>...</td>\n",
       "      <td>0</td>\n",
       "      <td>0</td>\n",
       "      <td>0</td>\n",
       "      <td>0</td>\n",
       "      <td>0.0</td>\n",
       "      <td>0.0</td>\n",
       "      <td>0.0</td>\n",
       "      <td>0.0</td>\n",
       "      <td>0.0</td>\n",
       "      <td>0.0</td>\n",
       "    </tr>\n",
       "    <tr>\n",
       "      <th>3</th>\n",
       "      <td>100006</td>\n",
       "      <td>0</td>\n",
       "      <td>Cash loans</td>\n",
       "      <td>F</td>\n",
       "      <td>N</td>\n",
       "      <td>Y</td>\n",
       "      <td>0</td>\n",
       "      <td>135000.0</td>\n",
       "      <td>312682.5</td>\n",
       "      <td>29686.5</td>\n",
       "      <td>...</td>\n",
       "      <td>0</td>\n",
       "      <td>0</td>\n",
       "      <td>0</td>\n",
       "      <td>0</td>\n",
       "      <td>NaN</td>\n",
       "      <td>NaN</td>\n",
       "      <td>NaN</td>\n",
       "      <td>NaN</td>\n",
       "      <td>NaN</td>\n",
       "      <td>NaN</td>\n",
       "    </tr>\n",
       "    <tr>\n",
       "      <th>4</th>\n",
       "      <td>100007</td>\n",
       "      <td>0</td>\n",
       "      <td>Cash loans</td>\n",
       "      <td>M</td>\n",
       "      <td>N</td>\n",
       "      <td>Y</td>\n",
       "      <td>0</td>\n",
       "      <td>121500.0</td>\n",
       "      <td>513000.0</td>\n",
       "      <td>21865.5</td>\n",
       "      <td>...</td>\n",
       "      <td>0</td>\n",
       "      <td>0</td>\n",
       "      <td>0</td>\n",
       "      <td>0</td>\n",
       "      <td>0.0</td>\n",
       "      <td>0.0</td>\n",
       "      <td>0.0</td>\n",
       "      <td>0.0</td>\n",
       "      <td>0.0</td>\n",
       "      <td>0.0</td>\n",
       "    </tr>\n",
       "  </tbody>\n",
       "</table>\n",
       "<p>5 rows × 81 columns</p>\n",
       "</div>"
      ],
      "text/plain": [
       "   SK_ID_CURR  TARGET NAME_CONTRACT_TYPE CODE_GENDER FLAG_OWN_CAR  \\\n",
       "0      100002       1         Cash loans           M            N   \n",
       "1      100003       0         Cash loans           F            N   \n",
       "2      100004       0    Revolving loans           M            Y   \n",
       "3      100006       0         Cash loans           F            N   \n",
       "4      100007       0         Cash loans           M            N   \n",
       "\n",
       "  FLAG_OWN_REALTY  CNT_CHILDREN  AMT_INCOME_TOTAL  AMT_CREDIT  AMT_ANNUITY  \\\n",
       "0               Y             0          202500.0    406597.5      24700.5   \n",
       "1               N             0          270000.0   1293502.5      35698.5   \n",
       "2               Y             0           67500.0    135000.0       6750.0   \n",
       "3               Y             0          135000.0    312682.5      29686.5   \n",
       "4               Y             0          121500.0    513000.0      21865.5   \n",
       "\n",
       "   ...  FLAG_DOCUMENT_18 FLAG_DOCUMENT_19 FLAG_DOCUMENT_20 FLAG_DOCUMENT_21  \\\n",
       "0  ...                 0                0                0                0   \n",
       "1  ...                 0                0                0                0   \n",
       "2  ...                 0                0                0                0   \n",
       "3  ...                 0                0                0                0   \n",
       "4  ...                 0                0                0                0   \n",
       "\n",
       "  AMT_REQ_CREDIT_BUREAU_HOUR AMT_REQ_CREDIT_BUREAU_DAY  \\\n",
       "0                        0.0                       0.0   \n",
       "1                        0.0                       0.0   \n",
       "2                        0.0                       0.0   \n",
       "3                        NaN                       NaN   \n",
       "4                        0.0                       0.0   \n",
       "\n",
       "   AMT_REQ_CREDIT_BUREAU_WEEK  AMT_REQ_CREDIT_BUREAU_MON  \\\n",
       "0                         0.0                        0.0   \n",
       "1                         0.0                        0.0   \n",
       "2                         0.0                        0.0   \n",
       "3                         NaN                        NaN   \n",
       "4                         0.0                        0.0   \n",
       "\n",
       "   AMT_REQ_CREDIT_BUREAU_QRT  AMT_REQ_CREDIT_BUREAU_YEAR  \n",
       "0                        0.0                         1.0  \n",
       "1                        0.0                         0.0  \n",
       "2                        0.0                         0.0  \n",
       "3                        NaN                         NaN  \n",
       "4                        0.0                         0.0  \n",
       "\n",
       "[5 rows x 81 columns]"
      ]
     },
     "execution_count": 27,
     "metadata": {},
     "output_type": "execute_result"
    }
   ],
   "source": [
    "train=df_app.loc[:,missing_val<50]\n",
    "train.head()"
   ]
  },
  {
   "cell_type": "markdown",
   "metadata": {},
   "source": [
    "Analyzing each columns which have less missing values"
   ]
  },
  {
   "cell_type": "raw",
   "metadata": {},
   "source": [
    "OCCUPATION_TYPE                 31.345545\n",
    "EXT_SOURCE_3                    19.825307\n",
    "AMT_REQ_CREDIT_BUREAU_QRT       13.501631\n",
    "AMT_REQ_CREDIT_BUREAU_YEAR      13.501631\n",
    "AMT_REQ_CREDIT_BUREAU_WEEK      13.501631\n",
    "AMT_REQ_CREDIT_BUREAU_MON       13.501631\n",
    "AMT_REQ_CREDIT_BUREAU_DAY       13.501631\n",
    "AMT_REQ_CREDIT_BUREAU_HOUR      13.501631"
   ]
  },
  {
   "cell_type": "markdown",
   "metadata": {},
   "source": [
    "## OCCUPATION_TYPE"
   ]
  },
  {
   "cell_type": "code",
   "execution_count": 28,
   "metadata": {},
   "outputs": [
    {
     "data": {
      "text/plain": [
       "0      Laborers\n",
       "1    Core staff\n",
       "2      Laborers\n",
       "3      Laborers\n",
       "4    Core staff\n",
       "Name: OCCUPATION_TYPE, dtype: object"
      ]
     },
     "execution_count": 28,
     "metadata": {},
     "output_type": "execute_result"
    }
   ],
   "source": [
    "train['OCCUPATION_TYPE'].head()"
   ]
  },
  {
   "cell_type": "code",
   "execution_count": 29,
   "metadata": {},
   "outputs": [
    {
     "data": {
      "text/plain": [
       "(array([ 0,  1,  2,  3,  4,  5,  6,  7,  8,  9, 10, 11, 12, 13, 14, 15, 16,\n",
       "        17]),\n",
       " [Text(0, 0, 'Laborers'),\n",
       "  Text(1, 0, 'Core staff'),\n",
       "  Text(2, 0, 'Accountants'),\n",
       "  Text(3, 0, 'Managers'),\n",
       "  Text(4, 0, 'Drivers'),\n",
       "  Text(5, 0, 'Sales staff'),\n",
       "  Text(6, 0, 'Cleaning staff'),\n",
       "  Text(7, 0, 'Cooking staff'),\n",
       "  Text(8, 0, 'Private service staff'),\n",
       "  Text(9, 0, 'Medicine staff'),\n",
       "  Text(10, 0, 'Security staff'),\n",
       "  Text(11, 0, 'High skill tech staff'),\n",
       "  Text(12, 0, 'Waiters/barmen staff'),\n",
       "  Text(13, 0, 'Low-skill Laborers'),\n",
       "  Text(14, 0, 'Realty agents'),\n",
       "  Text(15, 0, 'Secretaries'),\n",
       "  Text(16, 0, 'IT staff'),\n",
       "  Text(17, 0, 'HR staff')])"
      ]
     },
     "execution_count": 29,
     "metadata": {},
     "output_type": "execute_result"
    },
    {
     "data": {
      "image/png": "[encoded data removed]",
      "text/plain": [
       "<Figure size 432x288 with 1 Axes>"
      ]
     },
     "metadata": {
      "needs_background": "light"
     },
     "output_type": "display_data"
    }
   ],
   "source": [
    "sns.countplot(x= 'OCCUPATION_TYPE', data = train)\n",
    "plt.xticks(rotation=90)"
   ]
  },
  {
   "cell_type": "markdown",
   "metadata": {},
   "source": [
    "We will leave it as it is ,because it is a categorical column, and will not do any missing value treatment here.\n",
    "Even though it has almost 31% missing values, we cannot replace the values with the mean."
   ]
  },
  {
   "cell_type": "markdown",
   "metadata": {},
   "source": [
    "## EXT_SOURCE_3"
   ]
  },
  {
   "cell_type": "code",
   "execution_count": 30,
   "metadata": {},
   "outputs": [
    {
     "data": {
      "text/plain": [
       "0    0.139376\n",
       "1         NaN\n",
       "2    0.729567\n",
       "3         NaN\n",
       "4         NaN\n",
       "5    0.621226\n",
       "6    0.492060\n",
       "7    0.540654\n",
       "8    0.751724\n",
       "9         NaN\n",
       "Name: EXT_SOURCE_3, dtype: float64"
      ]
     },
     "execution_count": 30,
     "metadata": {},
     "output_type": "execute_result"
    }
   ],
   "source": [
    "train['EXT_SOURCE_3'].head(10)"
   ]
  },
  {
   "cell_type": "code",
   "execution_count": 31,
   "metadata": {},
   "outputs": [
    {
     "data": {
      "text/plain": [
       "<AxesSubplot:ylabel='Frequency'>"
      ]
     },
     "execution_count": 31,
     "metadata": {},
     "output_type": "execute_result"
    },
    {
     "data": {
      "image/png": "[encoded data removed]",
      "text/plain": [
       "<Figure size 432x288 with 1 Axes>"
      ]
     },
     "metadata": {
      "needs_background": "light"
     },
     "output_type": "display_data"
    }
   ],
   "source": [
    "# Plotting the distribution\n",
    "train['EXT_SOURCE_3'].plot.hist()"
   ]
  },
  {
   "cell_type": "code",
   "execution_count": 32,
   "metadata": {},
   "outputs": [
    {
     "data": {
      "text/plain": [
       "0.5108529061800121"
      ]
     },
     "execution_count": 32,
     "metadata": {},
     "output_type": "execute_result"
    }
   ],
   "source": [
    "train['EXT_SOURCE_3'].mean()"
   ]
  },
  {
   "cell_type": "code",
   "execution_count": 33,
   "metadata": {},
   "outputs": [
    {
     "data": {
      "text/plain": [
       "0    0.7463\n",
       "dtype: float64"
      ]
     },
     "execution_count": 33,
     "metadata": {},
     "output_type": "execute_result"
    }
   ],
   "source": [
    "train['EXT_SOURCE_3'].mode()"
   ]
  },
  {
   "cell_type": "markdown",
   "metadata": {},
   "source": [
    "## AMT_REQ_CREDIT_BUREAU_QRT"
   ]
  },
  {
   "cell_type": "code",
   "execution_count": 34,
   "metadata": {},
   "outputs": [
    {
     "data": {
      "text/plain": [
       "0    0.0\n",
       "1    0.0\n",
       "2    0.0\n",
       "3    NaN\n",
       "4    0.0\n",
       "Name: AMT_REQ_CREDIT_BUREAU_QRT, dtype: float64"
      ]
     },
     "execution_count": 34,
     "metadata": {},
     "output_type": "execute_result"
    }
   ],
   "source": [
    "train['AMT_REQ_CREDIT_BUREAU_QRT'].head()"
   ]
  },
  {
   "cell_type": "code",
   "execution_count": 35,
   "metadata": {},
   "outputs": [
    {
     "data": {
      "text/plain": [
       "<AxesSubplot:ylabel='Frequency'>"
      ]
     },
     "execution_count": 35,
     "metadata": {},
     "output_type": "execute_result"
    },
    {
     "data": {
      "image/png": "[encoded data removed]",
      "text/plain": [
       "<Figure size 432x288 with 1 Axes>"
      ]
     },
     "metadata": {
      "needs_background": "light"
     },
     "output_type": "display_data"
    }
   ],
   "source": [
    "unique_values = len(train.AMT_REQ_CREDIT_BUREAU_QRT.unique())\n",
    "train['AMT_REQ_CREDIT_BUREAU_QRT'].plot.hist(bins = num_unique_values)"
   ]
  },
  {
   "cell_type": "code",
   "execution_count": 36,
   "metadata": {},
   "outputs": [
    {
     "data": {
      "text/plain": [
       "0.0      215417\n",
       "1.0       33862\n",
       "2.0       14412\n",
       "3.0        1717\n",
       "4.0         476\n",
       "5.0          64\n",
       "6.0          28\n",
       "7.0           7\n",
       "8.0           7\n",
       "19.0          1\n",
       "261.0         1\n",
       "Name: AMT_REQ_CREDIT_BUREAU_QRT, dtype: int64"
      ]
     },
     "execution_count": 36,
     "metadata": {},
     "output_type": "execute_result"
    }
   ],
   "source": [
    "train.AMT_REQ_CREDIT_BUREAU_QRT.value_counts()"
   ]
  },
  {
   "cell_type": "code",
   "execution_count": 37,
   "metadata": {},
   "outputs": [
    {
     "data": {
      "text/plain": [
       "0.26547414959848414"
      ]
     },
     "execution_count": 37,
     "metadata": {},
     "output_type": "execute_result"
    }
   ],
   "source": [
    "train['AMT_REQ_CREDIT_BUREAU_QRT'].mean()"
   ]
  },
  {
   "cell_type": "code",
   "execution_count": 38,
   "metadata": {},
   "outputs": [
    {
     "data": {
      "text/plain": [
       "0    0.0\n",
       "dtype: float64"
      ]
     },
     "execution_count": 38,
     "metadata": {},
     "output_type": "execute_result"
    }
   ],
   "source": [
    "train['AMT_REQ_CREDIT_BUREAU_QRT'].mode()"
   ]
  },
  {
   "cell_type": "markdown",
   "metadata": {},
   "source": [
    "We cannot replace this column by mean value so we will replace it by mode.\n",
    "\n"
   ]
  },
  {
   "cell_type": "markdown",
   "metadata": {},
   "source": [
    "## AMT_REQ_CREDIT_BUREAU_YEAR"
   ]
  },
  {
   "cell_type": "code",
   "execution_count": 39,
   "metadata": {},
   "outputs": [
    {
     "data": {
      "text/plain": [
       "0    1.0\n",
       "1    0.0\n",
       "2    0.0\n",
       "3    NaN\n",
       "4    0.0\n",
       "5    1.0\n",
       "6    2.0\n",
       "7    0.0\n",
       "8    1.0\n",
       "9    NaN\n",
       "Name: AMT_REQ_CREDIT_BUREAU_YEAR, dtype: float64"
      ]
     },
     "execution_count": 39,
     "metadata": {},
     "output_type": "execute_result"
    }
   ],
   "source": [
    "train['AMT_REQ_CREDIT_BUREAU_YEAR'].head(10)"
   ]
  },
  {
   "cell_type": "code",
   "execution_count": 40,
   "metadata": {},
   "outputs": [
    {
     "data": {
      "text/plain": [
       "<AxesSubplot:ylabel='Frequency'>"
      ]
     },
     "execution_count": 40,
     "metadata": {},
     "output_type": "execute_result"
    },
    {
     "data": {
      "image/png": "[encoded data removed]",
      "text/plain": [
       "<Figure size 432x288 with 1 Axes>"
      ]
     },
     "metadata": {
      "needs_background": "light"
     },
     "output_type": "display_data"
    }
   ],
   "source": [
    "unique_values = len(train.AMT_REQ_CREDIT_BUREAU_YEAR.unique())\n",
    "train['AMT_REQ_CREDIT_BUREAU_YEAR'].plot.hist(bins = unique_values)"
   ]
  },
  {
   "cell_type": "code",
   "execution_count": 41,
   "metadata": {},
   "outputs": [
    {
     "data": {
      "text/plain": [
       "1.899974435321363"
      ]
     },
     "execution_count": 41,
     "metadata": {},
     "output_type": "execute_result"
    }
   ],
   "source": [
    "train['AMT_REQ_CREDIT_BUREAU_YEAR'].mean()"
   ]
  },
  {
   "cell_type": "code",
   "execution_count": 42,
   "metadata": {},
   "outputs": [
    {
     "data": {
      "text/plain": [
       "0    0.0\n",
       "dtype: float64"
      ]
     },
     "execution_count": 42,
     "metadata": {},
     "output_type": "execute_result"
    }
   ],
   "source": [
    "train['AMT_REQ_CREDIT_BUREAU_YEAR'].mode()"
   ]
  },
  {
   "cell_type": "markdown",
   "metadata": {},
   "source": [
    "## AMT_REQ_CREDIT_BUREAU_WEEK"
   ]
  },
  {
   "cell_type": "code",
   "execution_count": 43,
   "metadata": {},
   "outputs": [
    {
     "data": {
      "text/plain": [
       "0    0.0\n",
       "1    0.0\n",
       "2    0.0\n",
       "3    NaN\n",
       "4    0.0\n",
       "5    0.0\n",
       "6    0.0\n",
       "7    0.0\n",
       "8    0.0\n",
       "9    NaN\n",
       "Name: AMT_REQ_CREDIT_BUREAU_WEEK, dtype: float64"
      ]
     },
     "execution_count": 43,
     "metadata": {},
     "output_type": "execute_result"
    }
   ],
   "source": [
    "train['AMT_REQ_CREDIT_BUREAU_WEEK'].head(10)"
   ]
  },
  {
   "cell_type": "code",
   "execution_count": 44,
   "metadata": {},
   "outputs": [
    {
     "data": {
      "text/plain": [
       "<AxesSubplot:ylabel='Frequency'>"
      ]
     },
     "execution_count": 44,
     "metadata": {},
     "output_type": "execute_result"
    },
    {
     "data": {
      "image/png": "[encoded data removed]",
      "text/plain": [
       "<Figure size 432x288 with 1 Axes>"
      ]
     },
     "metadata": {
      "needs_background": "light"
     },
     "output_type": "display_data"
    }
   ],
   "source": [
    "unique_values = len(train.AMT_REQ_CREDIT_BUREAU_WEEK.unique())\n",
    "train['AMT_REQ_CREDIT_BUREAU_WEEK'].plot.hist(bins=unique_values)"
   ]
  },
  {
   "cell_type": "markdown",
   "metadata": {},
   "source": [
    "Most of the values are 0 in this column So, this column is mostly acting as a constant and has no variation. So, we can ignore this column."
   ]
  },
  {
   "cell_type": "markdown",
   "metadata": {},
   "source": [
    "## AMT_REQ_CREDIT_BUREAU_MON"
   ]
  },
  {
   "cell_type": "code",
   "execution_count": 45,
   "metadata": {},
   "outputs": [
    {
     "data": {
      "text/plain": [
       "0    0.0\n",
       "1    0.0\n",
       "2    0.0\n",
       "3    NaN\n",
       "4    0.0\n",
       "5    0.0\n",
       "6    1.0\n",
       "7    0.0\n",
       "8    0.0\n",
       "9    NaN\n",
       "Name: AMT_REQ_CREDIT_BUREAU_MON, dtype: float64"
      ]
     },
     "execution_count": 45,
     "metadata": {},
     "output_type": "execute_result"
    }
   ],
   "source": [
    "train['AMT_REQ_CREDIT_BUREAU_MON'].head(10)"
   ]
  },
  {
   "cell_type": "code",
   "execution_count": 46,
   "metadata": {},
   "outputs": [
    {
     "data": {
      "text/plain": [
       "<AxesSubplot:ylabel='Frequency'>"
      ]
     },
     "execution_count": 46,
     "metadata": {},
     "output_type": "execute_result"
    },
    {
     "data": {
      "image/png": "[encoded data removed]",
      "text/plain": [
       "<Figure size 432x288 with 1 Axes>"
      ]
     },
     "metadata": {
      "needs_background": "light"
     },
     "output_type": "display_data"
    }
   ],
   "source": [
    "unique_values =  len(train.AMT_REQ_CREDIT_BUREAU_MON.unique())\n",
    "train['AMT_REQ_CREDIT_BUREAU_MON'].plot.hist(bins=unique_values)"
   ]
  },
  {
   "cell_type": "markdown",
   "metadata": {},
   "source": [
    "Here also we can ignore the column as the column has no variation"
   ]
  },
  {
   "cell_type": "markdown",
   "metadata": {},
   "source": [
    "## AMT_REQ_CREDIT_BUREAU_DAY"
   ]
  },
  {
   "cell_type": "code",
   "execution_count": 47,
   "metadata": {},
   "outputs": [
    {
     "data": {
      "text/plain": [
       "0    0.0\n",
       "1    0.0\n",
       "2    0.0\n",
       "3    NaN\n",
       "4    0.0\n",
       "5    0.0\n",
       "6    0.0\n",
       "7    0.0\n",
       "8    0.0\n",
       "9    NaN\n",
       "Name: AMT_REQ_CREDIT_BUREAU_DAY, dtype: float64"
      ]
     },
     "execution_count": 47,
     "metadata": {},
     "output_type": "execute_result"
    }
   ],
   "source": [
    "train['AMT_REQ_CREDIT_BUREAU_DAY'].head(10)"
   ]
  },
  {
   "cell_type": "code",
   "execution_count": 48,
   "metadata": {},
   "outputs": [
    {
     "data": {
      "text/plain": [
       "<AxesSubplot:ylabel='Frequency'>"
      ]
     },
     "execution_count": 48,
     "metadata": {},
     "output_type": "execute_result"
    },
    {
     "data": {
      "image/png": "[encoded data removed]",
      "text/plain": [
       "<Figure size 432x288 with 1 Axes>"
      ]
     },
     "metadata": {
      "needs_background": "light"
     },
     "output_type": "display_data"
    }
   ],
   "source": [
    "unique_values =  len(train.AMT_REQ_CREDIT_BUREAU_DAY.unique())\n",
    "train['AMT_REQ_CREDIT_BUREAU_DAY'].plot.hist(bins=unique_values)"
   ]
  },
  {
   "cell_type": "code",
   "execution_count": 49,
   "metadata": {},
   "outputs": [
    {
     "data": {
      "text/plain": [
       "0.0    264503\n",
       "1.0      1292\n",
       "2.0       106\n",
       "3.0        45\n",
       "4.0        26\n",
       "5.0         9\n",
       "6.0         8\n",
       "9.0         2\n",
       "8.0         1\n",
       "Name: AMT_REQ_CREDIT_BUREAU_DAY, dtype: int64"
      ]
     },
     "execution_count": 49,
     "metadata": {},
     "output_type": "execute_result"
    }
   ],
   "source": [
    "train.AMT_REQ_CREDIT_BUREAU_DAY.value_counts()"
   ]
  },
  {
   "cell_type": "markdown",
   "metadata": {},
   "source": [
    "Here also we can ignore the column as the column has no variation"
   ]
  },
  {
   "cell_type": "markdown",
   "metadata": {},
   "source": [
    "## AMT_REQ_CREDIT_BUREAU_HOUR"
   ]
  },
  {
   "cell_type": "code",
   "execution_count": 50,
   "metadata": {},
   "outputs": [
    {
     "data": {
      "text/plain": [
       "0    0.0\n",
       "1    0.0\n",
       "2    0.0\n",
       "3    NaN\n",
       "4    0.0\n",
       "5    0.0\n",
       "6    0.0\n",
       "7    0.0\n",
       "8    0.0\n",
       "9    NaN\n",
       "Name: AMT_REQ_CREDIT_BUREAU_HOUR, dtype: float64"
      ]
     },
     "execution_count": 50,
     "metadata": {},
     "output_type": "execute_result"
    }
   ],
   "source": [
    "train['AMT_REQ_CREDIT_BUREAU_HOUR'].head(10)"
   ]
  },
  {
   "cell_type": "code",
   "execution_count": 51,
   "metadata": {},
   "outputs": [
    {
     "data": {
      "text/plain": [
       "<AxesSubplot:ylabel='Frequency'>"
      ]
     },
     "execution_count": 51,
     "metadata": {},
     "output_type": "execute_result"
    },
    {
     "data": {
      "image/png": "[encoded data removed]",
      "text/plain": [
       "<Figure size 432x288 with 1 Axes>"
      ]
     },
     "metadata": {
      "needs_background": "light"
     },
     "output_type": "display_data"
    }
   ],
   "source": [
    "unique_values =  len(train.AMT_REQ_CREDIT_BUREAU_HOUR.unique())\n",
    "train['AMT_REQ_CREDIT_BUREAU_HOUR'].plot.hist(bins=unique_values)"
   ]
  },
  {
   "cell_type": "code",
   "execution_count": 52,
   "metadata": {},
   "outputs": [
    {
     "data": {
      "text/plain": [
       "0.0    264366\n",
       "1.0      1560\n",
       "2.0        56\n",
       "3.0         9\n",
       "4.0         1\n",
       "Name: AMT_REQ_CREDIT_BUREAU_HOUR, dtype: int64"
      ]
     },
     "execution_count": 52,
     "metadata": {},
     "output_type": "execute_result"
    }
   ],
   "source": [
    "train.AMT_REQ_CREDIT_BUREAU_HOUR.value_counts()"
   ]
  },
  {
   "cell_type": "markdown",
   "metadata": {},
   "source": [
    "Again the same situation, we can ignore the column"
   ]
  },
  {
   "cell_type": "raw",
   "metadata": {},
   "source": [
    "The dates columns need to be converted into year for better understanding. As the days are given as negative values, we have to convert it into positive values. We will do the same transformation for other dates."
   ]
  },
  {
   "cell_type": "code",
   "execution_count": 54,
   "metadata": {},
   "outputs": [
    {
     "name": "stderr",
     "output_type": "stream",
     "text": [
      "<ipython-input-54-eaeb3732a0a2>:1: SettingWithCopyWarning: \n",
      "A value is trying to be set on a copy of a slice from a DataFrame.\n",
      "Try using .loc[row_indexer,col_indexer] = value instead\n",
      "\n",
      "See the caveats in the documentation: https://pandas.pydata.org/pandas-docs/stable/user_guide/indexing.html#returning-a-view-versus-a-copy\n",
      "  train['DAYS_BIRTH'] = -round(train['DAYS_BIRTH']/365, 0)\n"
     ]
    },
    {
     "data": {
      "text/plain": [
       "0    26.0\n",
       "1    46.0\n",
       "2    52.0\n",
       "3    52.0\n",
       "4    55.0\n",
       "Name: DAYS_BIRTH, dtype: float64"
      ]
     },
     "execution_count": 54,
     "metadata": {},
     "output_type": "execute_result"
    }
   ],
   "source": [
    "train['DAYS_BIRTH'] = -round(train['DAYS_BIRTH']/365, 0)\n",
    "train['DAYS_BIRTH'].head()"
   ]
  },
  {
   "cell_type": "code",
   "execution_count": 55,
   "metadata": {},
   "outputs": [
    {
     "name": "stderr",
     "output_type": "stream",
     "text": [
      "<ipython-input-55-febd2407ad7c>:1: SettingWithCopyWarning: \n",
      "A value is trying to be set on a copy of a slice from a DataFrame.\n",
      "Try using .loc[row_indexer,col_indexer] = value instead\n",
      "\n",
      "See the caveats in the documentation: https://pandas.pydata.org/pandas-docs/stable/user_guide/indexing.html#returning-a-view-versus-a-copy\n",
      "  train['DAYS_REGISTRATION'] = -round(train['DAYS_REGISTRATION']/365, 0)\n"
     ]
    },
    {
     "data": {
      "text/plain": [
       "0    10.0\n",
       "1     3.0\n",
       "2    12.0\n",
       "3    27.0\n",
       "4    12.0\n",
       "Name: DAYS_REGISTRATION, dtype: float64"
      ]
     },
     "execution_count": 55,
     "metadata": {},
     "output_type": "execute_result"
    }
   ],
   "source": [
    "train['DAYS_REGISTRATION'] = -round(train['DAYS_REGISTRATION']/365, 0)\n",
    "train['DAYS_REGISTRATION'].head()"
   ]
  },
  {
   "cell_type": "code",
   "execution_count": 56,
   "metadata": {},
   "outputs": [
    {
     "name": "stderr",
     "output_type": "stream",
     "text": [
      "<ipython-input-56-42067d898d0f>:1: SettingWithCopyWarning: \n",
      "A value is trying to be set on a copy of a slice from a DataFrame.\n",
      "Try using .loc[row_indexer,col_indexer] = value instead\n",
      "\n",
      "See the caveats in the documentation: https://pandas.pydata.org/pandas-docs/stable/user_guide/indexing.html#returning-a-view-versus-a-copy\n",
      "  train['DAYS_ID_PUBLISH'] = -round(train['DAYS_ID_PUBLISH']/365, 0)\n"
     ]
    },
    {
     "data": {
      "text/plain": [
       "0    6.0\n",
       "1    1.0\n",
       "2    7.0\n",
       "3    7.0\n",
       "4    9.0\n",
       "Name: DAYS_ID_PUBLISH, dtype: float64"
      ]
     },
     "execution_count": 56,
     "metadata": {},
     "output_type": "execute_result"
    }
   ],
   "source": [
    "train['DAYS_ID_PUBLISH'] = -round(train['DAYS_ID_PUBLISH']/365, 0)\n",
    "train['DAYS_ID_PUBLISH'].head()"
   ]
  },
  {
   "cell_type": "code",
   "execution_count": null,
   "metadata": {},
   "outputs": [],
   "source": [
    "#Removing unwanted columns\n",
    "df_app=df_app.iloc[:,:38]\n",
    "remaining_unwanted=['FLAG_MOBIL', 'FLAG_EMP_PHONE', 'FLAG_WORK_PHONE', 'FLAG_CONT_MOBILE',\n",
    "       'FLAG_PHONE', 'FLAG_EMAIL','REGION_RATING_CLIENT','REGION_RATING_CLIENT_W_CITY','FLAG_EMAIL', 'REGION_RATING_CLIENT',\n",
    "       'REGION_RATING_CLIENT_W_CITY']\n",
    "df_app.drop(labels=remaining_unwanted,axis=1,inplace=True)"
   ]
  },
  {
   "cell_type": "code",
   "execution_count": 110,
   "metadata": {},
   "outputs": [
    {
     "data": {
      "text/html": [
       "<div>\n",
       "<style scoped>\n",
       "    .dataframe tbody tr th:only-of-type {\n",
       "        vertical-align: middle;\n",
       "    }\n",
       "\n",
       "    .dataframe tbody tr th {\n",
       "        vertical-align: top;\n",
       "    }\n",
       "\n",
       "    .dataframe thead th {\n",
       "        text-align: right;\n",
       "    }\n",
       "</style>\n",
       "<table border=\"1\" class=\"dataframe\">\n",
       "  <thead>\n",
       "    <tr style=\"text-align: right;\">\n",
       "      <th></th>\n",
       "      <th>SK_ID_CURR</th>\n",
       "      <th>TARGET</th>\n",
       "      <th>NAME_CONTRACT_TYPE</th>\n",
       "      <th>CODE_GENDER</th>\n",
       "      <th>FLAG_OWN_CAR</th>\n",
       "      <th>FLAG_OWN_REALTY</th>\n",
       "      <th>CNT_CHILDREN</th>\n",
       "      <th>AMT_INCOME_TOTAL</th>\n",
       "      <th>AMT_CREDIT</th>\n",
       "      <th>AMT_ANNUITY</th>\n",
       "      <th>...</th>\n",
       "      <th>DAYS_ID_PUBLISH</th>\n",
       "      <th>OWN_CAR_AGE</th>\n",
       "      <th>OCCUPATION_TYPE</th>\n",
       "      <th>CNT_FAM_MEMBERS</th>\n",
       "      <th>WEEKDAY_APPR_PROCESS_START</th>\n",
       "      <th>HOUR_APPR_PROCESS_START</th>\n",
       "      <th>REG_REGION_NOT_LIVE_REGION</th>\n",
       "      <th>REG_REGION_NOT_WORK_REGION</th>\n",
       "      <th>LIVE_REGION_NOT_WORK_REGION</th>\n",
       "      <th>REG_CITY_NOT_LIVE_CITY</th>\n",
       "    </tr>\n",
       "  </thead>\n",
       "  <tbody>\n",
       "    <tr>\n",
       "      <th>0</th>\n",
       "      <td>100002</td>\n",
       "      <td>1</td>\n",
       "      <td>Cash loans</td>\n",
       "      <td>M</td>\n",
       "      <td>N</td>\n",
       "      <td>Y</td>\n",
       "      <td>0</td>\n",
       "      <td>202500.0</td>\n",
       "      <td>406597.5</td>\n",
       "      <td>24700.5</td>\n",
       "      <td>...</td>\n",
       "      <td>-2120</td>\n",
       "      <td>NaN</td>\n",
       "      <td>Laborers</td>\n",
       "      <td>1.0</td>\n",
       "      <td>WEDNESDAY</td>\n",
       "      <td>10</td>\n",
       "      <td>0</td>\n",
       "      <td>0</td>\n",
       "      <td>0</td>\n",
       "      <td>0</td>\n",
       "    </tr>\n",
       "    <tr>\n",
       "      <th>1</th>\n",
       "      <td>100003</td>\n",
       "      <td>0</td>\n",
       "      <td>Cash loans</td>\n",
       "      <td>F</td>\n",
       "      <td>N</td>\n",
       "      <td>N</td>\n",
       "      <td>0</td>\n",
       "      <td>270000.0</td>\n",
       "      <td>1293502.5</td>\n",
       "      <td>35698.5</td>\n",
       "      <td>...</td>\n",
       "      <td>-291</td>\n",
       "      <td>NaN</td>\n",
       "      <td>Core staff</td>\n",
       "      <td>2.0</td>\n",
       "      <td>MONDAY</td>\n",
       "      <td>11</td>\n",
       "      <td>0</td>\n",
       "      <td>0</td>\n",
       "      <td>0</td>\n",
       "      <td>0</td>\n",
       "    </tr>\n",
       "    <tr>\n",
       "      <th>2</th>\n",
       "      <td>100004</td>\n",
       "      <td>0</td>\n",
       "      <td>Revolving loans</td>\n",
       "      <td>M</td>\n",
       "      <td>Y</td>\n",
       "      <td>Y</td>\n",
       "      <td>0</td>\n",
       "      <td>67500.0</td>\n",
       "      <td>135000.0</td>\n",
       "      <td>6750.0</td>\n",
       "      <td>...</td>\n",
       "      <td>-2531</td>\n",
       "      <td>26.0</td>\n",
       "      <td>Laborers</td>\n",
       "      <td>1.0</td>\n",
       "      <td>MONDAY</td>\n",
       "      <td>9</td>\n",
       "      <td>0</td>\n",
       "      <td>0</td>\n",
       "      <td>0</td>\n",
       "      <td>0</td>\n",
       "    </tr>\n",
       "    <tr>\n",
       "      <th>3</th>\n",
       "      <td>100006</td>\n",
       "      <td>0</td>\n",
       "      <td>Cash loans</td>\n",
       "      <td>F</td>\n",
       "      <td>N</td>\n",
       "      <td>Y</td>\n",
       "      <td>0</td>\n",
       "      <td>135000.0</td>\n",
       "      <td>312682.5</td>\n",
       "      <td>29686.5</td>\n",
       "      <td>...</td>\n",
       "      <td>-2437</td>\n",
       "      <td>NaN</td>\n",
       "      <td>Laborers</td>\n",
       "      <td>2.0</td>\n",
       "      <td>WEDNESDAY</td>\n",
       "      <td>17</td>\n",
       "      <td>0</td>\n",
       "      <td>0</td>\n",
       "      <td>0</td>\n",
       "      <td>0</td>\n",
       "    </tr>\n",
       "    <tr>\n",
       "      <th>4</th>\n",
       "      <td>100007</td>\n",
       "      <td>0</td>\n",
       "      <td>Cash loans</td>\n",
       "      <td>M</td>\n",
       "      <td>N</td>\n",
       "      <td>Y</td>\n",
       "      <td>0</td>\n",
       "      <td>121500.0</td>\n",
       "      <td>513000.0</td>\n",
       "      <td>21865.5</td>\n",
       "      <td>...</td>\n",
       "      <td>-3458</td>\n",
       "      <td>NaN</td>\n",
       "      <td>Core staff</td>\n",
       "      <td>1.0</td>\n",
       "      <td>THURSDAY</td>\n",
       "      <td>11</td>\n",
       "      <td>0</td>\n",
       "      <td>0</td>\n",
       "      <td>0</td>\n",
       "      <td>0</td>\n",
       "    </tr>\n",
       "  </tbody>\n",
       "</table>\n",
       "<p>5 rows × 30 columns</p>\n",
       "</div>"
      ],
      "text/plain": [
       "   SK_ID_CURR  TARGET NAME_CONTRACT_TYPE CODE_GENDER FLAG_OWN_CAR  \\\n",
       "0      100002       1         Cash loans           M            N   \n",
       "1      100003       0         Cash loans           F            N   \n",
       "2      100004       0    Revolving loans           M            Y   \n",
       "3      100006       0         Cash loans           F            N   \n",
       "4      100007       0         Cash loans           M            N   \n",
       "\n",
       "  FLAG_OWN_REALTY  CNT_CHILDREN  AMT_INCOME_TOTAL  AMT_CREDIT  AMT_ANNUITY  \\\n",
       "0               Y             0          202500.0    406597.5      24700.5   \n",
       "1               N             0          270000.0   1293502.5      35698.5   \n",
       "2               Y             0           67500.0    135000.0       6750.0   \n",
       "3               Y             0          135000.0    312682.5      29686.5   \n",
       "4               Y             0          121500.0    513000.0      21865.5   \n",
       "\n",
       "   ...  DAYS_ID_PUBLISH OWN_CAR_AGE OCCUPATION_TYPE CNT_FAM_MEMBERS  \\\n",
       "0  ...            -2120         NaN        Laborers             1.0   \n",
       "1  ...             -291         NaN      Core staff             2.0   \n",
       "2  ...            -2531        26.0        Laborers             1.0   \n",
       "3  ...            -2437         NaN        Laborers             2.0   \n",
       "4  ...            -3458         NaN      Core staff             1.0   \n",
       "\n",
       "  WEEKDAY_APPR_PROCESS_START HOUR_APPR_PROCESS_START  \\\n",
       "0                  WEDNESDAY                      10   \n",
       "1                     MONDAY                      11   \n",
       "2                     MONDAY                       9   \n",
       "3                  WEDNESDAY                      17   \n",
       "4                   THURSDAY                      11   \n",
       "\n",
       "   REG_REGION_NOT_LIVE_REGION  REG_REGION_NOT_WORK_REGION  \\\n",
       "0                           0                           0   \n",
       "1                           0                           0   \n",
       "2                           0                           0   \n",
       "3                           0                           0   \n",
       "4                           0                           0   \n",
       "\n",
       "   LIVE_REGION_NOT_WORK_REGION  REG_CITY_NOT_LIVE_CITY  \n",
       "0                            0                       0  \n",
       "1                            0                       0  \n",
       "2                            0                       0  \n",
       "3                            0                       0  \n",
       "4                            0                       0  \n",
       "\n",
       "[5 rows x 30 columns]"
      ]
     },
     "execution_count": 110,
     "metadata": {},
     "output_type": "execute_result"
    }
   ],
   "source": [
    "df_app.head()"
   ]
  },
  {
   "cell_type": "code",
   "execution_count": 112,
   "metadata": {},
   "outputs": [
    {
     "data": {
      "text/plain": [
       "F    202452\n",
       "M    105059\n",
       "Name: CODE_GENDER, dtype: int64"
      ]
     },
     "execution_count": 112,
     "metadata": {},
     "output_type": "execute_result"
    }
   ],
   "source": [
    "#finding unique values\n",
    "df_app['CODE_GENDER'].value_counts()"
   ]
  },
  {
   "cell_type": "code",
   "execution_count": null,
   "metadata": {},
   "outputs": [],
   "source": [
    "df_app.loc[df_app['CODE_GENDER']=='XNA','CODE_GENDER']='F'"
   ]
  },
  {
   "cell_type": "markdown",
   "metadata": {},
   "source": [
    "### Two columns are to be binned namely AMT_INCOME_TOTAL and AMT_CREDIT "
   ]
  },
  {
   "cell_type": "code",
   "execution_count": 113,
   "metadata": {},
   "outputs": [],
   "source": [
    "#Creating bins for AMT_INCOME_TOTAL\n",
    "\n",
    "bins = [0,20000,40000,60000,80000,100000,120000,140000,160000,180000,200000,220000,240000,260000,280000,300000,320000,340000,360000,380000,400000,420000,440000,460000,480000,500000,99999999999]\n",
    "slots = ['0-20000', '20000-40000','40000-60000','60000-80000','80000-100000','100000-120000','120000-140000','140000-160000','160000-180000','180000-200000',\n",
    "       '200000-220000','220000-240000','240000-26000','260000-280000','280000-300000','300000-320000','320000-340000',\n",
    "       '340000-360000','360000-380000','380000-400000','400000-420000','420000-440000','440000-460000','460000-480000','480000-500000','500000 and above']\n",
    "\n",
    "df_app['AMT_INCOME_TOTAL_BIN']=pd.cut(df_app['AMT_INCOME_TOTAL'],bins,labels=slots)"
   ]
  },
  {
   "cell_type": "code",
   "execution_count": 114,
   "metadata": {},
   "outputs": [],
   "source": [
    "#Creating bins for AMT_CREDIT\n",
    "\n",
    "bins = [0,50000,100000,150000,200000,250000,300000,350000,400000,450000,500000,550000,600000,650000,700000,750000,800000,850000,900000,999999999999]\n",
    "slots = ['0-50000','50000-100000','100000-150000','150000-200000','200000-250000', '250000-300000', '300000-350000', '350000-400000','400000-450000',\n",
    "        '450000-500000','500000-550000','550000-600000','600000-650000','650000-700000','700000-750000','750000-800000',\n",
    "        '800000-850000','850000-900000','900000 and above']\n",
    "\n",
    "df_app['AMT_CREDIT_BIN']=pd.cut(df_app['AMT_CREDIT'],bins=bins,labels=slots)"
   ]
  },
  {
   "cell_type": "code",
   "execution_count": 116,
   "metadata": {},
   "outputs": [
    {
     "data": {
      "text/html": [
       "<div>\n",
       "<style scoped>\n",
       "    .dataframe tbody tr th:only-of-type {\n",
       "        vertical-align: middle;\n",
       "    }\n",
       "\n",
       "    .dataframe tbody tr th {\n",
       "        vertical-align: top;\n",
       "    }\n",
       "\n",
       "    .dataframe thead th {\n",
       "        text-align: right;\n",
       "    }\n",
       "</style>\n",
       "<table border=\"1\" class=\"dataframe\">\n",
       "  <thead>\n",
       "    <tr style=\"text-align: right;\">\n",
       "      <th></th>\n",
       "      <th>SK_ID_CURR</th>\n",
       "      <th>TARGET</th>\n",
       "      <th>NAME_CONTRACT_TYPE</th>\n",
       "      <th>CODE_GENDER</th>\n",
       "      <th>FLAG_OWN_CAR</th>\n",
       "      <th>FLAG_OWN_REALTY</th>\n",
       "      <th>CNT_CHILDREN</th>\n",
       "      <th>AMT_INCOME_TOTAL</th>\n",
       "      <th>AMT_CREDIT</th>\n",
       "      <th>AMT_ANNUITY</th>\n",
       "      <th>...</th>\n",
       "      <th>OCCUPATION_TYPE</th>\n",
       "      <th>CNT_FAM_MEMBERS</th>\n",
       "      <th>WEEKDAY_APPR_PROCESS_START</th>\n",
       "      <th>HOUR_APPR_PROCESS_START</th>\n",
       "      <th>REG_REGION_NOT_LIVE_REGION</th>\n",
       "      <th>REG_REGION_NOT_WORK_REGION</th>\n",
       "      <th>LIVE_REGION_NOT_WORK_REGION</th>\n",
       "      <th>REG_CITY_NOT_LIVE_CITY</th>\n",
       "      <th>AMT_INCOME_TOTAL_BIN</th>\n",
       "      <th>AMT_CREDIT_BIN</th>\n",
       "    </tr>\n",
       "  </thead>\n",
       "  <tbody>\n",
       "    <tr>\n",
       "      <th>0</th>\n",
       "      <td>100002</td>\n",
       "      <td>1</td>\n",
       "      <td>Cash loans</td>\n",
       "      <td>M</td>\n",
       "      <td>N</td>\n",
       "      <td>Y</td>\n",
       "      <td>0</td>\n",
       "      <td>202500.0</td>\n",
       "      <td>406597.5</td>\n",
       "      <td>24700.5</td>\n",
       "      <td>...</td>\n",
       "      <td>Laborers</td>\n",
       "      <td>1.0</td>\n",
       "      <td>WEDNESDAY</td>\n",
       "      <td>10</td>\n",
       "      <td>0</td>\n",
       "      <td>0</td>\n",
       "      <td>0</td>\n",
       "      <td>0</td>\n",
       "      <td>200000-220000</td>\n",
       "      <td>400000-450000</td>\n",
       "    </tr>\n",
       "    <tr>\n",
       "      <th>1</th>\n",
       "      <td>100003</td>\n",
       "      <td>0</td>\n",
       "      <td>Cash loans</td>\n",
       "      <td>F</td>\n",
       "      <td>N</td>\n",
       "      <td>N</td>\n",
       "      <td>0</td>\n",
       "      <td>270000.0</td>\n",
       "      <td>1293502.5</td>\n",
       "      <td>35698.5</td>\n",
       "      <td>...</td>\n",
       "      <td>Core staff</td>\n",
       "      <td>2.0</td>\n",
       "      <td>MONDAY</td>\n",
       "      <td>11</td>\n",
       "      <td>0</td>\n",
       "      <td>0</td>\n",
       "      <td>0</td>\n",
       "      <td>0</td>\n",
       "      <td>260000-280000</td>\n",
       "      <td>900000 and above</td>\n",
       "    </tr>\n",
       "    <tr>\n",
       "      <th>2</th>\n",
       "      <td>100004</td>\n",
       "      <td>0</td>\n",
       "      <td>Revolving loans</td>\n",
       "      <td>M</td>\n",
       "      <td>Y</td>\n",
       "      <td>Y</td>\n",
       "      <td>0</td>\n",
       "      <td>67500.0</td>\n",
       "      <td>135000.0</td>\n",
       "      <td>6750.0</td>\n",
       "      <td>...</td>\n",
       "      <td>Laborers</td>\n",
       "      <td>1.0</td>\n",
       "      <td>MONDAY</td>\n",
       "      <td>9</td>\n",
       "      <td>0</td>\n",
       "      <td>0</td>\n",
       "      <td>0</td>\n",
       "      <td>0</td>\n",
       "      <td>60000-80000</td>\n",
       "      <td>100000-150000</td>\n",
       "    </tr>\n",
       "    <tr>\n",
       "      <th>3</th>\n",
       "      <td>100006</td>\n",
       "      <td>0</td>\n",
       "      <td>Cash loans</td>\n",
       "      <td>F</td>\n",
       "      <td>N</td>\n",
       "      <td>Y</td>\n",
       "      <td>0</td>\n",
       "      <td>135000.0</td>\n",
       "      <td>312682.5</td>\n",
       "      <td>29686.5</td>\n",
       "      <td>...</td>\n",
       "      <td>Laborers</td>\n",
       "      <td>2.0</td>\n",
       "      <td>WEDNESDAY</td>\n",
       "      <td>17</td>\n",
       "      <td>0</td>\n",
       "      <td>0</td>\n",
       "      <td>0</td>\n",
       "      <td>0</td>\n",
       "      <td>120000-140000</td>\n",
       "      <td>300000-350000</td>\n",
       "    </tr>\n",
       "    <tr>\n",
       "      <th>4</th>\n",
       "      <td>100007</td>\n",
       "      <td>0</td>\n",
       "      <td>Cash loans</td>\n",
       "      <td>M</td>\n",
       "      <td>N</td>\n",
       "      <td>Y</td>\n",
       "      <td>0</td>\n",
       "      <td>121500.0</td>\n",
       "      <td>513000.0</td>\n",
       "      <td>21865.5</td>\n",
       "      <td>...</td>\n",
       "      <td>Core staff</td>\n",
       "      <td>1.0</td>\n",
       "      <td>THURSDAY</td>\n",
       "      <td>11</td>\n",
       "      <td>0</td>\n",
       "      <td>0</td>\n",
       "      <td>0</td>\n",
       "      <td>0</td>\n",
       "      <td>120000-140000</td>\n",
       "      <td>500000-550000</td>\n",
       "    </tr>\n",
       "  </tbody>\n",
       "</table>\n",
       "<p>5 rows × 32 columns</p>\n",
       "</div>"
      ],
      "text/plain": [
       "   SK_ID_CURR  TARGET NAME_CONTRACT_TYPE CODE_GENDER FLAG_OWN_CAR  \\\n",
       "0      100002       1         Cash loans           M            N   \n",
       "1      100003       0         Cash loans           F            N   \n",
       "2      100004       0    Revolving loans           M            Y   \n",
       "3      100006       0         Cash loans           F            N   \n",
       "4      100007       0         Cash loans           M            N   \n",
       "\n",
       "  FLAG_OWN_REALTY  CNT_CHILDREN  AMT_INCOME_TOTAL  AMT_CREDIT  AMT_ANNUITY  \\\n",
       "0               Y             0          202500.0    406597.5      24700.5   \n",
       "1               N             0          270000.0   1293502.5      35698.5   \n",
       "2               Y             0           67500.0    135000.0       6750.0   \n",
       "3               Y             0          135000.0    312682.5      29686.5   \n",
       "4               Y             0          121500.0    513000.0      21865.5   \n",
       "\n",
       "   ...  OCCUPATION_TYPE CNT_FAM_MEMBERS WEEKDAY_APPR_PROCESS_START  \\\n",
       "0  ...         Laborers             1.0                  WEDNESDAY   \n",
       "1  ...       Core staff             2.0                     MONDAY   \n",
       "2  ...         Laborers             1.0                     MONDAY   \n",
       "3  ...         Laborers             2.0                  WEDNESDAY   \n",
       "4  ...       Core staff             1.0                   THURSDAY   \n",
       "\n",
       "  HOUR_APPR_PROCESS_START REG_REGION_NOT_LIVE_REGION  \\\n",
       "0                      10                          0   \n",
       "1                      11                          0   \n",
       "2                       9                          0   \n",
       "3                      17                          0   \n",
       "4                      11                          0   \n",
       "\n",
       "  REG_REGION_NOT_WORK_REGION  LIVE_REGION_NOT_WORK_REGION  \\\n",
       "0                          0                            0   \n",
       "1                          0                            0   \n",
       "2                          0                            0   \n",
       "3                          0                            0   \n",
       "4                          0                            0   \n",
       "\n",
       "   REG_CITY_NOT_LIVE_CITY  AMT_INCOME_TOTAL_BIN    AMT_CREDIT_BIN  \n",
       "0                       0         200000-220000     400000-450000  \n",
       "1                       0         260000-280000  900000 and above  \n",
       "2                       0           60000-80000     100000-150000  \n",
       "3                       0         120000-140000     300000-350000  \n",
       "4                       0         120000-140000     500000-550000  \n",
       "\n",
       "[5 rows x 32 columns]"
      ]
     },
     "execution_count": 116,
     "metadata": {},
     "output_type": "execute_result"
    }
   ],
   "source": [
    "\n",
    "df_app.head()"
   ]
  },
  {
   "cell_type": "markdown",
   "metadata": {},
   "source": [
    "# Data Analysis"
   ]
  },
  {
   "cell_type": "code",
   "execution_count": 118,
   "metadata": {},
   "outputs": [],
   "source": [
    "df_zero = df_app.loc[df_app[\"TARGET\"]==0]\n",
    "df_one = df_app.loc[df_app[\"TARGET\"]==1]"
   ]
  },
  {
   "cell_type": "code",
   "execution_count": 119,
   "metadata": {},
   "outputs": [
    {
     "data": {
      "text/plain": [
       "11.387150050352467"
      ]
     },
     "execution_count": 119,
     "metadata": {},
     "output_type": "execute_result"
    }
   ],
   "source": [
    "len(df_zero)/len(df_one)"
   ]
  },
  {
   "cell_type": "code",
   "execution_count": 120,
   "metadata": {},
   "outputs": [],
   "source": [
    "def visualizer(var):\n",
    "    plt.figure(figsize=(15,5))\n",
    "    plt.subplot(1, 2, 1)\n",
    "    sns.countplot(var,hue='CODE_GENDER',data=df_one)\n",
    "    plt.xlabel(var)\n",
    "    plt.xticks(rotation=90)\n",
    "    plt.title('Distribution for defaulters')\n",
    "    \n",
    "    \n",
    "    plt.figure(figsize=(15,5))\n",
    "    plt.subplot(1, 2, 1)\n",
    "    sns.countplot(var,hue='CODE_GENDER',data=df_zero)\n",
    "    plt.xlabel(var)\n",
    "    plt.xticks(rotation=90)\n",
    "    plt.title('Distribution for non-defaulters')\n",
    "    \n",
    "    "
   ]
  },
  {
   "cell_type": "code",
   "execution_count": 121,
   "metadata": {},
   "outputs": [
    {
     "name": "stderr",
     "output_type": "stream",
     "text": [
      "C:\\Users\\User\\anaconda3\\lib\\site-packages\\seaborn\\_decorators.py:36: FutureWarning: Pass the following variable as a keyword arg: x. From version 0.12, the only valid positional argument will be `data`, and passing other arguments without an explicit keyword will result in an error or misinterpretation.\n",
      "  warnings.warn(\n",
      "C:\\Users\\User\\anaconda3\\lib\\site-packages\\seaborn\\_decorators.py:36: FutureWarning: Pass the following variable as a keyword arg: x. From version 0.12, the only valid positional argument will be `data`, and passing other arguments without an explicit keyword will result in an error or misinterpretation.\n",
      "  warnings.warn(\n"
     ]
    },
    {
     "data": {
      "image/png": "[encoded data removed]",
      "text/plain": [
       "<Figure size 1080x360 with 1 Axes>"
      ]
     },
     "metadata": {
      "needs_background": "light"
     },
     "output_type": "display_data"
    },
    {
     "data": {
      "image/png": "[encoded data removed]",
      "text/plain": [
       "<Figure size 1080x360 with 1 Axes>"
      ]
     },
     "metadata": {
      "needs_background": "light"
     },
     "output_type": "display_data"
    }
   ],
   "source": [
    "plotvar('AMT_INCOME_TOTAL_BIN')"
   ]
  },
  {
   "cell_type": "markdown",
   "metadata": {},
   "source": [
    "### From the above graph,its is clear that \n",
    "#### 1.The most defaulters are female.\n",
    "#### 2.Most of the defaulter's income range is between 80000 and 180000.\n",
    "#### 3.There are only a few defaulters in the income range of 360000 500000"
   ]
  },
  {
   "cell_type": "code",
   "execution_count": 122,
   "metadata": {},
   "outputs": [
    {
     "name": "stderr",
     "output_type": "stream",
     "text": [
      "C:\\Users\\User\\anaconda3\\lib\\site-packages\\seaborn\\_decorators.py:36: FutureWarning: Pass the following variable as a keyword arg: x. From version 0.12, the only valid positional argument will be `data`, and passing other arguments without an explicit keyword will result in an error or misinterpretation.\n",
      "  warnings.warn(\n",
      "C:\\Users\\User\\anaconda3\\lib\\site-packages\\seaborn\\_decorators.py:36: FutureWarning: Pass the following variable as a keyword arg: x. From version 0.12, the only valid positional argument will be `data`, and passing other arguments without an explicit keyword will result in an error or misinterpretation.\n",
      "  warnings.warn(\n"
     ]
    },
    {
     "data": {
      "image/png": "[encoded data removed]",
      "text/plain": [
       "<Figure size 1080x360 with 1 Axes>"
      ]
     },
     "metadata": {
      "needs_background": "light"
     },
     "output_type": "display_data"
    },
    {
     "data": {
      "image/png": "[encoded data removed]",
      "text/plain": [
       "<Figure size 1080x360 with 1 Axes>"
      ]
     },
     "metadata": {
      "needs_background": "light"
     },
     "output_type": "display_data"
    }
   ],
   "source": [
    "plotvar('AMT_CREDIT_BIN')"
   ]
  },
  {
   "cell_type": "markdown",
   "metadata": {},
   "source": [
    "### From the above graph,its is clear that :\n",
    "#### 1. The highest credit amount lies in the range of 900000 and above"
   ]
  },
  {
   "cell_type": "code",
   "execution_count": 123,
   "metadata": {},
   "outputs": [
    {
     "name": "stderr",
     "output_type": "stream",
     "text": [
      "C:\\Users\\User\\anaconda3\\lib\\site-packages\\seaborn\\_decorators.py:36: FutureWarning: Pass the following variable as a keyword arg: x. From version 0.12, the only valid positional argument will be `data`, and passing other arguments without an explicit keyword will result in an error or misinterpretation.\n",
      "  warnings.warn(\n",
      "C:\\Users\\User\\anaconda3\\lib\\site-packages\\seaborn\\_decorators.py:36: FutureWarning: Pass the following variable as a keyword arg: x. From version 0.12, the only valid positional argument will be `data`, and passing other arguments without an explicit keyword will result in an error or misinterpretation.\n",
      "  warnings.warn(\n"
     ]
    },
    {
     "data": {
      "image/png": "[encoded data removed]",
      "text/plain": [
       "<Figure size 1080x360 with 1 Axes>"
      ]
     },
     "metadata": {
      "needs_background": "light"
     },
     "output_type": "display_data"
    },
    {
     "data": {
      "image/png": "[encoded data removed]",
      "text/plain": [
       "<Figure size 1080x360 with 1 Axes>"
      ]
     },
     "metadata": {
      "needs_background": "light"
     },
     "output_type": "display_data"
    }
   ],
   "source": [
    "plotvar('NAME_INCOME_TYPE')"
   ]
  },
  {
   "cell_type": "markdown",
   "metadata": {},
   "source": [
    "### From the above graph,its is clear that :\n",
    "#### 1.Majority of the defaulters are under the category 'working' , followed by 'commercial associate' and 'pensioner'.\n",
    "#### 2.'State Servants' and 'Unemployed' category have very few defaulters."
   ]
  },
  {
   "cell_type": "code",
   "execution_count": 124,
   "metadata": {},
   "outputs": [
    {
     "name": "stderr",
     "output_type": "stream",
     "text": [
      "C:\\Users\\User\\anaconda3\\lib\\site-packages\\seaborn\\_decorators.py:36: FutureWarning: Pass the following variable as a keyword arg: x. From version 0.12, the only valid positional argument will be `data`, and passing other arguments without an explicit keyword will result in an error or misinterpretation.\n",
      "  warnings.warn(\n",
      "C:\\Users\\User\\anaconda3\\lib\\site-packages\\seaborn\\_decorators.py:36: FutureWarning: Pass the following variable as a keyword arg: x. From version 0.12, the only valid positional argument will be `data`, and passing other arguments without an explicit keyword will result in an error or misinterpretation.\n",
      "  warnings.warn(\n"
     ]
    },
    {
     "data": {
      "image/png": "[encoded data removed]",
      "text/plain": [
       "<Figure size 1080x360 with 1 Axes>"
      ]
     },
     "metadata": {
      "needs_background": "light"
     },
     "output_type": "display_data"
    },
    {
     "data": {
      "image/png": "[encoded data removed]",
      "text/plain": [
       "<Figure size 1080x360 with 1 Axes>"
      ]
     },
     "metadata": {
      "needs_background": "light"
     },
     "output_type": "display_data"
    }
   ],
   "source": [
    "plotvar('NAME_CONTRACT_TYPE')"
   ]
  },
  {
   "cell_type": "markdown",
   "metadata": {},
   "source": [
    "### From the above graph,its is clear that :\n",
    "#### 1.The type 'cash loans' have the most number of cases.\n",
    "#### 2.There are only a few cases for the type 'revolving loans'."
   ]
  },
  {
   "cell_type": "code",
   "execution_count": 125,
   "metadata": {},
   "outputs": [
    {
     "name": "stderr",
     "output_type": "stream",
     "text": [
      "C:\\Users\\User\\anaconda3\\lib\\site-packages\\seaborn\\_decorators.py:36: FutureWarning: Pass the following variable as a keyword arg: x. From version 0.12, the only valid positional argument will be `data`, and passing other arguments without an explicit keyword will result in an error or misinterpretation.\n",
      "  warnings.warn(\n",
      "C:\\Users\\User\\anaconda3\\lib\\site-packages\\seaborn\\_decorators.py:36: FutureWarning: Pass the following variable as a keyword arg: x. From version 0.12, the only valid positional argument will be `data`, and passing other arguments without an explicit keyword will result in an error or misinterpretation.\n",
      "  warnings.warn(\n"
     ]
    },
    {
     "data": {
      "image/png": "[encoded data removed]",
      "text/plain": [
       "<Figure size 1080x360 with 1 Axes>"
      ]
     },
     "metadata": {
      "needs_background": "light"
     },
     "output_type": "display_data"
    },
    {
     "data": {
      "image/png": "[encoded data removed]",
      "text/plain": [
       "<Figure size 1080x360 with 1 Axes>"
      ]
     },
     "metadata": {
      "needs_background": "light"
     },
     "output_type": "display_data"
    }
   ],
   "source": [
    "plotvar('NAME_FAMILY_STATUS')"
   ]
  },
  {
   "cell_type": "markdown",
   "metadata": {},
   "source": [
    "###  From the above graph,its is clear that :\n",
    "#### 1. 'Married' category has the most number of defaulters.\n",
    "#### 2. Least defaulters comes from the category 'widowed' and 'seperated'."
   ]
  },
  {
   "cell_type": "code",
   "execution_count": 126,
   "metadata": {},
   "outputs": [
    {
     "name": "stderr",
     "output_type": "stream",
     "text": [
      "C:\\Users\\User\\anaconda3\\lib\\site-packages\\seaborn\\_decorators.py:36: FutureWarning: Pass the following variable as a keyword arg: x. From version 0.12, the only valid positional argument will be `data`, and passing other arguments without an explicit keyword will result in an error or misinterpretation.\n",
      "  warnings.warn(\n",
      "C:\\Users\\User\\anaconda3\\lib\\site-packages\\seaborn\\_decorators.py:36: FutureWarning: Pass the following variable as a keyword arg: x. From version 0.12, the only valid positional argument will be `data`, and passing other arguments without an explicit keyword will result in an error or misinterpretation.\n",
      "  warnings.warn(\n"
     ]
    },
    {
     "data": {
      "image/png": "[encoded data removed]",
      "text/plain": [
       "<Figure size 1080x360 with 1 Axes>"
      ]
     },
     "metadata": {
      "needs_background": "light"
     },
     "output_type": "display_data"
    },
    {
     "data": {
      "image/png": "[encoded data removed]",
      "text/plain": [
       "<Figure size 1080x360 with 1 Axes>"
      ]
     },
     "metadata": {
      "needs_background": "light"
     },
     "output_type": "display_data"
    }
   ],
   "source": [
    "plotvar('NAME_EDUCATION_TYPE')"
   ]
  },
  {
   "cell_type": "markdown",
   "metadata": {},
   "source": [
    "### From the above graph,its is clear that :\n",
    "#### 1. Most defaulters are of the category 'Secondary/secondary special'.\n",
    "#### 2. People with academic degree have not become defaulters. "
   ]
  },
  {
   "cell_type": "markdown",
   "metadata": {},
   "source": [
    "### Univariate Analysis for Continuous Variables"
   ]
  },
  {
   "cell_type": "code",
   "execution_count": 129,
   "metadata": {},
   "outputs": [],
   "source": [
    "#Defining a function for visualizing numerical variables\n",
    "\n",
    "def VisualizeUniCont(col,title):\n",
    "    plt.subplot(1, 1, 1)\n",
    "    plt.title(title)\n",
    "    sns.boxplot(data =df_zero,x=col)\n",
    "    plt.show()\n",
    "    plt.subplot(1, 1, 1)\n",
    "    plt.title(title)\n",
    "    sns.boxplot(data =df_one, x=col)\n",
    "    plt.show()"
   ]
  },
  {
   "cell_type": "code",
   "execution_count": 130,
   "metadata": {},
   "outputs": [
    {
     "data": {
      "image/png": "[encoded data removed]",
      "text/plain": [
       "<Figure size 432x288 with 1 Axes>"
      ]
     },
     "metadata": {
      "needs_background": "light"
     },
     "output_type": "display_data"
    },
    {
     "data": {
      "image/png": "[encoded data removed]",
      "text/plain": [
       "<Figure size 432x288 with 1 Axes>"
      ]
     },
     "metadata": {
      "needs_background": "light"
     },
     "output_type": "display_data"
    }
   ],
   "source": [
    "VisualizeUniCont(col='AMT_CREDIT',title='Credit Amount Distribution')"
   ]
  },
  {
   "cell_type": "markdown",
   "metadata": {},
   "source": [
    "#### 1.We can observe that there are some outliers in the credit amount\n",
    "#### 2.Most of the credit amount are present between the 50th percentile and 75th percentile for non-defaulters."
   ]
  },
  {
   "cell_type": "code",
   "execution_count": 131,
   "metadata": {},
   "outputs": [
    {
     "data": {
      "image/png": "[encoded data removed]",
      "text/plain": [
       "<Figure size 432x288 with 1 Axes>"
      ]
     },
     "metadata": {
      "needs_background": "light"
     },
     "output_type": "display_data"
    },
    {
     "data": {
      "image/png": "[encoded data removed]",
      "text/plain": [
       "<Figure size 432x288 with 1 Axes>"
      ]
     },
     "metadata": {
      "needs_background": "light"
     },
     "output_type": "display_data"
    }
   ],
   "source": [
    "VisualizeUniCont(col='AMT_INCOME_TOTAL',title='Distribution of Income')"
   ]
  },
  {
   "cell_type": "markdown",
   "metadata": {},
   "source": [
    "#### Even though there are som eoutliers in both of the target variables, the income range for both defaulters and non defaulters appear to be very thin"
   ]
  },
  {
   "cell_type": "code",
   "execution_count": 132,
   "metadata": {},
   "outputs": [
    {
     "data": {
      "image/png": "[encoded data removed]",
      "text/plain": [
       "<Figure size 432x288 with 1 Axes>"
      ]
     },
     "metadata": {
      "needs_background": "light"
     },
     "output_type": "display_data"
    },
    {
     "data": {
      "image/png": "[encoded data removed]",
      "text/plain": [
       "<Figure size 432x288 with 1 Axes>"
      ]
     },
     "metadata": {
      "needs_background": "light"
     },
     "output_type": "display_data"
    }
   ],
   "source": [
    "VisualizeUniCont(col='AMT_ANNUITY',title='Distribution of Annuity')"
   ]
  },
  {
   "cell_type": "markdown",
   "metadata": {},
   "source": [
    "#### 1. There are some outliers.\n",
    "#### 2. The first quartile is bigger than the third quartile for the defaulters.\n"
   ]
  },
  {
   "cell_type": "markdown",
   "metadata": {},
   "source": [
    "### Finding top 10 correlation for target variables"
   ]
  },
  {
   "cell_type": "code",
   "execution_count": 152,
   "metadata": {},
   "outputs": [
    {
     "name": "stdout",
     "output_type": "stream",
     "text": [
      "AMT_ANNUITY                  SK_ID_CURR                    0.000068\n",
      "SK_ID_CURR                   AMT_ANNUITY                   0.000068\n",
      "DAYS_ID_PUBLISH              SK_ID_CURR                    0.000077\n",
      "SK_ID_CURR                   DAYS_ID_PUBLISH               0.000077\n",
      "REG_REGION_NOT_LIVE_REGION   SK_ID_CURR                    0.000104\n",
      "                                                             ...   \n",
      "LIVE_REGION_NOT_WORK_REGION  REG_REGION_NOT_WORK_REGION    0.861861\n",
      "CNT_CHILDREN                 CNT_FAM_MEMBERS               0.878571\n",
      "CNT_FAM_MEMBERS              CNT_CHILDREN                  0.878571\n",
      "AMT_GOODS_PRICE              AMT_CREDIT                    0.987250\n",
      "AMT_CREDIT                   AMT_GOODS_PRICE               0.987250\n",
      "Length: 306, dtype: float64\n"
     ]
    }
   ],
   "source": [
    "correlation_0 = df_zero.corr().abs()\n",
    "correlation_0 = correlation_0.unstack().sort_values(kind=\"quicksort\")\n",
    "correlation_0 = correlation_0.dropna()\n",
    "correlation_0 = correlation_0[correlation_0 != 1.0]\n",
    "\n",
    "print(correlation_0)"
   ]
  },
  {
   "cell_type": "markdown",
   "metadata": {},
   "source": [
    "### Correlation for target variables"
   ]
  },
  {
   "cell_type": "code",
   "execution_count": 133,
   "metadata": {},
   "outputs": [],
   "source": [
    "# Finding some correlation for numerical columns for both target 0 and 1 \n",
    "target0_corr=df_zero.iloc[0:,2:]\n",
    "target1_corr=df_one.iloc[0:,2:]\n",
    "\n",
    "target0=target0_corr.corr()\n",
    "target1=target1_corr.corr()"
   ]
  },
  {
   "cell_type": "code",
   "execution_count": 136,
   "metadata": {},
   "outputs": [
    {
     "data": {
      "text/html": [
       "<div>\n",
       "<style scoped>\n",
       "    .dataframe tbody tr th:only-of-type {\n",
       "        vertical-align: middle;\n",
       "    }\n",
       "\n",
       "    .dataframe tbody tr th {\n",
       "        vertical-align: top;\n",
       "    }\n",
       "\n",
       "    .dataframe thead th {\n",
       "        text-align: right;\n",
       "    }\n",
       "</style>\n",
       "<table border=\"1\" class=\"dataframe\">\n",
       "  <thead>\n",
       "    <tr style=\"text-align: right;\">\n",
       "      <th></th>\n",
       "      <th>CNT_CHILDREN</th>\n",
       "      <th>AMT_INCOME_TOTAL</th>\n",
       "      <th>AMT_CREDIT</th>\n",
       "      <th>AMT_ANNUITY</th>\n",
       "      <th>AMT_GOODS_PRICE</th>\n",
       "      <th>REGION_POPULATION_RELATIVE</th>\n",
       "      <th>DAYS_BIRTH</th>\n",
       "      <th>DAYS_EMPLOYED</th>\n",
       "      <th>DAYS_REGISTRATION</th>\n",
       "      <th>DAYS_ID_PUBLISH</th>\n",
       "      <th>OWN_CAR_AGE</th>\n",
       "      <th>CNT_FAM_MEMBERS</th>\n",
       "      <th>HOUR_APPR_PROCESS_START</th>\n",
       "      <th>REG_REGION_NOT_LIVE_REGION</th>\n",
       "      <th>REG_REGION_NOT_WORK_REGION</th>\n",
       "      <th>LIVE_REGION_NOT_WORK_REGION</th>\n",
       "      <th>REG_CITY_NOT_LIVE_CITY</th>\n",
       "    </tr>\n",
       "  </thead>\n",
       "  <tbody>\n",
       "    <tr>\n",
       "      <th>CNT_CHILDREN</th>\n",
       "      <td>1.000000</td>\n",
       "      <td>0.038308</td>\n",
       "      <td>0.002315</td>\n",
       "      <td>0.024767</td>\n",
       "      <td>-0.001293</td>\n",
       "      <td>-0.025551</td>\n",
       "      <td>0.375639</td>\n",
       "      <td>-0.161230</td>\n",
       "      <td>0.180517</td>\n",
       "      <td>-0.019986</td>\n",
       "      <td>0.008975</td>\n",
       "      <td>0.810519</td>\n",
       "      <td>0.001725</td>\n",
       "      <td>-0.010738</td>\n",
       "      <td>0.015455</td>\n",
       "      <td>0.021523</td>\n",
       "      <td>0.027788</td>\n",
       "    </tr>\n",
       "    <tr>\n",
       "      <th>AMT_INCOME_TOTAL</th>\n",
       "      <td>0.038308</td>\n",
       "      <td>1.000000</td>\n",
       "      <td>0.416017</td>\n",
       "      <td>0.485699</td>\n",
       "      <td>0.419929</td>\n",
       "      <td>0.097772</td>\n",
       "      <td>0.093515</td>\n",
       "      <td>-0.174540</td>\n",
       "      <td>0.076387</td>\n",
       "      <td>0.035931</td>\n",
       "      <td>-0.214696</td>\n",
       "      <td>0.044988</td>\n",
       "      <td>0.102384</td>\n",
       "      <td>0.078372</td>\n",
       "      <td>0.161441</td>\n",
       "      <td>0.148976</td>\n",
       "      <td>0.020368</td>\n",
       "    </tr>\n",
       "    <tr>\n",
       "      <th>AMT_CREDIT</th>\n",
       "      <td>0.002315</td>\n",
       "      <td>0.416017</td>\n",
       "      <td>1.000000</td>\n",
       "      <td>0.831900</td>\n",
       "      <td>0.985510</td>\n",
       "      <td>0.053570</td>\n",
       "      <td>-0.057151</td>\n",
       "      <td>-0.120400</td>\n",
       "      <td>0.009416</td>\n",
       "      <td>-0.001982</td>\n",
       "      <td>-0.101755</td>\n",
       "      <td>0.079496</td>\n",
       "      <td>0.051370</td>\n",
       "      <td>0.019093</td>\n",
       "      <td>0.045430</td>\n",
       "      <td>0.047740</td>\n",
       "      <td>-0.026649</td>\n",
       "    </tr>\n",
       "    <tr>\n",
       "      <th>AMT_ANNUITY</th>\n",
       "      <td>0.024767</td>\n",
       "      <td>0.485699</td>\n",
       "      <td>0.831900</td>\n",
       "      <td>1.000000</td>\n",
       "      <td>0.830368</td>\n",
       "      <td>0.058591</td>\n",
       "      <td>0.011740</td>\n",
       "      <td>-0.129775</td>\n",
       "      <td>0.037717</td>\n",
       "      <td>0.016569</td>\n",
       "      <td>-0.106271</td>\n",
       "      <td>0.096422</td>\n",
       "      <td>0.054189</td>\n",
       "      <td>0.035823</td>\n",
       "      <td>0.075783</td>\n",
       "      <td>0.073054</td>\n",
       "      <td>-0.004963</td>\n",
       "    </tr>\n",
       "    <tr>\n",
       "      <th>AMT_GOODS_PRICE</th>\n",
       "      <td>-0.001293</td>\n",
       "      <td>0.419929</td>\n",
       "      <td>0.985510</td>\n",
       "      <td>0.830368</td>\n",
       "      <td>1.000000</td>\n",
       "      <td>0.062650</td>\n",
       "      <td>-0.058256</td>\n",
       "      <td>-0.122231</td>\n",
       "      <td>0.009528</td>\n",
       "      <td>-0.004018</td>\n",
       "      <td>-0.114411</td>\n",
       "      <td>0.079388</td>\n",
       "      <td>0.058906</td>\n",
       "      <td>0.020410</td>\n",
       "      <td>0.046406</td>\n",
       "      <td>0.048089</td>\n",
       "      <td>-0.028152</td>\n",
       "    </tr>\n",
       "    <tr>\n",
       "      <th>REGION_POPULATION_RELATIVE</th>\n",
       "      <td>-0.025551</td>\n",
       "      <td>0.097772</td>\n",
       "      <td>0.053570</td>\n",
       "      <td>0.058591</td>\n",
       "      <td>0.062650</td>\n",
       "      <td>1.000000</td>\n",
       "      <td>-0.030730</td>\n",
       "      <td>-0.002577</td>\n",
       "      <td>-0.036684</td>\n",
       "      <td>-0.010463</td>\n",
       "      <td>-0.135538</td>\n",
       "      <td>-0.017711</td>\n",
       "      <td>0.128237</td>\n",
       "      <td>-0.019922</td>\n",
       "      <td>0.029206</td>\n",
       "      <td>0.051195</td>\n",
       "      <td>-0.045545</td>\n",
       "    </tr>\n",
       "    <tr>\n",
       "      <th>DAYS_BIRTH</th>\n",
       "      <td>0.375639</td>\n",
       "      <td>0.093515</td>\n",
       "      <td>-0.057151</td>\n",
       "      <td>0.011740</td>\n",
       "      <td>-0.058256</td>\n",
       "      <td>-0.030730</td>\n",
       "      <td>1.000000</td>\n",
       "      <td>-0.234168</td>\n",
       "      <td>0.298130</td>\n",
       "      <td>0.261979</td>\n",
       "      <td>-0.022594</td>\n",
       "      <td>0.282408</td>\n",
       "      <td>0.098444</td>\n",
       "      <td>0.066377</td>\n",
       "      <td>0.096421</td>\n",
       "      <td>0.070065</td>\n",
       "      <td>0.180952</td>\n",
       "    </tr>\n",
       "    <tr>\n",
       "      <th>DAYS_EMPLOYED</th>\n",
       "      <td>-0.161230</td>\n",
       "      <td>-0.174540</td>\n",
       "      <td>-0.120400</td>\n",
       "      <td>-0.129775</td>\n",
       "      <td>-0.122231</td>\n",
       "      <td>-0.002577</td>\n",
       "      <td>-0.234168</td>\n",
       "      <td>1.000000</td>\n",
       "      <td>-0.037302</td>\n",
       "      <td>-0.117617</td>\n",
       "      <td>0.054817</td>\n",
       "      <td>-0.177293</td>\n",
       "      <td>-0.049101</td>\n",
       "      <td>0.021749</td>\n",
       "      <td>-0.010349</td>\n",
       "      <td>-0.019504</td>\n",
       "      <td>0.022427</td>\n",
       "    </tr>\n",
       "    <tr>\n",
       "      <th>DAYS_REGISTRATION</th>\n",
       "      <td>0.180517</td>\n",
       "      <td>0.076387</td>\n",
       "      <td>0.009416</td>\n",
       "      <td>0.037717</td>\n",
       "      <td>0.009528</td>\n",
       "      <td>-0.036684</td>\n",
       "      <td>0.298130</td>\n",
       "      <td>-0.037302</td>\n",
       "      <td>1.000000</td>\n",
       "      <td>0.094153</td>\n",
       "      <td>-0.035950</td>\n",
       "      <td>0.159042</td>\n",
       "      <td>-0.008471</td>\n",
       "      <td>0.025938</td>\n",
       "      <td>0.032723</td>\n",
       "      <td>0.024163</td>\n",
       "      <td>0.055307</td>\n",
       "    </tr>\n",
       "    <tr>\n",
       "      <th>DAYS_ID_PUBLISH</th>\n",
       "      <td>-0.019986</td>\n",
       "      <td>0.035931</td>\n",
       "      <td>-0.001982</td>\n",
       "      <td>0.016569</td>\n",
       "      <td>-0.004018</td>\n",
       "      <td>-0.010463</td>\n",
       "      <td>0.261979</td>\n",
       "      <td>-0.117617</td>\n",
       "      <td>0.094153</td>\n",
       "      <td>1.000000</td>\n",
       "      <td>-0.011198</td>\n",
       "      <td>-0.014034</td>\n",
       "      <td>0.039755</td>\n",
       "      <td>0.035392</td>\n",
       "      <td>0.049195</td>\n",
       "      <td>0.034776</td>\n",
       "      <td>0.077360</td>\n",
       "    </tr>\n",
       "    <tr>\n",
       "      <th>OWN_CAR_AGE</th>\n",
       "      <td>0.008975</td>\n",
       "      <td>-0.214696</td>\n",
       "      <td>-0.101755</td>\n",
       "      <td>-0.106271</td>\n",
       "      <td>-0.114411</td>\n",
       "      <td>-0.135538</td>\n",
       "      <td>-0.022594</td>\n",
       "      <td>0.054817</td>\n",
       "      <td>-0.035950</td>\n",
       "      <td>-0.011198</td>\n",
       "      <td>1.000000</td>\n",
       "      <td>0.005883</td>\n",
       "      <td>-0.129475</td>\n",
       "      <td>-0.033769</td>\n",
       "      <td>-0.048039</td>\n",
       "      <td>-0.043329</td>\n",
       "      <td>0.013180</td>\n",
       "    </tr>\n",
       "    <tr>\n",
       "      <th>CNT_FAM_MEMBERS</th>\n",
       "      <td>0.810519</td>\n",
       "      <td>0.044988</td>\n",
       "      <td>0.079496</td>\n",
       "      <td>0.096422</td>\n",
       "      <td>0.079388</td>\n",
       "      <td>-0.017711</td>\n",
       "      <td>0.282408</td>\n",
       "      <td>-0.177293</td>\n",
       "      <td>0.159042</td>\n",
       "      <td>-0.014034</td>\n",
       "      <td>0.005883</td>\n",
       "      <td>1.000000</td>\n",
       "      <td>-0.008517</td>\n",
       "      <td>-0.015909</td>\n",
       "      <td>0.006926</td>\n",
       "      <td>0.015645</td>\n",
       "      <td>0.014693</td>\n",
       "    </tr>\n",
       "    <tr>\n",
       "      <th>HOUR_APPR_PROCESS_START</th>\n",
       "      <td>0.001725</td>\n",
       "      <td>0.102384</td>\n",
       "      <td>0.051370</td>\n",
       "      <td>0.054189</td>\n",
       "      <td>0.058906</td>\n",
       "      <td>0.128237</td>\n",
       "      <td>0.098444</td>\n",
       "      <td>-0.049101</td>\n",
       "      <td>-0.008471</td>\n",
       "      <td>0.039755</td>\n",
       "      <td>-0.129475</td>\n",
       "      <td>-0.008517</td>\n",
       "      <td>1.000000</td>\n",
       "      <td>0.052053</td>\n",
       "      <td>0.071837</td>\n",
       "      <td>0.058612</td>\n",
       "      <td>0.019765</td>\n",
       "    </tr>\n",
       "    <tr>\n",
       "      <th>REG_REGION_NOT_LIVE_REGION</th>\n",
       "      <td>-0.010738</td>\n",
       "      <td>0.078372</td>\n",
       "      <td>0.019093</td>\n",
       "      <td>0.035823</td>\n",
       "      <td>0.020410</td>\n",
       "      <td>-0.019922</td>\n",
       "      <td>0.066377</td>\n",
       "      <td>0.021749</td>\n",
       "      <td>0.025938</td>\n",
       "      <td>0.035392</td>\n",
       "      <td>-0.033769</td>\n",
       "      <td>-0.015909</td>\n",
       "      <td>0.052053</td>\n",
       "      <td>1.000000</td>\n",
       "      <td>0.446101</td>\n",
       "      <td>0.090079</td>\n",
       "      <td>0.341571</td>\n",
       "    </tr>\n",
       "    <tr>\n",
       "      <th>REG_REGION_NOT_WORK_REGION</th>\n",
       "      <td>0.015455</td>\n",
       "      <td>0.161441</td>\n",
       "      <td>0.045430</td>\n",
       "      <td>0.075783</td>\n",
       "      <td>0.046406</td>\n",
       "      <td>0.029206</td>\n",
       "      <td>0.096421</td>\n",
       "      <td>-0.010349</td>\n",
       "      <td>0.032723</td>\n",
       "      <td>0.049195</td>\n",
       "      <td>-0.048039</td>\n",
       "      <td>0.006926</td>\n",
       "      <td>0.071837</td>\n",
       "      <td>0.446101</td>\n",
       "      <td>1.000000</td>\n",
       "      <td>0.861861</td>\n",
       "      <td>0.152170</td>\n",
       "    </tr>\n",
       "    <tr>\n",
       "      <th>LIVE_REGION_NOT_WORK_REGION</th>\n",
       "      <td>0.021523</td>\n",
       "      <td>0.148976</td>\n",
       "      <td>0.047740</td>\n",
       "      <td>0.073054</td>\n",
       "      <td>0.048089</td>\n",
       "      <td>0.051195</td>\n",
       "      <td>0.070065</td>\n",
       "      <td>-0.019504</td>\n",
       "      <td>0.024163</td>\n",
       "      <td>0.034776</td>\n",
       "      <td>-0.043329</td>\n",
       "      <td>0.015645</td>\n",
       "      <td>0.058612</td>\n",
       "      <td>0.090079</td>\n",
       "      <td>0.861861</td>\n",
       "      <td>1.000000</td>\n",
       "      <td>0.023325</td>\n",
       "    </tr>\n",
       "    <tr>\n",
       "      <th>REG_CITY_NOT_LIVE_CITY</th>\n",
       "      <td>0.027788</td>\n",
       "      <td>0.020368</td>\n",
       "      <td>-0.026649</td>\n",
       "      <td>-0.004963</td>\n",
       "      <td>-0.028152</td>\n",
       "      <td>-0.045545</td>\n",
       "      <td>0.180952</td>\n",
       "      <td>0.022427</td>\n",
       "      <td>0.055307</td>\n",
       "      <td>0.077360</td>\n",
       "      <td>0.013180</td>\n",
       "      <td>0.014693</td>\n",
       "      <td>0.019765</td>\n",
       "      <td>0.341571</td>\n",
       "      <td>0.152170</td>\n",
       "      <td>0.023325</td>\n",
       "      <td>1.000000</td>\n",
       "    </tr>\n",
       "  </tbody>\n",
       "</table>\n",
       "</div>"
      ],
      "text/plain": [
       "                             CNT_CHILDREN  AMT_INCOME_TOTAL  AMT_CREDIT  \\\n",
       "CNT_CHILDREN                     1.000000          0.038308    0.002315   \n",
       "AMT_INCOME_TOTAL                 0.038308          1.000000    0.416017   \n",
       "AMT_CREDIT                       0.002315          0.416017    1.000000   \n",
       "AMT_ANNUITY                      0.024767          0.485699    0.831900   \n",
       "AMT_GOODS_PRICE                 -0.001293          0.419929    0.985510   \n",
       "REGION_POPULATION_RELATIVE      -0.025551          0.097772    0.053570   \n",
       "DAYS_BIRTH                       0.375639          0.093515   -0.057151   \n",
       "DAYS_EMPLOYED                   -0.161230         -0.174540   -0.120400   \n",
       "DAYS_REGISTRATION                0.180517          0.076387    0.009416   \n",
       "DAYS_ID_PUBLISH                 -0.019986          0.035931   -0.001982   \n",
       "OWN_CAR_AGE                      0.008975         -0.214696   -0.101755   \n",
       "CNT_FAM_MEMBERS                  0.810519          0.044988    0.079496   \n",
       "HOUR_APPR_PROCESS_START          0.001725          0.102384    0.051370   \n",
       "REG_REGION_NOT_LIVE_REGION      -0.010738          0.078372    0.019093   \n",
       "REG_REGION_NOT_WORK_REGION       0.015455          0.161441    0.045430   \n",
       "LIVE_REGION_NOT_WORK_REGION      0.021523          0.148976    0.047740   \n",
       "REG_CITY_NOT_LIVE_CITY           0.027788          0.020368   -0.026649   \n",
       "\n",
       "                             AMT_ANNUITY  AMT_GOODS_PRICE  \\\n",
       "CNT_CHILDREN                    0.024767        -0.001293   \n",
       "AMT_INCOME_TOTAL                0.485699         0.419929   \n",
       "AMT_CREDIT                      0.831900         0.985510   \n",
       "AMT_ANNUITY                     1.000000         0.830368   \n",
       "AMT_GOODS_PRICE                 0.830368         1.000000   \n",
       "REGION_POPULATION_RELATIVE      0.058591         0.062650   \n",
       "DAYS_BIRTH                      0.011740        -0.058256   \n",
       "DAYS_EMPLOYED                  -0.129775        -0.122231   \n",
       "DAYS_REGISTRATION               0.037717         0.009528   \n",
       "DAYS_ID_PUBLISH                 0.016569        -0.004018   \n",
       "OWN_CAR_AGE                    -0.106271        -0.114411   \n",
       "CNT_FAM_MEMBERS                 0.096422         0.079388   \n",
       "HOUR_APPR_PROCESS_START         0.054189         0.058906   \n",
       "REG_REGION_NOT_LIVE_REGION      0.035823         0.020410   \n",
       "REG_REGION_NOT_WORK_REGION      0.075783         0.046406   \n",
       "LIVE_REGION_NOT_WORK_REGION     0.073054         0.048089   \n",
       "REG_CITY_NOT_LIVE_CITY         -0.004963        -0.028152   \n",
       "\n",
       "                             REGION_POPULATION_RELATIVE  DAYS_BIRTH  \\\n",
       "CNT_CHILDREN                                  -0.025551    0.375639   \n",
       "AMT_INCOME_TOTAL                               0.097772    0.093515   \n",
       "AMT_CREDIT                                     0.053570   -0.057151   \n",
       "AMT_ANNUITY                                    0.058591    0.011740   \n",
       "AMT_GOODS_PRICE                                0.062650   -0.058256   \n",
       "REGION_POPULATION_RELATIVE                     1.000000   -0.030730   \n",
       "DAYS_BIRTH                                    -0.030730    1.000000   \n",
       "DAYS_EMPLOYED                                 -0.002577   -0.234168   \n",
       "DAYS_REGISTRATION                             -0.036684    0.298130   \n",
       "DAYS_ID_PUBLISH                               -0.010463    0.261979   \n",
       "OWN_CAR_AGE                                   -0.135538   -0.022594   \n",
       "CNT_FAM_MEMBERS                               -0.017711    0.282408   \n",
       "HOUR_APPR_PROCESS_START                        0.128237    0.098444   \n",
       "REG_REGION_NOT_LIVE_REGION                    -0.019922    0.066377   \n",
       "REG_REGION_NOT_WORK_REGION                     0.029206    0.096421   \n",
       "LIVE_REGION_NOT_WORK_REGION                    0.051195    0.070065   \n",
       "REG_CITY_NOT_LIVE_CITY                        -0.045545    0.180952   \n",
       "\n",
       "                             DAYS_EMPLOYED  DAYS_REGISTRATION  \\\n",
       "CNT_CHILDREN                     -0.161230           0.180517   \n",
       "AMT_INCOME_TOTAL                 -0.174540           0.076387   \n",
       "AMT_CREDIT                       -0.120400           0.009416   \n",
       "AMT_ANNUITY                      -0.129775           0.037717   \n",
       "AMT_GOODS_PRICE                  -0.122231           0.009528   \n",
       "REGION_POPULATION_RELATIVE       -0.002577          -0.036684   \n",
       "DAYS_BIRTH                       -0.234168           0.298130   \n",
       "DAYS_EMPLOYED                     1.000000          -0.037302   \n",
       "DAYS_REGISTRATION                -0.037302           1.000000   \n",
       "DAYS_ID_PUBLISH                  -0.117617           0.094153   \n",
       "OWN_CAR_AGE                       0.054817          -0.035950   \n",
       "CNT_FAM_MEMBERS                  -0.177293           0.159042   \n",
       "HOUR_APPR_PROCESS_START          -0.049101          -0.008471   \n",
       "REG_REGION_NOT_LIVE_REGION        0.021749           0.025938   \n",
       "REG_REGION_NOT_WORK_REGION       -0.010349           0.032723   \n",
       "LIVE_REGION_NOT_WORK_REGION      -0.019504           0.024163   \n",
       "REG_CITY_NOT_LIVE_CITY            0.022427           0.055307   \n",
       "\n",
       "                             DAYS_ID_PUBLISH  OWN_CAR_AGE  CNT_FAM_MEMBERS  \\\n",
       "CNT_CHILDREN                       -0.019986     0.008975         0.810519   \n",
       "AMT_INCOME_TOTAL                    0.035931    -0.214696         0.044988   \n",
       "AMT_CREDIT                         -0.001982    -0.101755         0.079496   \n",
       "AMT_ANNUITY                         0.016569    -0.106271         0.096422   \n",
       "AMT_GOODS_PRICE                    -0.004018    -0.114411         0.079388   \n",
       "REGION_POPULATION_RELATIVE         -0.010463    -0.135538        -0.017711   \n",
       "DAYS_BIRTH                          0.261979    -0.022594         0.282408   \n",
       "DAYS_EMPLOYED                      -0.117617     0.054817        -0.177293   \n",
       "DAYS_REGISTRATION                   0.094153    -0.035950         0.159042   \n",
       "DAYS_ID_PUBLISH                     1.000000    -0.011198        -0.014034   \n",
       "OWN_CAR_AGE                        -0.011198     1.000000         0.005883   \n",
       "CNT_FAM_MEMBERS                    -0.014034     0.005883         1.000000   \n",
       "HOUR_APPR_PROCESS_START             0.039755    -0.129475        -0.008517   \n",
       "REG_REGION_NOT_LIVE_REGION          0.035392    -0.033769        -0.015909   \n",
       "REG_REGION_NOT_WORK_REGION          0.049195    -0.048039         0.006926   \n",
       "LIVE_REGION_NOT_WORK_REGION         0.034776    -0.043329         0.015645   \n",
       "REG_CITY_NOT_LIVE_CITY              0.077360     0.013180         0.014693   \n",
       "\n",
       "                             HOUR_APPR_PROCESS_START  \\\n",
       "CNT_CHILDREN                                0.001725   \n",
       "AMT_INCOME_TOTAL                            0.102384   \n",
       "AMT_CREDIT                                  0.051370   \n",
       "AMT_ANNUITY                                 0.054189   \n",
       "AMT_GOODS_PRICE                             0.058906   \n",
       "REGION_POPULATION_RELATIVE                  0.128237   \n",
       "DAYS_BIRTH                                  0.098444   \n",
       "DAYS_EMPLOYED                              -0.049101   \n",
       "DAYS_REGISTRATION                          -0.008471   \n",
       "DAYS_ID_PUBLISH                             0.039755   \n",
       "OWN_CAR_AGE                                -0.129475   \n",
       "CNT_FAM_MEMBERS                            -0.008517   \n",
       "HOUR_APPR_PROCESS_START                     1.000000   \n",
       "REG_REGION_NOT_LIVE_REGION                  0.052053   \n",
       "REG_REGION_NOT_WORK_REGION                  0.071837   \n",
       "LIVE_REGION_NOT_WORK_REGION                 0.058612   \n",
       "REG_CITY_NOT_LIVE_CITY                      0.019765   \n",
       "\n",
       "                             REG_REGION_NOT_LIVE_REGION  \\\n",
       "CNT_CHILDREN                                  -0.010738   \n",
       "AMT_INCOME_TOTAL                               0.078372   \n",
       "AMT_CREDIT                                     0.019093   \n",
       "AMT_ANNUITY                                    0.035823   \n",
       "AMT_GOODS_PRICE                                0.020410   \n",
       "REGION_POPULATION_RELATIVE                    -0.019922   \n",
       "DAYS_BIRTH                                     0.066377   \n",
       "DAYS_EMPLOYED                                  0.021749   \n",
       "DAYS_REGISTRATION                              0.025938   \n",
       "DAYS_ID_PUBLISH                                0.035392   \n",
       "OWN_CAR_AGE                                   -0.033769   \n",
       "CNT_FAM_MEMBERS                               -0.015909   \n",
       "HOUR_APPR_PROCESS_START                        0.052053   \n",
       "REG_REGION_NOT_LIVE_REGION                     1.000000   \n",
       "REG_REGION_NOT_WORK_REGION                     0.446101   \n",
       "LIVE_REGION_NOT_WORK_REGION                    0.090079   \n",
       "REG_CITY_NOT_LIVE_CITY                         0.341571   \n",
       "\n",
       "                             REG_REGION_NOT_WORK_REGION  \\\n",
       "CNT_CHILDREN                                   0.015455   \n",
       "AMT_INCOME_TOTAL                               0.161441   \n",
       "AMT_CREDIT                                     0.045430   \n",
       "AMT_ANNUITY                                    0.075783   \n",
       "AMT_GOODS_PRICE                                0.046406   \n",
       "REGION_POPULATION_RELATIVE                     0.029206   \n",
       "DAYS_BIRTH                                     0.096421   \n",
       "DAYS_EMPLOYED                                 -0.010349   \n",
       "DAYS_REGISTRATION                              0.032723   \n",
       "DAYS_ID_PUBLISH                                0.049195   \n",
       "OWN_CAR_AGE                                   -0.048039   \n",
       "CNT_FAM_MEMBERS                                0.006926   \n",
       "HOUR_APPR_PROCESS_START                        0.071837   \n",
       "REG_REGION_NOT_LIVE_REGION                     0.446101   \n",
       "REG_REGION_NOT_WORK_REGION                     1.000000   \n",
       "LIVE_REGION_NOT_WORK_REGION                    0.861861   \n",
       "REG_CITY_NOT_LIVE_CITY                         0.152170   \n",
       "\n",
       "                             LIVE_REGION_NOT_WORK_REGION  \\\n",
       "CNT_CHILDREN                                    0.021523   \n",
       "AMT_INCOME_TOTAL                                0.148976   \n",
       "AMT_CREDIT                                      0.047740   \n",
       "AMT_ANNUITY                                     0.073054   \n",
       "AMT_GOODS_PRICE                                 0.048089   \n",
       "REGION_POPULATION_RELATIVE                      0.051195   \n",
       "DAYS_BIRTH                                      0.070065   \n",
       "DAYS_EMPLOYED                                  -0.019504   \n",
       "DAYS_REGISTRATION                               0.024163   \n",
       "DAYS_ID_PUBLISH                                 0.034776   \n",
       "OWN_CAR_AGE                                    -0.043329   \n",
       "CNT_FAM_MEMBERS                                 0.015645   \n",
       "HOUR_APPR_PROCESS_START                         0.058612   \n",
       "REG_REGION_NOT_LIVE_REGION                      0.090079   \n",
       "REG_REGION_NOT_WORK_REGION                      0.861861   \n",
       "LIVE_REGION_NOT_WORK_REGION                     1.000000   \n",
       "REG_CITY_NOT_LIVE_CITY                          0.023325   \n",
       "\n",
       "                             REG_CITY_NOT_LIVE_CITY  \n",
       "CNT_CHILDREN                               0.027788  \n",
       "AMT_INCOME_TOTAL                           0.020368  \n",
       "AMT_CREDIT                                -0.026649  \n",
       "AMT_ANNUITY                               -0.004963  \n",
       "AMT_GOODS_PRICE                           -0.028152  \n",
       "REGION_POPULATION_RELATIVE                -0.045545  \n",
       "DAYS_BIRTH                                 0.180952  \n",
       "DAYS_EMPLOYED                              0.022427  \n",
       "DAYS_REGISTRATION                          0.055307  \n",
       "DAYS_ID_PUBLISH                            0.077360  \n",
       "OWN_CAR_AGE                                0.013180  \n",
       "CNT_FAM_MEMBERS                            0.014693  \n",
       "HOUR_APPR_PROCESS_START                    0.019765  \n",
       "REG_REGION_NOT_LIVE_REGION                 0.341571  \n",
       "REG_REGION_NOT_WORK_REGION                 0.152170  \n",
       "LIVE_REGION_NOT_WORK_REGION                0.023325  \n",
       "REG_CITY_NOT_LIVE_CITY                     1.000000  "
      ]
     },
     "execution_count": 136,
     "metadata": {},
     "output_type": "execute_result"
    }
   ],
   "source": [
    "target0"
   ]
  },
  {
   "cell_type": "code",
   "execution_count": 137,
   "metadata": {},
   "outputs": [
    {
     "data": {
      "text/html": [
       "<div>\n",
       "<style scoped>\n",
       "    .dataframe tbody tr th:only-of-type {\n",
       "        vertical-align: middle;\n",
       "    }\n",
       "\n",
       "    .dataframe tbody tr th {\n",
       "        vertical-align: top;\n",
       "    }\n",
       "\n",
       "    .dataframe thead th {\n",
       "        text-align: right;\n",
       "    }\n",
       "</style>\n",
       "<table border=\"1\" class=\"dataframe\">\n",
       "  <thead>\n",
       "    <tr style=\"text-align: right;\">\n",
       "      <th></th>\n",
       "      <th>CNT_CHILDREN</th>\n",
       "      <th>AMT_INCOME_TOTAL</th>\n",
       "      <th>AMT_CREDIT</th>\n",
       "      <th>AMT_ANNUITY</th>\n",
       "      <th>AMT_GOODS_PRICE</th>\n",
       "      <th>REGION_POPULATION_RELATIVE</th>\n",
       "      <th>DAYS_BIRTH</th>\n",
       "      <th>DAYS_EMPLOYED</th>\n",
       "      <th>DAYS_REGISTRATION</th>\n",
       "      <th>DAYS_ID_PUBLISH</th>\n",
       "      <th>OWN_CAR_AGE</th>\n",
       "      <th>CNT_FAM_MEMBERS</th>\n",
       "      <th>HOUR_APPR_PROCESS_START</th>\n",
       "      <th>REG_REGION_NOT_LIVE_REGION</th>\n",
       "      <th>REG_REGION_NOT_WORK_REGION</th>\n",
       "      <th>LIVE_REGION_NOT_WORK_REGION</th>\n",
       "      <th>REG_CITY_NOT_LIVE_CITY</th>\n",
       "    </tr>\n",
       "  </thead>\n",
       "  <tbody>\n",
       "    <tr>\n",
       "      <th>CNT_CHILDREN</th>\n",
       "      <td>1.000000</td>\n",
       "      <td>-0.004749</td>\n",
       "      <td>0.000200</td>\n",
       "      <td>0.033679</td>\n",
       "      <td>-0.007572</td>\n",
       "      <td>-0.031628</td>\n",
       "      <td>0.267862</td>\n",
       "      <td>-0.116332</td>\n",
       "      <td>0.133658</td>\n",
       "      <td>-0.027320</td>\n",
       "      <td>0.015411</td>\n",
       "      <td>0.823307</td>\n",
       "      <td>-0.022469</td>\n",
       "      <td>-0.025824</td>\n",
       "      <td>-0.019571</td>\n",
       "      <td>-0.009823</td>\n",
       "      <td>0.004127</td>\n",
       "    </tr>\n",
       "    <tr>\n",
       "      <th>AMT_INCOME_TOTAL</th>\n",
       "      <td>-0.004749</td>\n",
       "      <td>1.000000</td>\n",
       "      <td>0.359276</td>\n",
       "      <td>0.431617</td>\n",
       "      <td>0.362780</td>\n",
       "      <td>0.051463</td>\n",
       "      <td>-0.007238</td>\n",
       "      <td>-0.117761</td>\n",
       "      <td>0.036671</td>\n",
       "      <td>-0.005929</td>\n",
       "      <td>-0.186112</td>\n",
       "      <td>0.003867</td>\n",
       "      <td>0.088174</td>\n",
       "      <td>0.076449</td>\n",
       "      <td>0.156053</td>\n",
       "      <td>0.144970</td>\n",
       "      <td>0.008996</td>\n",
       "    </tr>\n",
       "    <tr>\n",
       "      <th>AMT_CREDIT</th>\n",
       "      <td>0.000200</td>\n",
       "      <td>0.359276</td>\n",
       "      <td>1.000000</td>\n",
       "      <td>0.811443</td>\n",
       "      <td>0.977224</td>\n",
       "      <td>0.039919</td>\n",
       "      <td>-0.155216</td>\n",
       "      <td>-0.083601</td>\n",
       "      <td>-0.017099</td>\n",
       "      <td>-0.053780</td>\n",
       "      <td>-0.057750</td>\n",
       "      <td>0.067447</td>\n",
       "      <td>0.028537</td>\n",
       "      <td>0.014192</td>\n",
       "      <td>0.030331</td>\n",
       "      <td>0.032564</td>\n",
       "      <td>-0.028544</td>\n",
       "    </tr>\n",
       "    <tr>\n",
       "      <th>AMT_ANNUITY</th>\n",
       "      <td>0.033679</td>\n",
       "      <td>0.431617</td>\n",
       "      <td>0.811443</td>\n",
       "      <td>1.000000</td>\n",
       "      <td>0.804931</td>\n",
       "      <td>0.023297</td>\n",
       "      <td>-0.030483</td>\n",
       "      <td>-0.096587</td>\n",
       "      <td>0.035900</td>\n",
       "      <td>-0.014472</td>\n",
       "      <td>-0.070762</td>\n",
       "      <td>0.088604</td>\n",
       "      <td>0.032083</td>\n",
       "      <td>0.030930</td>\n",
       "      <td>0.063880</td>\n",
       "      <td>0.062370</td>\n",
       "      <td>-0.002849</td>\n",
       "    </tr>\n",
       "    <tr>\n",
       "      <th>AMT_GOODS_PRICE</th>\n",
       "      <td>-0.007572</td>\n",
       "      <td>0.362780</td>\n",
       "      <td>0.977224</td>\n",
       "      <td>0.804931</td>\n",
       "      <td>1.000000</td>\n",
       "      <td>0.054140</td>\n",
       "      <td>-0.157778</td>\n",
       "      <td>-0.086194</td>\n",
       "      <td>-0.019172</td>\n",
       "      <td>-0.059736</td>\n",
       "      <td>-0.074847</td>\n",
       "      <td>0.064627</td>\n",
       "      <td>0.040029</td>\n",
       "      <td>0.016977</td>\n",
       "      <td>0.033732</td>\n",
       "      <td>0.034991</td>\n",
       "      <td>-0.030182</td>\n",
       "    </tr>\n",
       "    <tr>\n",
       "      <th>REGION_POPULATION_RELATIVE</th>\n",
       "      <td>-0.031628</td>\n",
       "      <td>0.051463</td>\n",
       "      <td>0.039919</td>\n",
       "      <td>0.023297</td>\n",
       "      <td>0.054140</td>\n",
       "      <td>1.000000</td>\n",
       "      <td>-0.046398</td>\n",
       "      <td>-0.003635</td>\n",
       "      <td>-0.034315</td>\n",
       "      <td>-0.023668</td>\n",
       "      <td>-0.112035</td>\n",
       "      <td>-0.022721</td>\n",
       "      <td>0.105989</td>\n",
       "      <td>-0.032472</td>\n",
       "      <td>-0.009009</td>\n",
       "      <td>0.010621</td>\n",
       "      <td>-0.057083</td>\n",
       "    </tr>\n",
       "    <tr>\n",
       "      <th>DAYS_BIRTH</th>\n",
       "      <td>0.267862</td>\n",
       "      <td>-0.007238</td>\n",
       "      <td>-0.155216</td>\n",
       "      <td>-0.030483</td>\n",
       "      <td>-0.157778</td>\n",
       "      <td>-0.046398</td>\n",
       "      <td>1.000000</td>\n",
       "      <td>-0.107174</td>\n",
       "      <td>0.232940</td>\n",
       "      <td>0.251626</td>\n",
       "      <td>-0.040046</td>\n",
       "      <td>0.172208</td>\n",
       "      <td>0.065810</td>\n",
       "      <td>0.055835</td>\n",
       "      <td>0.064540</td>\n",
       "      <td>0.039911</td>\n",
       "      <td>0.165372</td>\n",
       "    </tr>\n",
       "    <tr>\n",
       "      <th>DAYS_EMPLOYED</th>\n",
       "      <td>-0.116332</td>\n",
       "      <td>-0.117761</td>\n",
       "      <td>-0.083601</td>\n",
       "      <td>-0.096587</td>\n",
       "      <td>-0.086194</td>\n",
       "      <td>-0.003635</td>\n",
       "      <td>-0.107174</td>\n",
       "      <td>1.000000</td>\n",
       "      <td>-0.017716</td>\n",
       "      <td>-0.049799</td>\n",
       "      <td>0.019294</td>\n",
       "      <td>-0.144711</td>\n",
       "      <td>-0.027246</td>\n",
       "      <td>0.037032</td>\n",
       "      <td>0.016830</td>\n",
       "      <td>0.002150</td>\n",
       "      <td>0.046567</td>\n",
       "    </tr>\n",
       "    <tr>\n",
       "      <th>DAYS_REGISTRATION</th>\n",
       "      <td>0.133658</td>\n",
       "      <td>0.036671</td>\n",
       "      <td>-0.017099</td>\n",
       "      <td>0.035900</td>\n",
       "      <td>-0.019172</td>\n",
       "      <td>-0.034315</td>\n",
       "      <td>0.232940</td>\n",
       "      <td>-0.017716</td>\n",
       "      <td>1.000000</td>\n",
       "      <td>0.095750</td>\n",
       "      <td>-0.018993</td>\n",
       "      <td>0.126736</td>\n",
       "      <td>-0.032019</td>\n",
       "      <td>0.015237</td>\n",
       "      <td>0.014323</td>\n",
       "      <td>0.010359</td>\n",
       "      <td>0.033891</td>\n",
       "    </tr>\n",
       "    <tr>\n",
       "      <th>DAYS_ID_PUBLISH</th>\n",
       "      <td>-0.027320</td>\n",
       "      <td>-0.005929</td>\n",
       "      <td>-0.053780</td>\n",
       "      <td>-0.014472</td>\n",
       "      <td>-0.059736</td>\n",
       "      <td>-0.023668</td>\n",
       "      <td>0.251626</td>\n",
       "      <td>-0.049799</td>\n",
       "      <td>0.095750</td>\n",
       "      <td>1.000000</td>\n",
       "      <td>-0.008835</td>\n",
       "      <td>-0.029132</td>\n",
       "      <td>0.026347</td>\n",
       "      <td>0.032654</td>\n",
       "      <td>0.032845</td>\n",
       "      <td>0.019967</td>\n",
       "      <td>0.068605</td>\n",
       "    </tr>\n",
       "    <tr>\n",
       "      <th>OWN_CAR_AGE</th>\n",
       "      <td>0.015411</td>\n",
       "      <td>-0.186112</td>\n",
       "      <td>-0.057750</td>\n",
       "      <td>-0.070762</td>\n",
       "      <td>-0.074847</td>\n",
       "      <td>-0.112035</td>\n",
       "      <td>-0.040046</td>\n",
       "      <td>0.019294</td>\n",
       "      <td>-0.018993</td>\n",
       "      <td>-0.008835</td>\n",
       "      <td>1.000000</td>\n",
       "      <td>0.003532</td>\n",
       "      <td>-0.145432</td>\n",
       "      <td>-0.023258</td>\n",
       "      <td>-0.032700</td>\n",
       "      <td>-0.025745</td>\n",
       "      <td>0.003473</td>\n",
       "    </tr>\n",
       "    <tr>\n",
       "      <th>CNT_FAM_MEMBERS</th>\n",
       "      <td>0.823307</td>\n",
       "      <td>0.003867</td>\n",
       "      <td>0.067447</td>\n",
       "      <td>0.088604</td>\n",
       "      <td>0.064627</td>\n",
       "      <td>-0.022721</td>\n",
       "      <td>0.172208</td>\n",
       "      <td>-0.144711</td>\n",
       "      <td>0.126736</td>\n",
       "      <td>-0.029132</td>\n",
       "      <td>0.003532</td>\n",
       "      <td>1.000000</td>\n",
       "      <td>-0.028840</td>\n",
       "      <td>-0.027244</td>\n",
       "      <td>-0.026123</td>\n",
       "      <td>-0.015591</td>\n",
       "      <td>-0.003933</td>\n",
       "    </tr>\n",
       "    <tr>\n",
       "      <th>HOUR_APPR_PROCESS_START</th>\n",
       "      <td>-0.022469</td>\n",
       "      <td>0.088174</td>\n",
       "      <td>0.028537</td>\n",
       "      <td>0.032083</td>\n",
       "      <td>0.040029</td>\n",
       "      <td>0.105989</td>\n",
       "      <td>0.065810</td>\n",
       "      <td>-0.027246</td>\n",
       "      <td>-0.032019</td>\n",
       "      <td>0.026347</td>\n",
       "      <td>-0.145432</td>\n",
       "      <td>-0.028840</td>\n",
       "      <td>1.000000</td>\n",
       "      <td>0.048070</td>\n",
       "      <td>0.065472</td>\n",
       "      <td>0.052126</td>\n",
       "      <td>0.007850</td>\n",
       "    </tr>\n",
       "    <tr>\n",
       "      <th>REG_REGION_NOT_LIVE_REGION</th>\n",
       "      <td>-0.025824</td>\n",
       "      <td>0.076449</td>\n",
       "      <td>0.014192</td>\n",
       "      <td>0.030930</td>\n",
       "      <td>0.016977</td>\n",
       "      <td>-0.032472</td>\n",
       "      <td>0.055835</td>\n",
       "      <td>0.037032</td>\n",
       "      <td>0.015237</td>\n",
       "      <td>0.032654</td>\n",
       "      <td>-0.023258</td>\n",
       "      <td>-0.027244</td>\n",
       "      <td>0.048070</td>\n",
       "      <td>1.000000</td>\n",
       "      <td>0.497937</td>\n",
       "      <td>0.069498</td>\n",
       "      <td>0.322628</td>\n",
       "    </tr>\n",
       "    <tr>\n",
       "      <th>REG_REGION_NOT_WORK_REGION</th>\n",
       "      <td>-0.019571</td>\n",
       "      <td>0.156053</td>\n",
       "      <td>0.030331</td>\n",
       "      <td>0.063880</td>\n",
       "      <td>0.033732</td>\n",
       "      <td>-0.009009</td>\n",
       "      <td>0.064540</td>\n",
       "      <td>0.016830</td>\n",
       "      <td>0.014323</td>\n",
       "      <td>0.032845</td>\n",
       "      <td>-0.032700</td>\n",
       "      <td>-0.026123</td>\n",
       "      <td>0.065472</td>\n",
       "      <td>0.497937</td>\n",
       "      <td>1.000000</td>\n",
       "      <td>0.847885</td>\n",
       "      <td>0.144726</td>\n",
       "    </tr>\n",
       "    <tr>\n",
       "      <th>LIVE_REGION_NOT_WORK_REGION</th>\n",
       "      <td>-0.009823</td>\n",
       "      <td>0.144970</td>\n",
       "      <td>0.032564</td>\n",
       "      <td>0.062370</td>\n",
       "      <td>0.034991</td>\n",
       "      <td>0.010621</td>\n",
       "      <td>0.039911</td>\n",
       "      <td>0.002150</td>\n",
       "      <td>0.010359</td>\n",
       "      <td>0.019967</td>\n",
       "      <td>-0.025745</td>\n",
       "      <td>-0.015591</td>\n",
       "      <td>0.052126</td>\n",
       "      <td>0.069498</td>\n",
       "      <td>0.847885</td>\n",
       "      <td>1.000000</td>\n",
       "      <td>-0.000011</td>\n",
       "    </tr>\n",
       "    <tr>\n",
       "      <th>REG_CITY_NOT_LIVE_CITY</th>\n",
       "      <td>0.004127</td>\n",
       "      <td>0.008996</td>\n",
       "      <td>-0.028544</td>\n",
       "      <td>-0.002849</td>\n",
       "      <td>-0.030182</td>\n",
       "      <td>-0.057083</td>\n",
       "      <td>0.165372</td>\n",
       "      <td>0.046567</td>\n",
       "      <td>0.033891</td>\n",
       "      <td>0.068605</td>\n",
       "      <td>0.003473</td>\n",
       "      <td>-0.003933</td>\n",
       "      <td>0.007850</td>\n",
       "      <td>0.322628</td>\n",
       "      <td>0.144726</td>\n",
       "      <td>-0.000011</td>\n",
       "      <td>1.000000</td>\n",
       "    </tr>\n",
       "  </tbody>\n",
       "</table>\n",
       "</div>"
      ],
      "text/plain": [
       "                             CNT_CHILDREN  AMT_INCOME_TOTAL  AMT_CREDIT  \\\n",
       "CNT_CHILDREN                     1.000000         -0.004749    0.000200   \n",
       "AMT_INCOME_TOTAL                -0.004749          1.000000    0.359276   \n",
       "AMT_CREDIT                       0.000200          0.359276    1.000000   \n",
       "AMT_ANNUITY                      0.033679          0.431617    0.811443   \n",
       "AMT_GOODS_PRICE                 -0.007572          0.362780    0.977224   \n",
       "REGION_POPULATION_RELATIVE      -0.031628          0.051463    0.039919   \n",
       "DAYS_BIRTH                       0.267862         -0.007238   -0.155216   \n",
       "DAYS_EMPLOYED                   -0.116332         -0.117761   -0.083601   \n",
       "DAYS_REGISTRATION                0.133658          0.036671   -0.017099   \n",
       "DAYS_ID_PUBLISH                 -0.027320         -0.005929   -0.053780   \n",
       "OWN_CAR_AGE                      0.015411         -0.186112   -0.057750   \n",
       "CNT_FAM_MEMBERS                  0.823307          0.003867    0.067447   \n",
       "HOUR_APPR_PROCESS_START         -0.022469          0.088174    0.028537   \n",
       "REG_REGION_NOT_LIVE_REGION      -0.025824          0.076449    0.014192   \n",
       "REG_REGION_NOT_WORK_REGION      -0.019571          0.156053    0.030331   \n",
       "LIVE_REGION_NOT_WORK_REGION     -0.009823          0.144970    0.032564   \n",
       "REG_CITY_NOT_LIVE_CITY           0.004127          0.008996   -0.028544   \n",
       "\n",
       "                             AMT_ANNUITY  AMT_GOODS_PRICE  \\\n",
       "CNT_CHILDREN                    0.033679        -0.007572   \n",
       "AMT_INCOME_TOTAL                0.431617         0.362780   \n",
       "AMT_CREDIT                      0.811443         0.977224   \n",
       "AMT_ANNUITY                     1.000000         0.804931   \n",
       "AMT_GOODS_PRICE                 0.804931         1.000000   \n",
       "REGION_POPULATION_RELATIVE      0.023297         0.054140   \n",
       "DAYS_BIRTH                     -0.030483        -0.157778   \n",
       "DAYS_EMPLOYED                  -0.096587        -0.086194   \n",
       "DAYS_REGISTRATION               0.035900        -0.019172   \n",
       "DAYS_ID_PUBLISH                -0.014472        -0.059736   \n",
       "OWN_CAR_AGE                    -0.070762        -0.074847   \n",
       "CNT_FAM_MEMBERS                 0.088604         0.064627   \n",
       "HOUR_APPR_PROCESS_START         0.032083         0.040029   \n",
       "REG_REGION_NOT_LIVE_REGION      0.030930         0.016977   \n",
       "REG_REGION_NOT_WORK_REGION      0.063880         0.033732   \n",
       "LIVE_REGION_NOT_WORK_REGION     0.062370         0.034991   \n",
       "REG_CITY_NOT_LIVE_CITY         -0.002849        -0.030182   \n",
       "\n",
       "                             REGION_POPULATION_RELATIVE  DAYS_BIRTH  \\\n",
       "CNT_CHILDREN                                  -0.031628    0.267862   \n",
       "AMT_INCOME_TOTAL                               0.051463   -0.007238   \n",
       "AMT_CREDIT                                     0.039919   -0.155216   \n",
       "AMT_ANNUITY                                    0.023297   -0.030483   \n",
       "AMT_GOODS_PRICE                                0.054140   -0.157778   \n",
       "REGION_POPULATION_RELATIVE                     1.000000   -0.046398   \n",
       "DAYS_BIRTH                                    -0.046398    1.000000   \n",
       "DAYS_EMPLOYED                                 -0.003635   -0.107174   \n",
       "DAYS_REGISTRATION                             -0.034315    0.232940   \n",
       "DAYS_ID_PUBLISH                               -0.023668    0.251626   \n",
       "OWN_CAR_AGE                                   -0.112035   -0.040046   \n",
       "CNT_FAM_MEMBERS                               -0.022721    0.172208   \n",
       "HOUR_APPR_PROCESS_START                        0.105989    0.065810   \n",
       "REG_REGION_NOT_LIVE_REGION                    -0.032472    0.055835   \n",
       "REG_REGION_NOT_WORK_REGION                    -0.009009    0.064540   \n",
       "LIVE_REGION_NOT_WORK_REGION                    0.010621    0.039911   \n",
       "REG_CITY_NOT_LIVE_CITY                        -0.057083    0.165372   \n",
       "\n",
       "                             DAYS_EMPLOYED  DAYS_REGISTRATION  \\\n",
       "CNT_CHILDREN                     -0.116332           0.133658   \n",
       "AMT_INCOME_TOTAL                 -0.117761           0.036671   \n",
       "AMT_CREDIT                       -0.083601          -0.017099   \n",
       "AMT_ANNUITY                      -0.096587           0.035900   \n",
       "AMT_GOODS_PRICE                  -0.086194          -0.019172   \n",
       "REGION_POPULATION_RELATIVE       -0.003635          -0.034315   \n",
       "DAYS_BIRTH                       -0.107174           0.232940   \n",
       "DAYS_EMPLOYED                     1.000000          -0.017716   \n",
       "DAYS_REGISTRATION                -0.017716           1.000000   \n",
       "DAYS_ID_PUBLISH                  -0.049799           0.095750   \n",
       "OWN_CAR_AGE                       0.019294          -0.018993   \n",
       "CNT_FAM_MEMBERS                  -0.144711           0.126736   \n",
       "HOUR_APPR_PROCESS_START          -0.027246          -0.032019   \n",
       "REG_REGION_NOT_LIVE_REGION        0.037032           0.015237   \n",
       "REG_REGION_NOT_WORK_REGION        0.016830           0.014323   \n",
       "LIVE_REGION_NOT_WORK_REGION       0.002150           0.010359   \n",
       "REG_CITY_NOT_LIVE_CITY            0.046567           0.033891   \n",
       "\n",
       "                             DAYS_ID_PUBLISH  OWN_CAR_AGE  CNT_FAM_MEMBERS  \\\n",
       "CNT_CHILDREN                       -0.027320     0.015411         0.823307   \n",
       "AMT_INCOME_TOTAL                   -0.005929    -0.186112         0.003867   \n",
       "AMT_CREDIT                         -0.053780    -0.057750         0.067447   \n",
       "AMT_ANNUITY                        -0.014472    -0.070762         0.088604   \n",
       "AMT_GOODS_PRICE                    -0.059736    -0.074847         0.064627   \n",
       "REGION_POPULATION_RELATIVE         -0.023668    -0.112035        -0.022721   \n",
       "DAYS_BIRTH                          0.251626    -0.040046         0.172208   \n",
       "DAYS_EMPLOYED                      -0.049799     0.019294        -0.144711   \n",
       "DAYS_REGISTRATION                   0.095750    -0.018993         0.126736   \n",
       "DAYS_ID_PUBLISH                     1.000000    -0.008835        -0.029132   \n",
       "OWN_CAR_AGE                        -0.008835     1.000000         0.003532   \n",
       "CNT_FAM_MEMBERS                    -0.029132     0.003532         1.000000   \n",
       "HOUR_APPR_PROCESS_START             0.026347    -0.145432        -0.028840   \n",
       "REG_REGION_NOT_LIVE_REGION          0.032654    -0.023258        -0.027244   \n",
       "REG_REGION_NOT_WORK_REGION          0.032845    -0.032700        -0.026123   \n",
       "LIVE_REGION_NOT_WORK_REGION         0.019967    -0.025745        -0.015591   \n",
       "REG_CITY_NOT_LIVE_CITY              0.068605     0.003473        -0.003933   \n",
       "\n",
       "                             HOUR_APPR_PROCESS_START  \\\n",
       "CNT_CHILDREN                               -0.022469   \n",
       "AMT_INCOME_TOTAL                            0.088174   \n",
       "AMT_CREDIT                                  0.028537   \n",
       "AMT_ANNUITY                                 0.032083   \n",
       "AMT_GOODS_PRICE                             0.040029   \n",
       "REGION_POPULATION_RELATIVE                  0.105989   \n",
       "DAYS_BIRTH                                  0.065810   \n",
       "DAYS_EMPLOYED                              -0.027246   \n",
       "DAYS_REGISTRATION                          -0.032019   \n",
       "DAYS_ID_PUBLISH                             0.026347   \n",
       "OWN_CAR_AGE                                -0.145432   \n",
       "CNT_FAM_MEMBERS                            -0.028840   \n",
       "HOUR_APPR_PROCESS_START                     1.000000   \n",
       "REG_REGION_NOT_LIVE_REGION                  0.048070   \n",
       "REG_REGION_NOT_WORK_REGION                  0.065472   \n",
       "LIVE_REGION_NOT_WORK_REGION                 0.052126   \n",
       "REG_CITY_NOT_LIVE_CITY                      0.007850   \n",
       "\n",
       "                             REG_REGION_NOT_LIVE_REGION  \\\n",
       "CNT_CHILDREN                                  -0.025824   \n",
       "AMT_INCOME_TOTAL                               0.076449   \n",
       "AMT_CREDIT                                     0.014192   \n",
       "AMT_ANNUITY                                    0.030930   \n",
       "AMT_GOODS_PRICE                                0.016977   \n",
       "REGION_POPULATION_RELATIVE                    -0.032472   \n",
       "DAYS_BIRTH                                     0.055835   \n",
       "DAYS_EMPLOYED                                  0.037032   \n",
       "DAYS_REGISTRATION                              0.015237   \n",
       "DAYS_ID_PUBLISH                                0.032654   \n",
       "OWN_CAR_AGE                                   -0.023258   \n",
       "CNT_FAM_MEMBERS                               -0.027244   \n",
       "HOUR_APPR_PROCESS_START                        0.048070   \n",
       "REG_REGION_NOT_LIVE_REGION                     1.000000   \n",
       "REG_REGION_NOT_WORK_REGION                     0.497937   \n",
       "LIVE_REGION_NOT_WORK_REGION                    0.069498   \n",
       "REG_CITY_NOT_LIVE_CITY                         0.322628   \n",
       "\n",
       "                             REG_REGION_NOT_WORK_REGION  \\\n",
       "CNT_CHILDREN                                  -0.019571   \n",
       "AMT_INCOME_TOTAL                               0.156053   \n",
       "AMT_CREDIT                                     0.030331   \n",
       "AMT_ANNUITY                                    0.063880   \n",
       "AMT_GOODS_PRICE                                0.033732   \n",
       "REGION_POPULATION_RELATIVE                    -0.009009   \n",
       "DAYS_BIRTH                                     0.064540   \n",
       "DAYS_EMPLOYED                                  0.016830   \n",
       "DAYS_REGISTRATION                              0.014323   \n",
       "DAYS_ID_PUBLISH                                0.032845   \n",
       "OWN_CAR_AGE                                   -0.032700   \n",
       "CNT_FAM_MEMBERS                               -0.026123   \n",
       "HOUR_APPR_PROCESS_START                        0.065472   \n",
       "REG_REGION_NOT_LIVE_REGION                     0.497937   \n",
       "REG_REGION_NOT_WORK_REGION                     1.000000   \n",
       "LIVE_REGION_NOT_WORK_REGION                    0.847885   \n",
       "REG_CITY_NOT_LIVE_CITY                         0.144726   \n",
       "\n",
       "                             LIVE_REGION_NOT_WORK_REGION  \\\n",
       "CNT_CHILDREN                                   -0.009823   \n",
       "AMT_INCOME_TOTAL                                0.144970   \n",
       "AMT_CREDIT                                      0.032564   \n",
       "AMT_ANNUITY                                     0.062370   \n",
       "AMT_GOODS_PRICE                                 0.034991   \n",
       "REGION_POPULATION_RELATIVE                      0.010621   \n",
       "DAYS_BIRTH                                      0.039911   \n",
       "DAYS_EMPLOYED                                   0.002150   \n",
       "DAYS_REGISTRATION                               0.010359   \n",
       "DAYS_ID_PUBLISH                                 0.019967   \n",
       "OWN_CAR_AGE                                    -0.025745   \n",
       "CNT_FAM_MEMBERS                                -0.015591   \n",
       "HOUR_APPR_PROCESS_START                         0.052126   \n",
       "REG_REGION_NOT_LIVE_REGION                      0.069498   \n",
       "REG_REGION_NOT_WORK_REGION                      0.847885   \n",
       "LIVE_REGION_NOT_WORK_REGION                     1.000000   \n",
       "REG_CITY_NOT_LIVE_CITY                         -0.000011   \n",
       "\n",
       "                             REG_CITY_NOT_LIVE_CITY  \n",
       "CNT_CHILDREN                               0.004127  \n",
       "AMT_INCOME_TOTAL                           0.008996  \n",
       "AMT_CREDIT                                -0.028544  \n",
       "AMT_ANNUITY                               -0.002849  \n",
       "AMT_GOODS_PRICE                           -0.030182  \n",
       "REGION_POPULATION_RELATIVE                -0.057083  \n",
       "DAYS_BIRTH                                 0.165372  \n",
       "DAYS_EMPLOYED                              0.046567  \n",
       "DAYS_REGISTRATION                          0.033891  \n",
       "DAYS_ID_PUBLISH                            0.068605  \n",
       "OWN_CAR_AGE                                0.003473  \n",
       "CNT_FAM_MEMBERS                           -0.003933  \n",
       "HOUR_APPR_PROCESS_START                    0.007850  \n",
       "REG_REGION_NOT_LIVE_REGION                 0.322628  \n",
       "REG_REGION_NOT_WORK_REGION                 0.144726  \n",
       "LIVE_REGION_NOT_WORK_REGION               -0.000011  \n",
       "REG_CITY_NOT_LIVE_CITY                     1.000000  "
      ]
     },
     "execution_count": 137,
     "metadata": {},
     "output_type": "execute_result"
    }
   ],
   "source": [
    "target1"
   ]
  },
  {
   "cell_type": "code",
   "execution_count": 138,
   "metadata": {},
   "outputs": [],
   "source": [
    "# Plotting the above correlation with heat map\n",
    "def targets_corr(data,title):\n",
    "    plt.figure(figsize=(15, 10))\n",
    "    sns.heatmap(data, cmap=\"RdYlGn\",annot=False)\n",
    "    plt.title(title)\n",
    "    plt.yticks(rotation=0)\n",
    "    plt.show()"
   ]
  },
  {
   "cell_type": "code",
   "execution_count": 139,
   "metadata": {
    "scrolled": true
   },
   "outputs": [
    {
     "data": {
      "image/png": "[encoded data removed]",
      "text/plain": [
       "<Figure size 1080x720 with 2 Axes>"
      ]
     },
     "metadata": {
      "needs_background": "light"
     },
     "output_type": "display_data"
    }
   ],
   "source": [
    "#for Target 0\n",
    "targets_corr(data=target0,title='Correlation for target 0')"
   ]
  },
  {
   "cell_type": "markdown",
   "metadata": {},
   "source": [
    "Observations from the heatmap:\n",
    "\n",
    "Credit amount is inversely proportional to the date of birth, which means Credit amount is higher for younger age and vice-versa.\n",
    "Income amount is inversely proportional to the number of children.\n",
    "Credit amount is higher in densely populated area.\n",
    "The income is higher in densely populated area."
   ]
  },
  {
   "cell_type": "code",
   "execution_count": 140,
   "metadata": {},
   "outputs": [
    {
     "data": {
      "image/png": "[encoded data removed]",
      "text/plain": [
       "<Figure size 1080x720 with 2 Axes>"
      ]
     },
     "metadata": {
      "needs_background": "light"
     },
     "output_type": "display_data"
    }
   ],
   "source": [
    "# For Target 1\n",
    "\n",
    "targets_corr(data=target1,title='Correlation for target 1')"
   ]
  },
  {
   "cell_type": "raw",
   "metadata": {},
   "source": [
    "Heatmap of target 1 have also similar observations.\n",
    "\n",
    "For those clients whose permanent address does not match the contact address are having less children and vice-versa\n",
    "For those clients whose permanent address does not match work address are having less children and vice-versa"
   ]
  },
  {
   "cell_type": "markdown",
   "metadata": {},
   "source": [
    "### Bivariate Analysis"
   ]
  },
  {
   "cell_type": "code",
   "execution_count": 141,
   "metadata": {},
   "outputs": [],
   "source": [
    "def VisualizeBiVar(x,y,title):\n",
    "  \n",
    "    plt.title(title)\n",
    "    plt.subplot(1,1,1)\n",
    "    plt.xticks(rotation=45)\n",
    "    plt.yscale('log')\n",
    "    sns.boxplot(data=df_zero, x=x,y=y,orient='v')\n",
    "    plt.show()\n",
    "    plt.title(title)\n",
    "    plt.subplot(1,1,1)\n",
    "    plt.xticks(rotation=45)\n",
    "    plt.yscale('log')\n",
    "    sns.boxplot(data=df_one, x=x,y=y,orient='v')\n",
    "    plt.show()\n",
    "    "
   ]
  },
  {
   "cell_type": "code",
   "execution_count": 143,
   "metadata": {},
   "outputs": [
    {
     "name": "stderr",
     "output_type": "stream",
     "text": [
      "<ipython-input-141-5fbcd41aac4d>:4: MatplotlibDeprecationWarning: Adding an axes using the same arguments as a previous axes currently reuses the earlier instance.  In a future version, a new instance will always be created and returned.  Meanwhile, this warning can be suppressed, and the future behavior ensured, by passing a unique label to each axes instance.\n",
      "  plt.subplot(1,1,1)\n"
     ]
    },
    {
     "data": {
      "image/png": "[encoded data removed]",
      "text/plain": [
       "<Figure size 432x288 with 1 Axes>"
      ]
     },
     "metadata": {
      "needs_background": "light"
     },
     "output_type": "display_data"
    },
    {
     "name": "stderr",
     "output_type": "stream",
     "text": [
      "<ipython-input-141-5fbcd41aac4d>:10: MatplotlibDeprecationWarning: Adding an axes using the same arguments as a previous axes currently reuses the earlier instance.  In a future version, a new instance will always be created and returned.  Meanwhile, this warning can be suppressed, and the future behavior ensured, by passing a unique label to each axes instance.\n",
      "  plt.subplot(1,1,1)\n"
     ]
    },
    {
     "data": {
      "image/png": "[encoded data removed]",
      "text/plain": [
       "<Figure size 432x288 with 1 Axes>"
      ]
     },
     "metadata": {
      "needs_background": "light"
     },
     "output_type": "display_data"
    }
   ],
   "source": [
    "VisualizeBiVar('NAME_EDUCATION_TYPE','AMT_CREDIT',title='Distribution of credit amount vs education type')"
   ]
  },
  {
   "cell_type": "markdown",
   "metadata": {},
   "source": [
    "#### We can see that defaulters with academic degree have higher credit amounts compared to others."
   ]
  },
  {
   "cell_type": "code",
   "execution_count": 145,
   "metadata": {},
   "outputs": [
    {
     "name": "stderr",
     "output_type": "stream",
     "text": [
      "<ipython-input-141-5fbcd41aac4d>:4: MatplotlibDeprecationWarning: Adding an axes using the same arguments as a previous axes currently reuses the earlier instance.  In a future version, a new instance will always be created and returned.  Meanwhile, this warning can be suppressed, and the future behavior ensured, by passing a unique label to each axes instance.\n",
      "  plt.subplot(1,1,1)\n"
     ]
    },
    {
     "data": {
      "image/png": "[encoded data removed]",
      "text/plain": [
       "<Figure size 432x288 with 1 Axes>"
      ]
     },
     "metadata": {
      "needs_background": "light"
     },
     "output_type": "display_data"
    },
    {
     "name": "stderr",
     "output_type": "stream",
     "text": [
      "<ipython-input-141-5fbcd41aac4d>:10: MatplotlibDeprecationWarning: Adding an axes using the same arguments as a previous axes currently reuses the earlier instance.  In a future version, a new instance will always be created and returned.  Meanwhile, this warning can be suppressed, and the future behavior ensured, by passing a unique label to each axes instance.\n",
      "  plt.subplot(1,1,1)\n"
     ]
    },
    {
     "data": {
      "image/png": "[encoded data removed]",
      "text/plain": [
       "<Figure size 432x288 with 1 Axes>"
      ]
     },
     "metadata": {
      "needs_background": "light"
     },
     "output_type": "display_data"
    }
   ],
   "source": [
    "VisualizeBiVar('NAME_EDUCATION_TYPE','AMT_INCOME_TOTAL',title='Distribution of income vs education type')"
   ]
  },
  {
   "cell_type": "markdown",
   "metadata": {},
   "source": [
    "#### The income of defaulters with an academic degree is higher compared to all other categories."
   ]
  },
  {
   "cell_type": "code",
   "execution_count": 146,
   "metadata": {},
   "outputs": [
    {
     "name": "stderr",
     "output_type": "stream",
     "text": [
      "<ipython-input-141-5fbcd41aac4d>:4: MatplotlibDeprecationWarning: Adding an axes using the same arguments as a previous axes currently reuses the earlier instance.  In a future version, a new instance will always be created and returned.  Meanwhile, this warning can be suppressed, and the future behavior ensured, by passing a unique label to each axes instance.\n",
      "  plt.subplot(1,1,1)\n"
     ]
    },
    {
     "data": {
      "image/png": "[encoded data removed]",
      "text/plain": [
       "<Figure size 432x288 with 1 Axes>"
      ]
     },
     "metadata": {
      "needs_background": "light"
     },
     "output_type": "display_data"
    },
    {
     "name": "stderr",
     "output_type": "stream",
     "text": [
      "<ipython-input-141-5fbcd41aac4d>:10: MatplotlibDeprecationWarning: Adding an axes using the same arguments as a previous axes currently reuses the earlier instance.  In a future version, a new instance will always be created and returned.  Meanwhile, this warning can be suppressed, and the future behavior ensured, by passing a unique label to each axes instance.\n",
      "  plt.subplot(1,1,1)\n"
     ]
    },
    {
     "data": {
      "image/png": "[encoded data removed]",
      "text/plain": [
       "<Figure size 432x288 with 1 Axes>"
      ]
     },
     "metadata": {
      "needs_background": "light"
     },
     "output_type": "display_data"
    }
   ],
   "source": [
    "VisualizeBiVar('CODE_GENDER','AMT_INCOME_TOTAL',title='Distribution of Income vs Gender')"
   ]
  },
  {
   "cell_type": "markdown",
   "metadata": {},
   "source": [
    "#### We can observe that the income of female defaulters is lesser compared to that of male."
   ]
  },
  {
   "cell_type": "code",
   "execution_count": 147,
   "metadata": {},
   "outputs": [
    {
     "name": "stderr",
     "output_type": "stream",
     "text": [
      "<ipython-input-141-5fbcd41aac4d>:4: MatplotlibDeprecationWarning: Adding an axes using the same arguments as a previous axes currently reuses the earlier instance.  In a future version, a new instance will always be created and returned.  Meanwhile, this warning can be suppressed, and the future behavior ensured, by passing a unique label to each axes instance.\n",
      "  plt.subplot(1,1,1)\n"
     ]
    },
    {
     "data": {
      "image/png": "[encoded data removed]",
      "text/plain": [
       "<Figure size 432x288 with 1 Axes>"
      ]
     },
     "metadata": {
      "needs_background": "light"
     },
     "output_type": "display_data"
    },
    {
     "name": "stderr",
     "output_type": "stream",
     "text": [
      "<ipython-input-141-5fbcd41aac4d>:10: MatplotlibDeprecationWarning: Adding an axes using the same arguments as a previous axes currently reuses the earlier instance.  In a future version, a new instance will always be created and returned.  Meanwhile, this warning can be suppressed, and the future behavior ensured, by passing a unique label to each axes instance.\n",
      "  plt.subplot(1,1,1)\n"
     ]
    },
    {
     "data": {
      "image/png": "[encoded data removed]",
      "text/plain": [
       "<Figure size 432x288 with 1 Axes>"
      ]
     },
     "metadata": {
      "needs_background": "light"
     },
     "output_type": "display_data"
    }
   ],
   "source": [
    "VisualizeBiVar('CODE_GENDER','AMT_CREDIT',title='Distribution of Credit Amount vs Gender')"
   ]
  },
  {
   "cell_type": "markdown",
   "metadata": {},
   "source": [
    "#### We can observe that the credit amount for female defaulters is slightly higher than that of male."
   ]
  },
  {
   "cell_type": "markdown",
   "metadata": {},
   "source": [
    "### Previous Application"
   ]
  },
  {
   "cell_type": "code",
   "execution_count": 148,
   "metadata": {},
   "outputs": [
    {
     "data": {
      "text/html": [
       "<div>\n",
       "<style scoped>\n",
       "    .dataframe tbody tr th:only-of-type {\n",
       "        vertical-align: middle;\n",
       "    }\n",
       "\n",
       "    .dataframe tbody tr th {\n",
       "        vertical-align: top;\n",
       "    }\n",
       "\n",
       "    .dataframe thead th {\n",
       "        text-align: right;\n",
       "    }\n",
       "</style>\n",
       "<table border=\"1\" class=\"dataframe\">\n",
       "  <thead>\n",
       "    <tr style=\"text-align: right;\">\n",
       "      <th></th>\n",
       "      <th>SK_ID_PREV</th>\n",
       "      <th>SK_ID_CURR</th>\n",
       "      <th>NAME_CONTRACT_TYPE</th>\n",
       "      <th>AMT_ANNUITY</th>\n",
       "      <th>AMT_APPLICATION</th>\n",
       "      <th>AMT_CREDIT</th>\n",
       "      <th>AMT_DOWN_PAYMENT</th>\n",
       "      <th>AMT_GOODS_PRICE</th>\n",
       "      <th>WEEKDAY_APPR_PROCESS_START</th>\n",
       "      <th>HOUR_APPR_PROCESS_START</th>\n",
       "      <th>...</th>\n",
       "      <th>NAME_SELLER_INDUSTRY</th>\n",
       "      <th>CNT_PAYMENT</th>\n",
       "      <th>NAME_YIELD_GROUP</th>\n",
       "      <th>PRODUCT_COMBINATION</th>\n",
       "      <th>DAYS_FIRST_DRAWING</th>\n",
       "      <th>DAYS_FIRST_DUE</th>\n",
       "      <th>DAYS_LAST_DUE_1ST_VERSION</th>\n",
       "      <th>DAYS_LAST_DUE</th>\n",
       "      <th>DAYS_TERMINATION</th>\n",
       "      <th>NFLAG_INSURED_ON_APPROVAL</th>\n",
       "    </tr>\n",
       "  </thead>\n",
       "  <tbody>\n",
       "    <tr>\n",
       "      <th>0</th>\n",
       "      <td>2030495</td>\n",
       "      <td>271877</td>\n",
       "      <td>Consumer loans</td>\n",
       "      <td>1730.430</td>\n",
       "      <td>17145.0</td>\n",
       "      <td>17145.0</td>\n",
       "      <td>0.0</td>\n",
       "      <td>17145.0</td>\n",
       "      <td>SATURDAY</td>\n",
       "      <td>15</td>\n",
       "      <td>...</td>\n",
       "      <td>Connectivity</td>\n",
       "      <td>12.0</td>\n",
       "      <td>middle</td>\n",
       "      <td>POS mobile with interest</td>\n",
       "      <td>365243.0</td>\n",
       "      <td>-42.0</td>\n",
       "      <td>300.0</td>\n",
       "      <td>-42.0</td>\n",
       "      <td>-37.0</td>\n",
       "      <td>0.0</td>\n",
       "    </tr>\n",
       "    <tr>\n",
       "      <th>1</th>\n",
       "      <td>2802425</td>\n",
       "      <td>108129</td>\n",
       "      <td>Cash loans</td>\n",
       "      <td>25188.615</td>\n",
       "      <td>607500.0</td>\n",
       "      <td>679671.0</td>\n",
       "      <td>NaN</td>\n",
       "      <td>607500.0</td>\n",
       "      <td>THURSDAY</td>\n",
       "      <td>11</td>\n",
       "      <td>...</td>\n",
       "      <td>XNA</td>\n",
       "      <td>36.0</td>\n",
       "      <td>low_action</td>\n",
       "      <td>Cash X-Sell: low</td>\n",
       "      <td>365243.0</td>\n",
       "      <td>-134.0</td>\n",
       "      <td>916.0</td>\n",
       "      <td>365243.0</td>\n",
       "      <td>365243.0</td>\n",
       "      <td>1.0</td>\n",
       "    </tr>\n",
       "    <tr>\n",
       "      <th>2</th>\n",
       "      <td>2523466</td>\n",
       "      <td>122040</td>\n",
       "      <td>Cash loans</td>\n",
       "      <td>15060.735</td>\n",
       "      <td>112500.0</td>\n",
       "      <td>136444.5</td>\n",
       "      <td>NaN</td>\n",
       "      <td>112500.0</td>\n",
       "      <td>TUESDAY</td>\n",
       "      <td>11</td>\n",
       "      <td>...</td>\n",
       "      <td>XNA</td>\n",
       "      <td>12.0</td>\n",
       "      <td>high</td>\n",
       "      <td>Cash X-Sell: high</td>\n",
       "      <td>365243.0</td>\n",
       "      <td>-271.0</td>\n",
       "      <td>59.0</td>\n",
       "      <td>365243.0</td>\n",
       "      <td>365243.0</td>\n",
       "      <td>1.0</td>\n",
       "    </tr>\n",
       "    <tr>\n",
       "      <th>3</th>\n",
       "      <td>2819243</td>\n",
       "      <td>176158</td>\n",
       "      <td>Cash loans</td>\n",
       "      <td>47041.335</td>\n",
       "      <td>450000.0</td>\n",
       "      <td>470790.0</td>\n",
       "      <td>NaN</td>\n",
       "      <td>450000.0</td>\n",
       "      <td>MONDAY</td>\n",
       "      <td>7</td>\n",
       "      <td>...</td>\n",
       "      <td>XNA</td>\n",
       "      <td>12.0</td>\n",
       "      <td>middle</td>\n",
       "      <td>Cash X-Sell: middle</td>\n",
       "      <td>365243.0</td>\n",
       "      <td>-482.0</td>\n",
       "      <td>-152.0</td>\n",
       "      <td>-182.0</td>\n",
       "      <td>-177.0</td>\n",
       "      <td>1.0</td>\n",
       "    </tr>\n",
       "    <tr>\n",
       "      <th>4</th>\n",
       "      <td>1784265</td>\n",
       "      <td>202054</td>\n",
       "      <td>Cash loans</td>\n",
       "      <td>31924.395</td>\n",
       "      <td>337500.0</td>\n",
       "      <td>404055.0</td>\n",
       "      <td>NaN</td>\n",
       "      <td>337500.0</td>\n",
       "      <td>THURSDAY</td>\n",
       "      <td>9</td>\n",
       "      <td>...</td>\n",
       "      <td>XNA</td>\n",
       "      <td>24.0</td>\n",
       "      <td>high</td>\n",
       "      <td>Cash Street: high</td>\n",
       "      <td>NaN</td>\n",
       "      <td>NaN</td>\n",
       "      <td>NaN</td>\n",
       "      <td>NaN</td>\n",
       "      <td>NaN</td>\n",
       "      <td>NaN</td>\n",
       "    </tr>\n",
       "  </tbody>\n",
       "</table>\n",
       "<p>5 rows × 37 columns</p>\n",
       "</div>"
      ],
      "text/plain": [
       "   SK_ID_PREV  SK_ID_CURR NAME_CONTRACT_TYPE  AMT_ANNUITY  AMT_APPLICATION  \\\n",
       "0     2030495      271877     Consumer loans     1730.430          17145.0   \n",
       "1     2802425      108129         Cash loans    25188.615         607500.0   \n",
       "2     2523466      122040         Cash loans    15060.735         112500.0   \n",
       "3     2819243      176158         Cash loans    47041.335         450000.0   \n",
       "4     1784265      202054         Cash loans    31924.395         337500.0   \n",
       "\n",
       "   AMT_CREDIT  AMT_DOWN_PAYMENT  AMT_GOODS_PRICE WEEKDAY_APPR_PROCESS_START  \\\n",
       "0     17145.0               0.0          17145.0                   SATURDAY   \n",
       "1    679671.0               NaN         607500.0                   THURSDAY   \n",
       "2    136444.5               NaN         112500.0                    TUESDAY   \n",
       "3    470790.0               NaN         450000.0                     MONDAY   \n",
       "4    404055.0               NaN         337500.0                   THURSDAY   \n",
       "\n",
       "   HOUR_APPR_PROCESS_START  ... NAME_SELLER_INDUSTRY  CNT_PAYMENT  \\\n",
       "0                       15  ...         Connectivity         12.0   \n",
       "1                       11  ...                  XNA         36.0   \n",
       "2                       11  ...                  XNA         12.0   \n",
       "3                        7  ...                  XNA         12.0   \n",
       "4                        9  ...                  XNA         24.0   \n",
       "\n",
       "   NAME_YIELD_GROUP       PRODUCT_COMBINATION  DAYS_FIRST_DRAWING  \\\n",
       "0            middle  POS mobile with interest            365243.0   \n",
       "1        low_action          Cash X-Sell: low            365243.0   \n",
       "2              high         Cash X-Sell: high            365243.0   \n",
       "3            middle       Cash X-Sell: middle            365243.0   \n",
       "4              high         Cash Street: high                 NaN   \n",
       "\n",
       "  DAYS_FIRST_DUE DAYS_LAST_DUE_1ST_VERSION  DAYS_LAST_DUE DAYS_TERMINATION  \\\n",
       "0          -42.0                     300.0          -42.0            -37.0   \n",
       "1         -134.0                     916.0       365243.0         365243.0   \n",
       "2         -271.0                      59.0       365243.0         365243.0   \n",
       "3         -482.0                    -152.0         -182.0           -177.0   \n",
       "4            NaN                       NaN            NaN              NaN   \n",
       "\n",
       "  NFLAG_INSURED_ON_APPROVAL  \n",
       "0                       0.0  \n",
       "1                       1.0  \n",
       "2                       1.0  \n",
       "3                       1.0  \n",
       "4                       NaN  \n",
       "\n",
       "[5 rows x 37 columns]"
      ]
     },
     "execution_count": 148,
     "metadata": {},
     "output_type": "execute_result"
    }
   ],
   "source": [
    "prev_app = pd.read_csv('previous_application.csv')\n",
    "prev_app.head()"
   ]
  },
  {
   "cell_type": "code",
   "execution_count": 149,
   "metadata": {},
   "outputs": [
    {
     "data": {
      "text/plain": [
       "(1670214, 37)"
      ]
     },
     "execution_count": 149,
     "metadata": {},
     "output_type": "execute_result"
    }
   ],
   "source": [
    "prev_app.shape"
   ]
  },
  {
   "cell_type": "markdown",
   "metadata": {},
   "source": [
    "#### There might be duplicate values in 'SK_ID_PREV'"
   ]
  },
  {
   "cell_type": "markdown",
   "metadata": {},
   "source": [
    "Merging the dataframe: df_app and previous application based on SK_ID_PREV"
   ]
  },
  {
   "cell_type": "code",
   "execution_count": 150,
   "metadata": {},
   "outputs": [],
   "source": [
    "prev_train = df_app.merge(prev_app, left_on='SK_ID_CURR', right_on='SK_ID_CURR', how='inner')"
   ]
  },
  {
   "cell_type": "code",
   "execution_count": 151,
   "metadata": {},
   "outputs": [
    {
     "data": {
      "text/plain": [
       "array(['SK_ID_PREV', 'SK_ID_CURR', 'NAME_CONTRACT_TYPE', 'AMT_ANNUITY',\n",
       "       'AMT_APPLICATION', 'AMT_CREDIT', 'AMT_DOWN_PAYMENT',\n",
       "       'AMT_GOODS_PRICE', 'WEEKDAY_APPR_PROCESS_START',\n",
       "       'HOUR_APPR_PROCESS_START', 'FLAG_LAST_APPL_PER_CONTRACT',\n",
       "       'NFLAG_LAST_APPL_IN_DAY', 'RATE_DOWN_PAYMENT',\n",
       "       'RATE_INTEREST_PRIMARY', 'RATE_INTEREST_PRIVILEGED',\n",
       "       'NAME_CASH_LOAN_PURPOSE', 'NAME_CONTRACT_STATUS', 'DAYS_DECISION',\n",
       "       'NAME_PAYMENT_TYPE', 'CODE_REJECT_REASON', 'NAME_TYPE_SUITE',\n",
       "       'NAME_CLIENT_TYPE', 'NAME_GOODS_CATEGORY', 'NAME_PORTFOLIO',\n",
       "       'NAME_PRODUCT_TYPE', 'CHANNEL_TYPE', 'SELLERPLACE_AREA',\n",
       "       'NAME_SELLER_INDUSTRY', 'CNT_PAYMENT', 'NAME_YIELD_GROUP',\n",
       "       'PRODUCT_COMBINATION', 'DAYS_FIRST_DRAWING', 'DAYS_FIRST_DUE',\n",
       "       'DAYS_LAST_DUE_1ST_VERSION', 'DAYS_LAST_DUE', 'DAYS_TERMINATION',\n",
       "       'NFLAG_INSURED_ON_APPROVAL'], dtype=object)"
      ]
     },
     "execution_count": 151,
     "metadata": {},
     "output_type": "execute_result"
    }
   ],
   "source": [
    "prev_app.columns.values"
   ]
  },
  {
   "cell_type": "markdown",
   "metadata": {},
   "source": [
    "## Conclusions"
   ]
  },
  {
   "cell_type": "markdown",
   "metadata": {},
   "source": [
    "#### 1. Banks should focus more on contract type ‘Student’ ,’Pensioner’ and ‘Businessman’ with housing ‘type other than ‘Co-op apartment’ for successful payments.\n"
   ]
  },
  {
   "cell_type": "markdown",
   "metadata": {},
   "source": [
    "#### 2. Banks should avoid people from the category of 'working' as they have the highest defaulting rates. "
   ]
  },
  {
   "cell_type": "markdown",
   "metadata": {},
   "source": [
    "#### 3. Banks should focus more on clients from housing type ‘With parents’ as they are having least number of unsuccessful payments. "
   ]
  },
  {
   "cell_type": "markdown",
   "metadata": {},
   "source": [
    "#### 4. Banks should focus more on gender 'male' as they are more likely for succesful payments. "
   ]
  },
  {
   "cell_type": "code",
   "execution_count": null,
   "metadata": {},
   "outputs": [],
   "source": []
  }
 ],
 "metadata": {
  "kernelspec": {
   "display_name": "Python 3",
   "language": "python",
   "name": "python3"
  },
  "language_info": {
   "codemirror_mode": {
    "name": "ipython",
    "version": 3
   },
   "file_extension": ".py",
   "mimetype": "text/x-python",
   "name": "python",
   "nbconvert_exporter": "python",
   "pygments_lexer": "ipython3",
   "version": "3.8.5"
  }
 },
 "nbformat": 4,
 "nbformat_minor": 4
}
